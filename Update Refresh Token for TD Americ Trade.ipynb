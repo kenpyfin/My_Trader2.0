{
 "cells": [
  {
   "cell_type": "markdown",
   "metadata": {},
   "source": [
    "## Update Refresh Tokens"
   ]
  },
  {
   "cell_type": "code",
   "execution_count": 1,
   "metadata": {},
   "outputs": [
    {
     "name": "stderr",
     "output_type": "stream",
     "text": [
      "/Users/ken/.local/lib/python3.8/site-packages/pyfolio/pos.py:26: UserWarning: Module \"zipline.assets\" not found; mutltipliers will not be applied to position notionals.\n",
      "  warnings.warn(\n"
     ]
    }
   ],
   "source": [
    "from my_libs_py3 import *\n",
    "def authentication(client_id, redirect_uri, tdauser=None, tdapass=None):\n",
    "    from selenium import webdriver as se\n",
    "    # import selenium\n",
    "    client_id = client_id + '@AMER.OAUTHAP'\n",
    "    url = 'https://auth.tdameritrade.com/auth?response_type=code&redirect_uri=' +  urllib.parse.quote(redirect_uri) + '&client_id=' + urllib.parse.quote(client_id)\n",
    "    return url"
   ]
  },
  {
   "cell_type": "code",
   "execution_count": 27,
   "metadata": {},
   "outputs": [
    {
     "data": {
      "text/plain": [
       "'https://auth.tdameritrade.com/auth?response_type=code&redirect_uri=http%3A//localhost&client_id=QV4XBB76GOYNVORVOBPMN3PKZFURM0VZ%40AMER.OAUTHAP'"
      ]
     },
     "execution_count": 27,
     "metadata": {},
     "output_type": "execute_result"
    }
   ],
   "source": [
    "authentication(client_id=\"QV4XBB76GOYNVORVOBPMN3PKZFURM0VZ\",redirect_uri='http://localhost',tdauser=\"lgyhz1234@gmail.com\", tdapass=\"Lgyhz!@3\")"
   ]
  },
  {
   "cell_type": "markdown",
   "metadata": {},
   "source": [
    "### Copy the above url to brower"
   ]
  },
  {
   "cell_type": "markdown",
   "metadata": {},
   "source": [
    "after the authentication copy the session after \"code=\" to the following"
   ]
  },
  {
   "cell_type": "code",
   "execution_count": 37,
   "metadata": {},
   "outputs": [],
   "source": [
    "code = \"J49EQIIu6Wxeks1DiDiTvyI0LhiTkqUj2ylqhxz%2F1J0stdcrk7AzzCq8NR5b34oxQYfwpifbH%2Bcc39pphBBcoWKLcgRE8GFGc5v5I0fKSrfmAusPlAZrswt50HWQA7XXfB9JO60OD7%2Fo%2FF6%2FvWRLftQ4KtJwFOQoj%2BIVA1SJLWmzw3zm8JNepJWWyPEEPPLTCrwrKnTDN399eIdtgG2AS6X4MtXWUvs0lxMzeA%2Blacfq8uwmNXqJoVNthZ2rX%2FhchDomSqdRpCQKTtHtU8h9RnB1jlDpNPXoE2picDE1GdVjeaABBIdvHFlAzUtau2LskJ%2FqsW%2FShgX9wmljXsIKWZLdVkBs8csn5AWiR2wpuebRgWDHFJxs%2BRK9s1DDkMZ9VA3RlIF1FnGguJHNZ0TeiGJ%2BRGz3gnPQ3fB%2FEeVkay5uUJPba8hrodKQGMd100MQuG4LYrgoVi%2FJHHvl3MMLPxtaFGpVllOjPw7cSrF07dy604R823QsqT6TkxNn2TopTvQcILVaz%2Bthawub58kXQ%2FE%2BXqf%2F7PhcQ1m7XQpdFNgWJbsudS1ci7b%2BQ2qz1fGH0gJD7qFE3DdmzEJbh4iK1nyaqZx1f89x%2BpSdnm8irc1fWB82603vkHv9jtd%2Fi8A8pq3XSOKVphbPXfilMYqRDlhp6IA3UV8Ed5M2IGrCWYm43GneRUSCtQyv8hrIh6vEqAZxx0vrS%2BGUASTII4UPFYW%2F%2B%2BtsHE7hJi3ILNUDj8mL7sVfXIBgmo89E2RRn7GQeWGNRfg7utMYLp32RWf5CuFBlrO6sHYAUISguSQ3MMC6bZtCwHzAxIsul%2BSCkyrg7gdRcZ%2F%2FJXt1sKeGwKovdSl8QbXFjEE7dGasnHtuTraj190JyPR%2F8R0e8ZNaTc1P%2FVC7cKY%2Buw8%3D212FD3x19z9sWBHDJACbC00B75E\""
   ]
  },
  {
   "cell_type": "code",
   "execution_count": 38,
   "metadata": {},
   "outputs": [],
   "source": [
    "code = urllib.parse.unquote(code)"
   ]
  },
  {
   "cell_type": "code",
   "execution_count": 39,
   "metadata": {},
   "outputs": [
    {
     "data": {
      "text/plain": [
       "'J49EQIIu6Wxeks1DiDiTvyI0LhiTkqUj2ylqhxz/1J0stdcrk7AzzCq8NR5b34oxQYfwpifbH+cc39pphBBcoWKLcgRE8GFGc5v5I0fKSrfmAusPlAZrswt50HWQA7XXfB9JO60OD7/o/F6/vWRLftQ4KtJwFOQoj+IVA1SJLWmzw3zm8JNepJWWyPEEPPLTCrwrKnTDN399eIdtgG2AS6X4MtXWUvs0lxMzeA+lacfq8uwmNXqJoVNthZ2rX/hchDomSqdRpCQKTtHtU8h9RnB1jlDpNPXoE2picDE1GdVjeaABBIdvHFlAzUtau2LskJ/qsW/ShgX9wmljXsIKWZLdVkBs8csn5AWiR2wpuebRgWDHFJxs+RK9s1DDkMZ9VA3RlIF1FnGguJHNZ0TeiGJ+RGz3gnPQ3fB/EeVkay5uUJPba8hrodKQGMd100MQuG4LYrgoVi/JHHvl3MMLPxtaFGpVllOjPw7cSrF07dy604R823QsqT6TkxNn2TopTvQcILVaz+thawub58kXQ/E+Xqf/7PhcQ1m7XQpdFNgWJbsudS1ci7b+Q2qz1fGH0gJD7qFE3DdmzEJbh4iK1nyaqZx1f89x+pSdnm8irc1fWB82603vkHv9jtd/i8A8pq3XSOKVphbPXfilMYqRDlhp6IA3UV8Ed5M2IGrCWYm43GneRUSCtQyv8hrIh6vEqAZxx0vrS+GUASTII4UPFYW/++tsHE7hJi3ILNUDj8mL7sVfXIBgmo89E2RRn7GQeWGNRfg7utMYLp32RWf5CuFBlrO6sHYAUISguSQ3MMC6bZtCwHzAxIsul+SCkyrg7gdRcZ//JXt1sKeGwKovdSl8QbXFjEE7dGasnHtuTraj190JyPR/8R0e8ZNaTc1P/VC7cKY+uw8=212FD3x19z9sWBHDJACbC00B75E'"
      ]
     },
     "execution_count": 39,
     "metadata": {},
     "output_type": "execute_result"
    }
   ],
   "source": [
    "code"
   ]
  },
  {
   "cell_type": "code",
   "execution_count": 40,
   "metadata": {},
   "outputs": [],
   "source": [
    "client_id=\"QV4XBB76GOYNVORVOBPMN3PKZFURM0VZ\"\n",
    "redirect_uri='http://localhost'\n",
    "resp = requests.post('https://api.tdameritrade.com/v1/oauth2/token',\n",
    "                         headers={'Content-Type': 'application/x-www-form-urlencoded'},\n",
    "                         data={'grant_type': 'authorization_code',\n",
    "                               'refresh_token': '',\n",
    "                               'access_type': 'offline',\n",
    "                               'code': code,\n",
    "                               'client_id': client_id,\n",
    "                               'redirect_uri': redirect_uri})"
   ]
  },
  {
   "cell_type": "code",
   "execution_count": 41,
   "metadata": {},
   "outputs": [
    {
     "data": {
      "text/plain": [
       "'w3bDfY/Kj5Xu5/KskkPtm6Iyomhdzo8SP6NuzA6uJ1JKMLayeexPuha2mUSaMmg059L0T8wLjXHcNNytHF08VvA/yOMFe85Sdysg5rbsb0NkAk7qfpLxhKV3fRJ42DpeHgh4RHzP31rdxep6T0matQMHWi4ywoJSUdZMQbpl92CCQF8yajYmKyukZ0ObKzXzYUgTgkVHPs5xykLf1fZMS8GtmD/X8OExmV8ezU/Q/pLECYUbrGzj2M32P7FJdM6rD+TLVeQ6R1L+Jpl9ZTHeSZrO9WlVM68NNigdNShwgdm2ivhfHREJxGh95xNt6JrqR6PNFUBvfpIL5EKDdPgXiXpZQ/il5GivUG/o3KZe3AKGUSwR2jdxUbYb9fN+98A85hiXfEyJyGg0GMyYtuDTPi2kFEbk7JAePVJ2YfOcf/9MNihwIaTebOfAq+s100MQuG4LYrgoVi/JHHvl+doyGBR7Zj27c845d48dbBL3BTYIGmpXkzdBBSacqXzzlLdKdMPUC6cXjjmyuI8V6PAa5z5+ZRYf8jiRX/eA1QftsfoqZhaj/tFAkEbebVun2tpYpnIuI4Nsq93iGEBp9tlP6eE1x4dFvsmfPd28dePVlVnREmVlXsjhDjwaczWhxKkUcHfIk9K0cl3AMicx5U0CaGT46OrigXPTCBsOlMtL6iwwfu6qk2JUxzhVT3UpXwBMdNYKGlmmc3ngoi/TcS3U2Mjx+whvoMpfnSAEijL5zyAIA5mXORMaEfh/U98llEjvzSrEfHQ3segTNGQxlYcUrZUXOwWCeVRp2j4jp13dq3c16FzMb2QEl9QHkM3NZS7oAo445Wa9Jy4F3PJlK0qR151uemZ7oHTTnbB0RohFrMjhd6YCnFMfmdC6nIah7HBjEfERzzk01UU=212FD3x19z9sWBHDJACbC00B75E'"
      ]
     },
     "execution_count": 41,
     "metadata": {},
     "output_type": "execute_result"
    }
   ],
   "source": [
    "resp.json()[ 'refresh_token']"
   ]
  },
  {
   "cell_type": "markdown",
   "metadata": {},
   "source": [
    "copy to password book"
   ]
  },
  {
   "cell_type": "markdown",
   "metadata": {},
   "source": [
    "## Test"
   ]
  },
  {
   "cell_type": "code",
   "execution_count": 3,
   "metadata": {},
   "outputs": [
    {
     "name": "stderr",
     "output_type": "stream",
     "text": [
      "/Users/ken/notebook/My_Trader2.0/my_libs_py3/tdameritrade/client.py:132: FutureWarning: pandas.io.json.json_normalize is deprecated, use pandas.json_normalize instead\n",
      "  account_dataframes.append(pd.io.json.json_normalize(value))\n"
     ]
    },
    {
     "data": {
      "text/html": [
       "<div>\n",
       "<style scoped>\n",
       "    .dataframe tbody tr th:only-of-type {\n",
       "        vertical-align: middle;\n",
       "    }\n",
       "\n",
       "    .dataframe tbody tr th {\n",
       "        vertical-align: top;\n",
       "    }\n",
       "\n",
       "    .dataframe thead th {\n",
       "        text-align: right;\n",
       "    }\n",
       "</style>\n",
       "<table border=\"1\" class=\"dataframe\">\n",
       "  <thead>\n",
       "    <tr style=\"text-align: right;\">\n",
       "      <th></th>\n",
       "      <th>0</th>\n",
       "    </tr>\n",
       "  </thead>\n",
       "  <tbody>\n",
       "    <tr>\n",
       "      <th>type</th>\n",
       "      <td>MARGIN</td>\n",
       "    </tr>\n",
       "    <tr>\n",
       "      <th>accountId</th>\n",
       "      <td>277216702</td>\n",
       "    </tr>\n",
       "    <tr>\n",
       "      <th>roundTrips</th>\n",
       "      <td>0</td>\n",
       "    </tr>\n",
       "    <tr>\n",
       "      <th>isDayTrader</th>\n",
       "      <td>False</td>\n",
       "    </tr>\n",
       "    <tr>\n",
       "      <th>isClosingOnlyRestricted</th>\n",
       "      <td>False</td>\n",
       "    </tr>\n",
       "    <tr>\n",
       "      <th>...</th>\n",
       "      <td>...</td>\n",
       "    </tr>\n",
       "    <tr>\n",
       "      <th>projectedBalances.dayTradingBuyingPowerCall</th>\n",
       "      <td>0.0000</td>\n",
       "    </tr>\n",
       "    <tr>\n",
       "      <th>projectedBalances.maintenanceCall</th>\n",
       "      <td>0.0000</td>\n",
       "    </tr>\n",
       "    <tr>\n",
       "      <th>projectedBalances.regTCall</th>\n",
       "      <td>0.0000</td>\n",
       "    </tr>\n",
       "    <tr>\n",
       "      <th>projectedBalances.isInCall</th>\n",
       "      <td>False</td>\n",
       "    </tr>\n",
       "    <tr>\n",
       "      <th>projectedBalances.stockBuyingPower</th>\n",
       "      <td>862.3800</td>\n",
       "    </tr>\n",
       "  </tbody>\n",
       "</table>\n",
       "<p>74 rows × 1 columns</p>\n",
       "</div>"
      ],
      "text/plain": [
       "                                                     0\n",
       "type                                            MARGIN\n",
       "accountId                                    277216702\n",
       "roundTrips                                           0\n",
       "isDayTrader                                      False\n",
       "isClosingOnlyRestricted                          False\n",
       "...                                                ...\n",
       "projectedBalances.dayTradingBuyingPowerCall     0.0000\n",
       "projectedBalances.maintenanceCall               0.0000\n",
       "projectedBalances.regTCall                      0.0000\n",
       "projectedBalances.isInCall                       False\n",
       "projectedBalances.stockBuyingPower            862.3800\n",
       "\n",
       "[74 rows x 1 columns]"
      ]
     },
     "execution_count": 3,
     "metadata": {},
     "output_type": "execute_result"
    }
   ],
   "source": [
    "client.accountsDF().T"
   ]
  },
  {
   "cell_type": "code",
   "execution_count": null,
   "metadata": {},
   "outputs": [],
   "source": []
  }
 ],
 "metadata": {
  "kernelspec": {
   "display_name": "Python 3",
   "language": "python",
   "name": "python3"
  },
  "language_info": {
   "codemirror_mode": {
    "name": "ipython",
    "version": 3
   },
   "file_extension": ".py",
   "mimetype": "text/x-python",
   "name": "python",
   "nbconvert_exporter": "python",
   "pygments_lexer": "ipython3",
   "version": "3.8.3"
  }
 },
 "nbformat": 4,
 "nbformat_minor": 4
}
