{
 "cells": [
  {
   "cell_type": "code",
   "execution_count": 25,
   "metadata": {},
   "outputs": [],
   "source": [
    "from statsmodels import api as sm\n",
    "from my_libs_py3 import *\n",
    "import statsmodels.tsa.stattools as ts"
   ]
  },
  {
   "cell_type": "code",
   "execution_count": 23,
   "metadata": {},
   "outputs": [
    {
     "name": "stdout",
     "output_type": "stream",
     "text": [
      "All price data of Close is actually Adj Close\n",
      "Connection Successful\n",
      "No active exception to reraise\n",
      "switching to realtimeday method\n",
      "All price data of Close is actually Adj Close\n",
      "('Finished', '^VIX')\n",
      "('Finished', '^VIX')\n"
     ]
    }
   ],
   "source": [
    "dp = get_price_data([\"^VIX\"],method='day',back_day=20).dropna()"
   ]
  },
  {
   "cell_type": "code",
   "execution_count": 26,
   "metadata": {},
   "outputs": [],
   "source": [
    "cadf = ts.adfuller(dp[\"Close\"])"
   ]
  },
  {
   "cell_type": "code",
   "execution_count": 27,
   "metadata": {},
   "outputs": [
    {
     "data": {
      "text/plain": [
       "(1.6546166348657685,\n",
       " 0.9980125219179061,\n",
       " 4,\n",
       " 7,\n",
       " {'1%': -4.9386902332361515,\n",
       "  '5%': -3.477582857142857,\n",
       "  '10%': -2.8438679591836733},\n",
       " 16.20026292722352)"
      ]
     },
     "execution_count": 27,
     "metadata": {},
     "output_type": "execute_result"
    }
   ],
   "source": [
    "cadf"
   ]
  },
  {
   "cell_type": "code",
   "execution_count": 29,
   "metadata": {
    "collapsed": true
   },
   "outputs": [
    {
     "name": "stdout",
     "output_type": "stream",
     "text": [
      "Help on function adfuller in module statsmodels.tsa.stattools:\n",
      "\n",
      "adfuller(x, maxlag=None, regression='c', autolag='AIC', store=False, regresults=False)\n",
      "    Augmented Dickey-Fuller unit root test.\n",
      "    \n",
      "    The Augmented Dickey-Fuller test can be used to test for a unit root in a\n",
      "    univariate process in the presence of serial correlation.\n",
      "    \n",
      "    Parameters\n",
      "    ----------\n",
      "    x : array_like, 1d\n",
      "        The data series to test.\n",
      "    maxlag : int\n",
      "        Maximum lag which is included in test, default 12*(nobs/100)^{1/4}.\n",
      "    regression : {'c','ct','ctt','nc'}\n",
      "        Constant and trend order to include in regression.\n",
      "    \n",
      "        * 'c' : constant only (default).\n",
      "        * 'ct' : constant and trend.\n",
      "        * 'ctt' : constant, and linear and quadratic trend.\n",
      "        * 'nc' : no constant, no trend.\n",
      "    \n",
      "    autolag : {'AIC', 'BIC', 't-stat', None}\n",
      "        Method to use when automatically determining the lag.\n",
      "    \n",
      "        * if None, then maxlag lags are used.\n",
      "        * if 'AIC' (default) or 'BIC', then the number of lags is chosen\n",
      "          to minimize the corresponding information criterion.\n",
      "        * 't-stat' based choice of maxlag.  Starts with maxlag and drops a\n",
      "          lag until the t-statistic on the last lag length is significant\n",
      "          using a 5%-sized test.\n",
      "    store : bool\n",
      "        If True, then a result instance is returned additionally to\n",
      "        the adf statistic. Default is False.\n",
      "    regresults : bool, optional\n",
      "        If True, the full regression results are returned. Default is False.\n",
      "    \n",
      "    Returns\n",
      "    -------\n",
      "    adf : float\n",
      "        The test statistic.\n",
      "    pvalue : float\n",
      "        MacKinnon's approximate p-value based on MacKinnon (1994, 2010).\n",
      "    usedlag : int\n",
      "        The number of lags used.\n",
      "    nobs : int\n",
      "        The number of observations used for the ADF regression and calculation\n",
      "        of the critical values.\n",
      "    critical values : dict\n",
      "        Critical values for the test statistic at the 1 %, 5 %, and 10 %\n",
      "        levels. Based on MacKinnon (2010).\n",
      "    icbest : float\n",
      "        The maximized information criterion if autolag is not None.\n",
      "    resstore : ResultStore, optional\n",
      "        A dummy class with results attached as attributes.\n",
      "    \n",
      "    Notes\n",
      "    -----\n",
      "    The null hypothesis of the Augmented Dickey-Fuller is that there is a unit\n",
      "    root, with the alternative that there is no unit root. If the pvalue is\n",
      "    above a critical size, then we cannot reject that there is a unit root.\n",
      "    \n",
      "    The p-values are obtained through regression surface approximation from\n",
      "    MacKinnon 1994, but using the updated 2010 tables. If the p-value is close\n",
      "    to significant, then the critical values should be used to judge whether\n",
      "    to reject the null.\n",
      "    \n",
      "    The autolag option and maxlag for it are described in Greene.\n",
      "    \n",
      "    References\n",
      "    ----------\n",
      "    .. [1] W. Green.  \"Econometric Analysis,\" 5th ed., Pearson, 2003.\n",
      "    \n",
      "    .. [2] Hamilton, J.D.  \"Time Series Analysis\".  Princeton, 1994.\n",
      "    \n",
      "    .. [3] MacKinnon, J.G. 1994.  \"Approximate asymptotic distribution functions for\n",
      "        unit-root and cointegration tests.  `Journal of Business and Economic\n",
      "        Statistics` 12, 167-76.\n",
      "    \n",
      "    .. [4] MacKinnon, J.G. 2010. \"Critical Values for Cointegration Tests.\"  Queen's\n",
      "        University, Dept of Economics, Working Papers.  Available at\n",
      "        http://ideas.repec.org/p/qed/wpaper/1227.html\n",
      "    \n",
      "    Examples\n",
      "    --------\n",
      "    See example notebook\n",
      "\n"
     ]
    }
   ],
   "source": [
    "help(ts.adfuller)"
   ]
  },
  {
   "cell_type": "code",
   "execution_count": 20,
   "metadata": {},
   "outputs": [],
   "source": [
    "dp = dp.set_index(\"TimeStamp\")"
   ]
  },
  {
   "cell_type": "code",
   "execution_count": null,
   "metadata": {},
   "outputs": [],
   "source": []
  },
  {
   "cell_type": "code",
   "execution_count": 7,
   "metadata": {},
   "outputs": [
    {
     "name": "stdout",
     "output_type": "stream",
     "text": [
      "All price data of Close is actually Adj Close\n",
      "Connection Successful\n",
      "No active exception to reraise\n",
      "switching to realtimeday method\n",
      "All price data of Close is actually Adj Close\n",
      "('Finished', 'SPY')\n",
      "('Finished', 'SPY')\n"
     ]
    }
   ],
   "source": [
    "spy = get_price_data([\"SPY\"],method='day',back_day=20).dropna().Return.values.astype(float)\n",
    "spy_ = spy*30"
   ]
  },
  {
   "cell_type": "code",
   "execution_count": 8,
   "metadata": {},
   "outputs": [],
   "source": [
    "ip = pd.DataFrame({\"spy\":spy,\"spy_\":spy_})"
   ]
  },
  {
   "cell_type": "code",
   "execution_count": 9,
   "metadata": {},
   "outputs": [
    {
     "data": {
      "text/html": [
       "<div>\n",
       "<style scoped>\n",
       "    .dataframe tbody tr th:only-of-type {\n",
       "        vertical-align: middle;\n",
       "    }\n",
       "\n",
       "    .dataframe tbody tr th {\n",
       "        vertical-align: top;\n",
       "    }\n",
       "\n",
       "    .dataframe thead th {\n",
       "        text-align: right;\n",
       "    }\n",
       "</style>\n",
       "<table border=\"1\" class=\"dataframe\">\n",
       "  <thead>\n",
       "    <tr style=\"text-align: right;\">\n",
       "      <th></th>\n",
       "      <th>spy</th>\n",
       "      <th>spy_</th>\n",
       "    </tr>\n",
       "  </thead>\n",
       "  <tbody>\n",
       "    <tr>\n",
       "      <th>0</th>\n",
       "      <td>0.0159</td>\n",
       "      <td>0.4757</td>\n",
       "    </tr>\n",
       "    <tr>\n",
       "      <th>1</th>\n",
       "      <td>-0.0015</td>\n",
       "      <td>-0.0463</td>\n",
       "    </tr>\n",
       "    <tr>\n",
       "      <th>2</th>\n",
       "      <td>0.0028</td>\n",
       "      <td>0.0833</td>\n",
       "    </tr>\n",
       "    <tr>\n",
       "      <th>3</th>\n",
       "      <td>-0.0044</td>\n",
       "      <td>-0.1334</td>\n",
       "    </tr>\n",
       "    <tr>\n",
       "      <th>4</th>\n",
       "      <td>0.0108</td>\n",
       "      <td>0.3246</td>\n",
       "    </tr>\n",
       "    <tr>\n",
       "      <th>5</th>\n",
       "      <td>0.0021</td>\n",
       "      <td>0.0630</td>\n",
       "    </tr>\n",
       "    <tr>\n",
       "      <th>6</th>\n",
       "      <td>-0.0003</td>\n",
       "      <td>-0.0082</td>\n",
       "    </tr>\n",
       "    <tr>\n",
       "      <th>7</th>\n",
       "      <td>0.0085</td>\n",
       "      <td>0.2563</td>\n",
       "    </tr>\n",
       "    <tr>\n",
       "      <th>8</th>\n",
       "      <td>-0.0021</td>\n",
       "      <td>-0.0618</td>\n",
       "    </tr>\n",
       "    <tr>\n",
       "      <th>9</th>\n",
       "      <td>0.0029</td>\n",
       "      <td>0.0875</td>\n",
       "    </tr>\n",
       "    <tr>\n",
       "      <th>10</th>\n",
       "      <td>-0.0091</td>\n",
       "      <td>-0.2715</td>\n",
       "    </tr>\n",
       "    <tr>\n",
       "      <th>11</th>\n",
       "      <td>-0.0003</td>\n",
       "      <td>-0.0098</td>\n",
       "    </tr>\n",
       "  </tbody>\n",
       "</table>\n",
       "</div>"
      ],
      "text/plain": [
       "       spy    spy_\n",
       "0   0.0159  0.4757\n",
       "1  -0.0015 -0.0463\n",
       "2   0.0028  0.0833\n",
       "3  -0.0044 -0.1334\n",
       "4   0.0108  0.3246\n",
       "5   0.0021  0.0630\n",
       "6  -0.0003 -0.0082\n",
       "7   0.0085  0.2563\n",
       "8  -0.0021 -0.0618\n",
       "9   0.0029  0.0875\n",
       "10 -0.0091 -0.2715\n",
       "11 -0.0003 -0.0098"
      ]
     },
     "execution_count": 9,
     "metadata": {},
     "output_type": "execute_result"
    }
   ],
   "source": [
    "ip"
   ]
  },
  {
   "cell_type": "code",
   "execution_count": 16,
   "metadata": {},
   "outputs": [],
   "source": [
    "ip = sm.add_constant(ip)"
   ]
  },
  {
   "cell_type": "code",
   "execution_count": 17,
   "metadata": {
    "collapsed": true
   },
   "outputs": [
    {
     "data": {
      "text/html": [
       "<table class=\"simpletable\">\n",
       "<caption>OLS Regression Results</caption>\n",
       "<tr>\n",
       "  <th>Dep. Variable:</th>            <td>y</td>        <th>  R-squared:         </th> <td>   0.421</td>\n",
       "</tr>\n",
       "<tr>\n",
       "  <th>Model:</th>                   <td>OLS</td>       <th>  Adj. R-squared:    </th> <td>   0.363</td>\n",
       "</tr>\n",
       "<tr>\n",
       "  <th>Method:</th>             <td>Least Squares</td>  <th>  F-statistic:       </th> <td>   7.278</td>\n",
       "</tr>\n",
       "<tr>\n",
       "  <th>Date:</th>             <td>Sun, 13 Dec 2020</td> <th>  Prob (F-statistic):</th>  <td>0.0224</td> \n",
       "</tr>\n",
       "<tr>\n",
       "  <th>Time:</th>                 <td>23:55:04</td>     <th>  Log-Likelihood:    </th> <td>  28.315</td>\n",
       "</tr>\n",
       "<tr>\n",
       "  <th>No. Observations:</th>      <td>    12</td>      <th>  AIC:               </th> <td>  -52.63</td>\n",
       "</tr>\n",
       "<tr>\n",
       "  <th>Df Residuals:</th>          <td>    10</td>      <th>  BIC:               </th> <td>  -51.66</td>\n",
       "</tr>\n",
       "<tr>\n",
       "  <th>Df Model:</th>              <td>     1</td>      <th>                     </th>     <td> </td>   \n",
       "</tr>\n",
       "<tr>\n",
       "  <th>Covariance Type:</th>      <td>nonrobust</td>    <th>                     </th>     <td> </td>   \n",
       "</tr>\n",
       "</table>\n",
       "<table class=\"simpletable\">\n",
       "<tr>\n",
       "    <td></td>       <th>coef</th>     <th>std err</th>      <th>t</th>      <th>P>|t|</th>  <th>[0.025</th>    <th>0.975]</th>  \n",
       "</tr>\n",
       "<tr>\n",
       "  <th>const</th> <td>    0.0053</td> <td>    0.008</td> <td>    0.697</td> <td> 0.502</td> <td>   -0.012</td> <td>    0.022</td>\n",
       "</tr>\n",
       "<tr>\n",
       "  <th>spy</th>   <td>   -0.0033</td> <td>    0.001</td> <td>   -2.698</td> <td> 0.022</td> <td>   -0.006</td> <td>   -0.001</td>\n",
       "</tr>\n",
       "<tr>\n",
       "  <th>spy_</th>  <td>   -0.0989</td> <td>    0.037</td> <td>   -2.698</td> <td> 0.022</td> <td>   -0.181</td> <td>   -0.017</td>\n",
       "</tr>\n",
       "</table>\n",
       "<table class=\"simpletable\">\n",
       "<tr>\n",
       "  <th>Omnibus:</th>       <td> 0.759</td> <th>  Durbin-Watson:     </th> <td>   2.159</td>\n",
       "</tr>\n",
       "<tr>\n",
       "  <th>Prob(Omnibus):</th> <td> 0.684</td> <th>  Jarque-Bera (JB):  </th> <td>   0.669</td>\n",
       "</tr>\n",
       "<tr>\n",
       "  <th>Skew:</th>          <td> 0.286</td> <th>  Prob(JB):          </th> <td>   0.716</td>\n",
       "</tr>\n",
       "<tr>\n",
       "  <th>Kurtosis:</th>      <td> 1.995</td> <th>  Cond. No.          </th> <td>8.74e+17</td>\n",
       "</tr>\n",
       "</table><br/><br/>Warnings:<br/>[1] Standard Errors assume that the covariance matrix of the errors is correctly specified.<br/>[2] The smallest eigenvalue is 1.58e-35. This might indicate that there are<br/>strong multicollinearity problems or that the design matrix is singular."
      ],
      "text/plain": [
       "<class 'statsmodels.iolib.summary.Summary'>\n",
       "\"\"\"\n",
       "                            OLS Regression Results                            \n",
       "==============================================================================\n",
       "Dep. Variable:                      y   R-squared:                       0.421\n",
       "Model:                            OLS   Adj. R-squared:                  0.363\n",
       "Method:                 Least Squares   F-statistic:                     7.278\n",
       "Date:                Sun, 13 Dec 2020   Prob (F-statistic):             0.0224\n",
       "Time:                        23:55:04   Log-Likelihood:                 28.315\n",
       "No. Observations:                  12   AIC:                            -52.63\n",
       "Df Residuals:                      10   BIC:                            -51.66\n",
       "Df Model:                           1                                         \n",
       "Covariance Type:            nonrobust                                         \n",
       "==============================================================================\n",
       "                 coef    std err          t      P>|t|      [0.025      0.975]\n",
       "------------------------------------------------------------------------------\n",
       "const          0.0053      0.008      0.697      0.502      -0.012       0.022\n",
       "spy           -0.0033      0.001     -2.698      0.022      -0.006      -0.001\n",
       "spy_          -0.0989      0.037     -2.698      0.022      -0.181      -0.017\n",
       "==============================================================================\n",
       "Omnibus:                        0.759   Durbin-Watson:                   2.159\n",
       "Prob(Omnibus):                  0.684   Jarque-Bera (JB):                0.669\n",
       "Skew:                           0.286   Prob(JB):                        0.716\n",
       "Kurtosis:                       1.995   Cond. No.                     8.74e+17\n",
       "==============================================================================\n",
       "\n",
       "Warnings:\n",
       "[1] Standard Errors assume that the covariance matrix of the errors is correctly specified.\n",
       "[2] The smallest eigenvalue is 1.58e-35. This might indicate that there are\n",
       "strong multicollinearity problems or that the design matrix is singular.\n",
       "\"\"\""
      ]
     },
     "execution_count": 17,
     "metadata": {},
     "output_type": "execute_result"
    }
   ],
   "source": [
    "sm.OLS(dp,ip).fit().summary()"
   ]
  },
  {
   "cell_type": "code",
   "execution_count": null,
   "metadata": {},
   "outputs": [],
   "source": []
  },
  {
   "cell_type": "code",
   "execution_count": 21,
   "metadata": {},
   "outputs": [
    {
     "name": "stderr",
     "output_type": "stream",
     "text": [
      "UsageError: unrecognized arguments: # needed for jupyter notebooks\n"
     ]
    }
   ],
   "source": [
    "import numpy as np\n",
    "import pandas as pd\n",
    "import matplotlib.pyplot as plt\n",
    "\n",
    "# %matplotlib inline # needed for jupyter notebooks\n",
    "\n",
    "plt.rcParams['figure.figsize']=(20,10) # set the figure size\n",
    "plt.style.use('fivethirtyeight') # using the fivethirtyeight matplotlib theme\n",
    "\n",
    "sales = pd.read_csv('examples/sales.csv') # Read the data in\n",
    "sales.Date = pd.to_datetime(sales.Date) #set the date column to datetime\n",
    "sales.set_index('Date', inplace=True) #set the index to the date column\n",
    "\n",
    "# now the hack for the multi-colored bar chart: \n",
    "# create fiscal year dataframes covering the timeframes you are looking for. In this case,\n",
    "# the fiscal year covered October - September.\n",
    "# --------------------------------------------------------------------------------\n",
    "# Note: This should be set up as a function, but for this small amount of data,\n",
    "# I just manually built each fiscal year. This is not very pythonic and would\n",
    "# suck to do if you have many years of data, but it isn't bad for a few years of data. \n",
    "# --------------------------------------------------------------------------------\n",
    "\n",
    "fy10_all = sales[(sales.index >= '2009-10-01') & (sales.index < '2010-10-01')]\n",
    "fy11_all = sales[(sales.index >= '2010-10-01') & (sales.index < '2011-10-01')]\n",
    "fy12_all = sales[(sales.index >= '2011-10-01') & (sales.index < '2012-10-01')]\n",
    "fy13_all = sales[(sales.index >= '2012-10-01') & (sales.index < '2013-10-01')]\n",
    "fy14_all = sales[(sales.index >= '2013-10-01') & (sales.index < '2014-10-01')]\n",
    "fy15_all = sales[(sales.index >= '2014-10-01') & (sales.index < '2015-10-01')]\n",
    "\n",
    "# Let's build our plot\n",
    "\n",
    "fig, ax1 = plt.subplots()\n",
    "ax2 = ax1.twinx()  # set up the 2nd axis\n",
    "ax1.plot(sales.Sales_Dollars) #plot the Revenue on axis #1\n",
    "\n",
    "# the next few lines plot the fiscal year data as bar plots and changes the color for each.\n",
    "ax2.bar(fy10_all.index, fy10_all.Quantity,width=20, alpha=0.2, color='orange')\n",
    "ax2.bar(fy11_all.index, fy11_all.Quantity,width=20, alpha=0.2, color='gray')\n",
    "ax2.bar(fy12_all.index, fy12_all.Quantity,width=20, alpha=0.2, color='orange')\n",
    "ax2.bar(fy13_all.index, fy13_all.Quantity,width=20, alpha=0.2, color='gray')\n",
    "ax2.bar(fy14_all.index, fy14_all.Quantity,width=20, alpha=0.2, color='orange')\n",
    "ax2.bar(fy15_all.index, fy15_all.Quantity,width=20, alpha=0.2, color='gray')\n",
    "\n",
    "ax2.grid(b=False) # turn off grid #2\n",
    "\n",
    "ax1.set_title('Monthly Sales Revenue vs Number of Items Sold Per Month')\n",
    "ax1.set_ylabel('Monthly Sales Revenue')\n",
    "ax2.set_ylabel('Number of Items Sold')\n",
    "\n",
    "# Set the x-axis labels to be more meaningful than just some random dates.\n",
    "labels = ['FY 2010', 'FY 2011','FY 2012', 'FY 2013','FY 2014', 'FY 2015']\n",
    "ax1.axes.set_xticklabels(labels)"
   ]
  },
  {
   "cell_type": "code",
   "execution_count": null,
   "metadata": {},
   "outputs": [],
   "source": []
  },
  {
   "cell_type": "markdown",
   "metadata": {},
   "source": [
    "# Plotly"
   ]
  },
  {
   "cell_type": "code",
   "execution_count": 8,
   "metadata": {},
   "outputs": [],
   "source": [
    "from plotly import offline  as pyo\n",
    "from plotly import graph_objs as go"
   ]
  },
  {
   "cell_type": "code",
   "execution_count": null,
   "metadata": {},
   "outputs": [],
   "source": [
    "import numpy as np\n",
    "\n",
    "np.random.seed(42)\n",
    "random_x = np.random.randint(1,101,100)\n",
    "random_y = np.random.randint(1,101,100)\n",
    "\n",
    "data = [go.Scatter(\n",
    "    x = random_x,\n",
    "    y = random_y,\n",
    "    mode = 'markers',\n",
    ")]\n",
    "layout = go.Layout(\n",
    "    title = 'Random Data Scatterplot', # Graph title\n",
    "    xaxis = dict(title = 'Some random x-values'), # x-axis label\n",
    "    yaxis = dict(title = 'Some random y-values'), # y-axis label\n",
    "    hovermode ='closest' # handles multiple points landing on the same vertical\n",
    ")\n",
    "fig = go.Figure(data=data, layout=layout)\n",
    "pyo.plot(fig, filename='scatter2.html')"
   ]
  },
  {
   "cell_type": "code",
   "execution_count": null,
   "metadata": {},
   "outputs": [],
   "source": []
  },
  {
   "cell_type": "code",
   "execution_count": null,
   "metadata": {},
   "outputs": [],
   "source": []
  },
  {
   "cell_type": "code",
   "execution_count": null,
   "metadata": {},
   "outputs": [],
   "source": []
  },
  {
   "cell_type": "code",
   "execution_count": null,
   "metadata": {},
   "outputs": [],
   "source": []
  },
  {
   "cell_type": "code",
   "execution_count": null,
   "metadata": {},
   "outputs": [],
   "source": []
  }
 ],
 "metadata": {
  "kernelspec": {
   "display_name": "Python 3",
   "language": "python",
   "name": "python3"
  },
  "language_info": {
   "codemirror_mode": {
    "name": "ipython",
    "version": 3
   },
   "file_extension": ".py",
   "mimetype": "text/x-python",
   "name": "python",
   "nbconvert_exporter": "python",
   "pygments_lexer": "ipython3",
   "version": "3.8.3"
  }
 },
 "nbformat": 4,
 "nbformat_minor": 4
}
