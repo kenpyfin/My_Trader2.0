{
 "cells": [
  {
   "cell_type": "code",
   "execution_count": 1,
   "metadata": {
    "scrolled": true
   },
   "outputs": [
    {
     "name": "stderr",
     "output_type": "stream",
     "text": [
      "/home/ken/.local/lib/python2.7/site-packages/pyfolio/pos.py:28: UserWarning: Module \"zipline.assets\" not found; mutltipliers will not be applied to position notionals.\n",
      "  ' to position notionals.'\n"
     ]
    }
   ],
   "source": [
    "from my_libs import *\n"
   ]
  },
  {
   "cell_type": "code",
   "execution_count": 3,
   "metadata": {},
   "outputs": [],
   "source": [
    "robinhood = robingateway()"
   ]
  },
  {
   "cell_type": "code",
   "execution_count": 6,
   "metadata": {},
   "outputs": [],
   "source": [
    "oppos = robinhood.get_option_positions()"
   ]
  },
  {
   "cell_type": "code",
   "execution_count": 7,
   "metadata": {},
   "outputs": [
    {
     "data": {
      "text/html": [
       "<div>\n",
       "<style scoped>\n",
       "    .dataframe tbody tr th:only-of-type {\n",
       "        vertical-align: middle;\n",
       "    }\n",
       "\n",
       "    .dataframe tbody tr th {\n",
       "        vertical-align: top;\n",
       "    }\n",
       "\n",
       "    .dataframe thead th {\n",
       "        text-align: right;\n",
       "    }\n",
       "</style>\n",
       "<table border=\"1\" class=\"dataframe\">\n",
       "  <thead>\n",
       "    <tr style=\"text-align: right;\">\n",
       "      <th></th>\n",
       "      <th>average_price</th>\n",
       "      <th>chain_symbol</th>\n",
       "      <th>quantity</th>\n",
       "      <th>updated_at</th>\n",
       "      <th>pending_expiration_quantity</th>\n",
       "      <th>ask_price</th>\n",
       "      <th>bid_price</th>\n",
       "      <th>mark_price</th>\n",
       "      <th>chance_of_profit_long</th>\n",
       "      <th>chance_of_profit_short</th>\n",
       "      <th>delta</th>\n",
       "      <th>gamma</th>\n",
       "      <th>implied_volatility</th>\n",
       "      <th>previous_close_date</th>\n",
       "    </tr>\n",
       "  </thead>\n",
       "  <tbody>\n",
       "    <tr>\n",
       "      <th>0</th>\n",
       "      <td>190.0000</td>\n",
       "      <td>SPY</td>\n",
       "      <td>1.0000</td>\n",
       "      <td>2020-05-26T19:31:21.523900Z</td>\n",
       "      <td>0.0000</td>\n",
       "      <td>0.990000</td>\n",
       "      <td>0.950000</td>\n",
       "      <td>0.970000</td>\n",
       "      <td>0.130592</td>\n",
       "      <td>0.869408</td>\n",
       "      <td>-0.136938</td>\n",
       "      <td>0.016005</td>\n",
       "      <td>0.271951</td>\n",
       "      <td>2020-05-28</td>\n",
       "    </tr>\n",
       "    <tr>\n",
       "      <th>1</th>\n",
       "      <td>-104.0000</td>\n",
       "      <td>SPY</td>\n",
       "      <td>1.0000</td>\n",
       "      <td>2020-05-26T19:31:21.512183Z</td>\n",
       "      <td>0.0000</td>\n",
       "      <td>1.550000</td>\n",
       "      <td>1.460000</td>\n",
       "      <td>1.505000</td>\n",
       "      <td>0.213705</td>\n",
       "      <td>0.786295</td>\n",
       "      <td>0.273794</td>\n",
       "      <td>0.036546</td>\n",
       "      <td>0.180863</td>\n",
       "      <td>2020-05-28</td>\n",
       "    </tr>\n",
       "    <tr>\n",
       "      <th>2</th>\n",
       "      <td>38.0000</td>\n",
       "      <td>SPY</td>\n",
       "      <td>1.0000</td>\n",
       "      <td>2020-05-26T19:31:21.499855Z</td>\n",
       "      <td>0.0000</td>\n",
       "      <td>0.460000</td>\n",
       "      <td>0.420000</td>\n",
       "      <td>0.440000</td>\n",
       "      <td>0.095506</td>\n",
       "      <td>0.904494</td>\n",
       "      <td>0.109441</td>\n",
       "      <td>0.022218</td>\n",
       "      <td>0.167402</td>\n",
       "      <td>2020-05-28</td>\n",
       "    </tr>\n",
       "  </tbody>\n",
       "</table>\n",
       "</div>"
      ],
      "text/plain": [
       "  average_price chain_symbol  quantity                   updated_at  \\\n",
       "0      190.0000          SPY    1.0000  2020-05-26T19:31:21.523900Z   \n",
       "1     -104.0000          SPY    1.0000  2020-05-26T19:31:21.512183Z   \n",
       "2       38.0000          SPY    1.0000  2020-05-26T19:31:21.499855Z   \n",
       "\n",
       "  pending_expiration_quantity ask_price bid_price mark_price  \\\n",
       "0                      0.0000  0.990000  0.950000   0.970000   \n",
       "1                      0.0000  1.550000  1.460000   1.505000   \n",
       "2                      0.0000  0.460000  0.420000   0.440000   \n",
       "\n",
       "  chance_of_profit_long chance_of_profit_short      delta     gamma  \\\n",
       "0              0.130592               0.869408  -0.136938  0.016005   \n",
       "1              0.213705               0.786295   0.273794  0.036546   \n",
       "2              0.095506               0.904494   0.109441  0.022218   \n",
       "\n",
       "  implied_volatility previous_close_date  \n",
       "0           0.271951          2020-05-28  \n",
       "1           0.180863          2020-05-28  \n",
       "2           0.167402          2020-05-28  "
      ]
     },
     "execution_count": 7,
     "metadata": {},
     "output_type": "execute_result"
    }
   ],
   "source": [
    "oppos"
   ]
  },
  {
   "cell_type": "code",
   "execution_count": 34,
   "metadata": {},
   "outputs": [
    {
     "name": "stdout",
     "output_type": "stream",
     "text": [
      "All price data of Close is actually Adj Close\n",
      "Connection Successful\n",
      "('Finished', 'SPY')\n"
     ]
    }
   ],
   "source": [
    "robinhood = get_robinhood()\n",
    "\n",
    "#*********\n",
    "#option info\n",
    "ticker = \"SPY\"\n",
    "strike=305\n",
    "exp = datetime(2020, 6, 5, 0, 0)\n",
    "riskless_rate=0\n",
    "\n",
    "\n",
    "vol = 0.167402\n",
    "\n",
    "daytomat = None\n",
    "\n",
    "\n",
    "opt_type=OptionType.CALL\n",
    "\n",
    "\n",
    "#**********\n",
    "\n",
    "\n",
    "\n",
    "# asset information\n",
    "\n",
    "\n",
    "\n",
    "spot=robinhood.get_last_price(ticker)\n",
    "today = datetime.now()\n",
    "\n",
    "if daytomat == None:\n",
    "\n",
    "    mat=float((exp-today).days)/365\n",
    "else:\n",
    "    mat = daytomat\n",
    "\n",
    "temp_price=get_price_data([ticker],\"day\",start_date = datetime.now()-timedelta(days =256),end_date=datetime.now())\n",
    "temp_price[\"return\"]=log(temp_price[\"Close\"].shift(-1)/temp_price[\"Close\"])\n",
    "\n",
    "if vol == None:\n",
    "    vol = temp_price['return'].std()\n",
    "\n",
    "\n",
    "\n",
    "exer_type=OptionExerciseType.AMERICAN\n",
    "\n",
    "\n",
    "\n",
    "my_pricing = Option(opt_type,spot,strike,mat,riskless_rate= riskless_rate,vol=vol,exer_type=exer_type)\n",
    "\n",
    "\n",
    "# OptionType = enum(CALL='call', PUT='put')\n",
    "# OptionExerciseType = enum(EUROPEAN='european', AMERICAN='american')\n",
    "# OptionModel = enum(BLACK_SCHOLES='black_scholes', BINOMIAL_TREE='binomial_tree', MONTE_CARLO='monte_carlo')\n",
    "# OptionMeasure = enum(VALUE='value', DELTA='delta', THETA='theta', RHO='rho', VEGA='vega', GAMMA='gamma')"
   ]
  },
  {
   "cell_type": "code",
   "execution_count": 47,
   "metadata": {},
   "outputs": [],
   "source": [
    "result = my_pricing.run_model(model=OptionModel.BINOMIAL_TREE)"
   ]
  },
  {
   "cell_type": "code",
   "execution_count": 55,
   "metadata": {},
   "outputs": [
    {
     "data": {
      "text/html": [
       "<div>\n",
       "<style scoped>\n",
       "    .dataframe tbody tr th:only-of-type {\n",
       "        vertical-align: middle;\n",
       "    }\n",
       "\n",
       "    .dataframe tbody tr th {\n",
       "        vertical-align: top;\n",
       "    }\n",
       "\n",
       "    .dataframe thead th {\n",
       "        text-align: right;\n",
       "    }\n",
       "</style>\n",
       "<table border=\"1\" class=\"dataframe\">\n",
       "  <thead>\n",
       "    <tr style=\"text-align: right;\">\n",
       "      <th></th>\n",
       "      <th>value</th>\n",
       "      <th>delta</th>\n",
       "      <th>gamma</th>\n",
       "      <th>rho</th>\n",
       "      <th>theta</th>\n",
       "      <th>vega</th>\n",
       "    </tr>\n",
       "  </thead>\n",
       "  <tbody>\n",
       "    <tr>\n",
       "      <th>0</th>\n",
       "      <td>1.8113</td>\n",
       "      <td>0.4522</td>\n",
       "      <td>0.0771</td>\n",
       "      <td>1.3879</td>\n",
       "      <td>-98.1517</td>\n",
       "      <td>12.8509</td>\n",
       "    </tr>\n",
       "  </tbody>\n",
       "</table>\n",
       "</div>"
      ],
      "text/plain": [
       "   value  delta  gamma    rho    theta    vega\n",
       "0 1.8113 0.4522 0.0771 1.3879 -98.1517 12.8509"
      ]
     },
     "execution_count": 55,
     "metadata": {},
     "output_type": "execute_result"
    }
   ],
   "source": [
    "pd.DataFrame(result,index= [0])[[\"value\",\"delta\",\"gamma\",\"rho\",\"theta\",\"vega\"]]"
   ]
  },
  {
   "cell_type": "code",
   "execution_count": 38,
   "metadata": {},
   "outputs": [
    {
     "data": {
      "text/plain": [
       "{'delta': 0.4521536446938581,\n",
       " 'gamma': 0.07712420943276181,\n",
       " 'rho': 1.387883383731081,\n",
       " 'theta': -98.15172263770954,\n",
       " 'value': 1.8113234873865607,\n",
       " 'vega': 12.850899198844079}"
      ]
     },
     "execution_count": 38,
     "metadata": {},
     "output_type": "execute_result"
    }
   ],
   "source": [
    "result"
   ]
  },
  {
   "cell_type": "code",
   "execution_count": null,
   "metadata": {},
   "outputs": [],
   "source": [
    "today"
   ]
  },
  {
   "cell_type": "code",
   "execution_count": null,
   "metadata": {},
   "outputs": [],
   "source": []
  }
 ],
 "metadata": {
  "kernelspec": {
   "display_name": "Python 2",
   "language": "python",
   "name": "python2"
  },
  "language_info": {
   "codemirror_mode": {
    "name": "ipython",
    "version": 2
   },
   "file_extension": ".py",
   "mimetype": "text/x-python",
   "name": "python",
   "nbconvert_exporter": "python",
   "pygments_lexer": "ipython2",
   "version": "2.7.17"
  }
 },
 "nbformat": 4,
 "nbformat_minor": 1
}
