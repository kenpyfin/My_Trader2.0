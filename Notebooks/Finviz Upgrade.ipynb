{
 "cells": [
  {
   "cell_type": "code",
   "execution_count": 1,
   "metadata": {
    "scrolled": false
   },
   "outputs": [
    {
     "name": "stderr",
     "output_type": "stream",
     "text": [
      "/home/ken/.local/lib/python2.7/site-packages/pyfolio/pos.py:28: UserWarning: Module \"zipline.assets\" not found; mutltipliers will not be applied to position notionals.\n",
      "  ' to position notionals.'\n"
     ]
    }
   ],
   "source": [
    "from my_libs import *\n",
    "from selenium import webdriver as se\n",
    "from selenium.webdriver.common.by import By\n",
    "from selenium.webdriver.support.ui import WebDriverWait\n",
    "from selenium.webdriver.support import expected_conditions as EC\n",
    "import pickle\n",
    "import os"
   ]
  },
  {
   "cell_type": "code",
   "execution_count": 33,
   "metadata": {},
   "outputs": [
    {
     "name": "stdout",
     "output_type": "stream",
     "text": [
      "/home/ken/.local/lib/python2.7/site-packages/pyfolio/pos.py:28: UserWarning: Module \"zipline.assets\" not found; mutltipliers will not be applied to position notionals.\n",
      "  ' to position notionals.'\n",
      "Connection Successful\n",
      "If no error message, task completed\n",
      "If no error message, task completed\n",
      "If no error message, task completed\n",
      "To: <lgyhz1234@gmail.com>\n",
      "From: <lgyhz1234@gmail.com>\n",
      "Subject: Finviz download done\n"
     ]
    }
   ],
   "source": [
    "! /usr/bin/python morningupdate.py"
   ]
  },
  {
   "cell_type": "code",
   "execution_count": 2,
   "metadata": {},
   "outputs": [],
   "source": [
    "options = se.FirefoxOptions()\n",
    "# options.add_argument(\"--headless\")\n",
    "\n",
    "path = \"/home/ken/notebook/My_Trader2.0/file/\"\n",
    "\n",
    "fp = se.FirefoxProfile()\n",
    "fp.set_preference(\"browser.download.folderList\", 2)\n",
    "fp.set_preference(\"browser.download.manager.showWhenStarting\", False)\n",
    "fp.set_preference(\"browser.download.dir\", path)\n",
    "fp.set_preference(\"browser.helperApps.neverAsk.saveToDisk\", \"text/csv,application/octet-stream,application/vnd.ms-excel,application/csv\")\n",
    "\n",
    "\n",
    "driver = se.Firefox(options=options,firefox_profile=fp)\n",
    "\n",
    "driver.set_window_size(1600,1200)\n"
   ]
  },
  {
   "cell_type": "code",
   "execution_count": 4,
   "metadata": {},
   "outputs": [],
   "source": [
    "\n",
    "# get cookies from file\n",
    "cookies = pickle.load(open(path+\"cookies.pkl\", \"rb\"))\n",
    "\n",
    "\n",
    "# ## Remove the file if exists\n",
    "\n",
    "# if os.path.exists(path + \"finviz.csv\") and success == 0:\n",
    "#     os.remove(path + \"finviz.csv\")\n",
    "#     print (\"Old file removed\")\n",
    "\n",
    "driver.get('https://elite.finviz.com/index.ashx')\n",
    "for i in cookies:\n",
    "    try:\n",
    "        driver.add_cookie(i)\n",
    "    except:\n",
    "        pass\n",
    "driver.refresh()\n",
    "driver.get('https://elite.finviz.com/index.ashx')\n",
    "time.sleep(8)\n",
    "\n",
    "\n",
    "driver.get(\"https://elite.finviz.com/screener.ashx?v=152&c=0,1,2,3,4,5,6,7,8,9,10,11,12,13,14,15,16,17,19,21,22,23,24,26,27,28,29,35,36,37,38,39,40,41,42,43,44,48,51,52,53,54,57,58,59,60,61,62,63,64,65,66,67,69\")\n",
    "\n",
    "\n",
    "# export = driver.find_element_by_link_text(\"export\")\n",
    "\n",
    "# export.click()\n",
    "\n",
    "# time.sleep(10)\n",
    "# data = pd.read_csv(path + \"finviz.csv\")\n",
    "# data = data.drop([\"No.\"],axis=1)\n",
    "\n",
    "# cookies = driver.get_cookies()\n",
    "\n",
    "# pickle.dump( cookies , open(path+\"cookies.pkl\",\"wb\"),protocol=2)"
   ]
  },
  {
   "cell_type": "code",
   "execution_count": 31,
   "metadata": {},
   "outputs": [
    {
     "data": {
      "text/plain": [
       "{u'domain': u'elite.finviz.com',\n",
       " u'httpOnly': True,\n",
       " u'name': u'ASP.NET_SessionId',\n",
       " u'path': u'/',\n",
       " u'sameSite': u'None',\n",
       " u'secure': False,\n",
       " u'value': u'ypjyt5xssohplyb04j5ifrm2'}"
      ]
     },
     "execution_count": 31,
     "metadata": {},
     "output_type": "execute_result"
    }
   ],
   "source": [
    "i"
   ]
  },
  {
   "cell_type": "code",
   "execution_count": 7,
   "metadata": {},
   "outputs": [],
   "source": [
    "cookies = driver.get_cookies()"
   ]
  },
  {
   "cell_type": "code",
   "execution_count": 19,
   "metadata": {},
   "outputs": [],
   "source": [
    "pickle.dump( cookies , open(path+\"cookies.pkl\",\"wb\"),protocol=2)"
   ]
  },
  {
   "cell_type": "code",
   "execution_count": 22,
   "metadata": {},
   "outputs": [
    {
     "data": {
      "text/plain": [
       "[{u'domain': u'finviz.com',\n",
       "  u'expiry': 1598850942,\n",
       "  u'httpOnly': False,\n",
       "  u'name': u'usprivacy',\n",
       "  u'path': u'/',\n",
       "  u'sameSite': u'None',\n",
       "  u'secure': False,\n",
       "  u'value': u'1YNY'},\n",
       " {u'domain': u'finviz.com',\n",
       "  u'expiry': 1596260742,\n",
       "  u'httpOnly': False,\n",
       "  u'name': u'IC_ViewCounter_finviz.com',\n",
       "  u'path': u'/',\n",
       "  u'sameSite': u'None',\n",
       "  u'secure': False,\n",
       "  u'value': u'1'},\n",
       " {u'domain': u'.finviz.com',\n",
       "  u'expiry': 1596259003,\n",
       "  u'httpOnly': False,\n",
       "  u'name': u'_gat',\n",
       "  u'path': u'/',\n",
       "  u'sameSite': u'None',\n",
       "  u'secure': False,\n",
       "  u'value': u'1'},\n",
       " {u'domain': u'finviz.com',\n",
       "  u'expiry': 1611810943,\n",
       "  u'httpOnly': False,\n",
       "  u'name': u'kppid_managed',\n",
       "  u'path': u'/',\n",
       "  u'sameSite': u'None',\n",
       "  u'secure': False,\n",
       "  u'value': u'kppidff_Njq8QQmi'},\n",
       " {u'domain': u'.finviz.com',\n",
       "  u'expiry': 1598937249,\n",
       "  u'httpOnly': False,\n",
       "  u'name': u'pv_date',\n",
       "  u'path': u'/',\n",
       "  u'sameSite': u'None',\n",
       "  u'secure': False,\n",
       "  u'value': u'Fri Jul 31 2020 22:14:09 GMT-0700 (Pacific Daylight Time)'},\n",
       " {u'domain': u'.finviz.com',\n",
       "  u'expiry': 1598937249,\n",
       "  u'httpOnly': False,\n",
       "  u'name': u'pv_count',\n",
       "  u'path': u'/',\n",
       "  u'sameSite': u'None',\n",
       "  u'secure': False,\n",
       "  u'value': u'1'},\n",
       " {u'domain': u'.finviz.com',\n",
       "  u'expiry': 1598850849,\n",
       "  u'httpOnly': False,\n",
       "  u'name': u'usprivacy',\n",
       "  u'path': u'/',\n",
       "  u'sameSite': u'None',\n",
       "  u'secure': False,\n",
       "  u'value': u'1YNY'},\n",
       " {u'domain': u'.finviz.com',\n",
       "  u'expiry': 1596260649,\n",
       "  u'httpOnly': False,\n",
       "  u'name': u'IC_ViewCounter_finviz.com',\n",
       "  u'path': u'/',\n",
       "  u'sameSite': u'None',\n",
       "  u'secure': False,\n",
       "  u'value': u'1'},\n",
       " {u'domain': u'.finviz.com',\n",
       "  u'expiry': 1630127651,\n",
       "  u'httpOnly': False,\n",
       "  u'name': u'__qca',\n",
       "  u'path': u'/',\n",
       "  u'sameSite': u'None',\n",
       "  u'secure': False,\n",
       "  u'value': u'P0-1107028160-1596258851123'},\n",
       " {u'domain': u'.finviz.com',\n",
       "  u'expiry': 1659330854,\n",
       "  u'httpOnly': False,\n",
       "  u'name': u'__gads',\n",
       "  u'path': u'/',\n",
       "  u'sameSite': u'None',\n",
       "  u'secure': False,\n",
       "  u'value': u'ID=6f98591d9862c951-220b210c9dc20081:T=1596258854:S=ALNI_MaeixIqtpsMP9RjW9ch7_ncTZu-1g'},\n",
       " {u'domain': u'.finviz.com',\n",
       "  u'expiry': 1611810858,\n",
       "  u'httpOnly': False,\n",
       "  u'name': u'kppid_managed',\n",
       "  u'path': u'/',\n",
       "  u'sameSite': u'None',\n",
       "  u'secure': False,\n",
       "  u'value': u'kppidff_Njq7tKau'},\n",
       " {u'domain': u'.finviz.com',\n",
       "  u'expiry': 1627794874,\n",
       "  u'httpOnly': True,\n",
       "  u'name': u'.ASPXAUTH',\n",
       "  u'path': u'/',\n",
       "  u'sameSite': u'None',\n",
       "  u'secure': False,\n",
       "  u'value': u'A2DF6C53BE994FD259BEC20B5CDEA3189663FDBECC80C7B97F52DC7384685A7BF63915966AA180358E6EA298AA956284A7816CF31B2E2A33D04512DC72E1F2D778E3A408C8240F3F9F3FFA37E3D80B10507A71E44375E30648C04C6944B69D423829226B9526FEACA9465D5C92ED16D5407E7ABDCFED566586F28EDE706D2373272E1672'},\n",
       " {u'domain': u'.finviz.com',\n",
       "  u'expiry': 1627794963,\n",
       "  u'httpOnly': False,\n",
       "  u'name': u'screenerUrl',\n",
       "  u'path': u'/',\n",
       "  u'sameSite': u'None',\n",
       "  u'secure': False,\n",
       "  u'value': u'screener.ashx?v=152'},\n",
       " {u'domain': u'.finviz.com',\n",
       "  u'expiry': 1659330966,\n",
       "  u'httpOnly': False,\n",
       "  u'name': u'_ga',\n",
       "  u'path': u'/',\n",
       "  u'sameSite': u'None',\n",
       "  u'secure': False,\n",
       "  u'value': u'GA1.2.1385589278.1596258851'},\n",
       " {u'domain': u'.finviz.com',\n",
       "  u'expiry': 1596345366,\n",
       "  u'httpOnly': False,\n",
       "  u'name': u'_gid',\n",
       "  u'path': u'/',\n",
       "  u'sameSite': u'None',\n",
       "  u'secure': False,\n",
       "  u'value': u'GA1.2.870937801.1596258851'},\n",
       " {u'domain': u'elite.finviz.com',\n",
       "  u'httpOnly': True,\n",
       "  u'name': u'ASP.NET_SessionId',\n",
       "  u'path': u'/',\n",
       "  u'sameSite': u'None',\n",
       "  u'secure': False,\n",
       "  u'value': u'ypjyt5xssohplyb04j5ifrm2'},\n",
       " {u'domain': u'.finviz.com',\n",
       "  u'expiry': 1627794989,\n",
       "  u'httpOnly': False,\n",
       "  u'name': u'customTable',\n",
       "  u'path': u'/',\n",
       "  u'sameSite': u'None',\n",
       "  u'secure': False,\n",
       "  u'value': u'0,1,2,3,4,5,6,7,8,9,10,11,12,13,14,15,16,17,19,21,22,23,24,26,27,28,29,35,36,37,38,39,40,41,42,43,44,48,51,52,53,54,57,58,59,60,61,62,63,64,65,66,67,69'}]"
      ]
     },
     "execution_count": 22,
     "metadata": {},
     "output_type": "execute_result"
    }
   ],
   "source": [
    "cookies"
   ]
  },
  {
   "cell_type": "code",
   "execution_count": null,
   "metadata": {},
   "outputs": [],
   "source": []
  }
 ],
 "metadata": {
  "kernelspec": {
   "display_name": "Python 2",
   "language": "python",
   "name": "python2"
  },
  "language_info": {
   "codemirror_mode": {
    "name": "ipython",
    "version": 2
   },
   "file_extension": ".py",
   "mimetype": "text/x-python",
   "name": "python",
   "nbconvert_exporter": "python",
   "pygments_lexer": "ipython2",
   "version": "2.7.14"
  }
 },
 "nbformat": 4,
 "nbformat_minor": 2
}
