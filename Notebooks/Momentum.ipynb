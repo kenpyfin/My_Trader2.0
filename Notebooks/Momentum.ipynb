{
 "cells": [
  {
   "cell_type": "code",
   "execution_count": 1,
   "metadata": {},
   "outputs": [
    {
     "name": "stderr",
     "output_type": "stream",
     "text": [
      "/home/ken/.local/lib/python2.7/site-packages/pyfolio/pos.py:28: UserWarning: Module \"zipline.assets\" not found; mutltipliers will not be applied to position notionals.\n",
      "  ' to position notionals.'\n"
     ]
    }
   ],
   "source": [
    "from my_libs import *"
   ]
  },
  {
   "cell_type": "code",
   "execution_count": 2,
   "metadata": {},
   "outputs": [
    {
     "name": "stdout",
     "output_type": "stream",
     "text": [
      "All price data of Close is actually Adj Close\n",
      "Connection Successful\n",
      "('Finished', 'wina')\n"
     ]
    }
   ],
   "source": [
    "first = momentum_best_day(\"wina\",robingateway(),method = 'self_minute').iloc[0]"
   ]
  },
  {
   "cell_type": "markdown",
   "metadata": {},
   "source": [
    "## Screen"
   ]
  },
  {
   "cell_type": "code",
   "execution_count": 4,
   "metadata": {
    "collapsed": true
   },
   "outputs": [
    {
     "name": "stdout",
     "output_type": "stream",
     "text": [
      "All price data of Close is actually Adj Close\n",
      "Connection Successful\n",
      "('Finished', 'wina')\n",
      "2020-05-13T15:00:00, BUY CREATE, 132.00, position value: 2000.00\n",
      "2020-05-13T15:00:00, ORDER ACCEPTED/SUBMITTED\n",
      "2020-05-13T15:00:00, ORDER ACCEPTED/SUBMITTED\n",
      "2020-05-13T15:30:00, BUY EXECUTED, Price: 126.38, Cost: 1895.64, Comm 1.90\n",
      "2020-05-14T15:30:00, SELL CREATE, 125.41, position value: 1983.61\n",
      "2020-05-14T15:30:00, ORDER ACCEPTED/SUBMITTED\n",
      "2020-05-14T15:30:00, ORDER ACCEPTED/SUBMITTED\n",
      "2020-05-14T16:00:00, SELL EXECUTED, Price: 125.41, Gain: 1895.64, Comm 1.88\n",
      "2020-05-14T16:00:00, BUY CREATE, 125.20, position value: 1981.73\n",
      "2020-05-14T16:00:00, ORDER ACCEPTED/SUBMITTED\n",
      "2020-05-14T16:00:00, ORDER ACCEPTED/SUBMITTED\n",
      "2020-05-15T09:30:00, BUY EXECUTED, Price: 125.81, Cost: 1887.15, Comm 1.89\n",
      "2020-05-18T09:30:00, SELL CREATE, 127.51, position value: 2005.35\n",
      "2020-05-18T09:30:00, ORDER ACCEPTED/SUBMITTED\n",
      "2020-05-18T09:30:00, ORDER ACCEPTED/SUBMITTED\n",
      "2020-05-18T10:00:00, SELL EXECUTED, Price: 127.51, Gain: 1887.15, Comm 1.91\n",
      "2020-05-18T10:00:00, BUY CREATE, 131.25, position value: 2003.43\n",
      "2020-05-18T10:00:00, ORDER ACCEPTED/SUBMITTED\n",
      "2020-05-18T10:00:00, ORDER ACCEPTED/SUBMITTED\n",
      "2020-05-18T10:30:00, BUY EXECUTED, Price: 131.25, Cost: 1968.75, Comm 1.97\n",
      "2020-05-19T10:30:00, SELL CREATE, 132.13, position value: 2014.66\n",
      "2020-05-19T10:30:00, ORDER ACCEPTED/SUBMITTED\n",
      "2020-05-19T10:30:00, ORDER ACCEPTED/SUBMITTED\n",
      "2020-05-19T11:00:00, SELL EXECUTED, Price: 133.50, Gain: 1968.75, Comm 2.00\n",
      "2020-05-20T11:00:00, BUY CREATE, 131.37, position value: 2033.21\n",
      "2020-05-20T11:00:00, ORDER ACCEPTED/SUBMITTED\n",
      "2020-05-20T11:00:00, ORDER ACCEPTED/SUBMITTED\n",
      "2020-05-20T11:30:00, BUY EXECUTED, Price: 131.37, Cost: 1970.55, Comm 1.97\n",
      "2020-05-21T11:30:00, SELL CREATE, 132.83, position value: 2053.14\n",
      "2020-05-21T11:30:00, ORDER ACCEPTED/SUBMITTED\n",
      "2020-05-21T11:30:00, ORDER ACCEPTED/SUBMITTED\n",
      "2020-05-21T12:00:00, SELL EXECUTED, Price: 132.83, Gain: 1970.55, Comm 1.99\n",
      "2020-05-21T12:00:00, BUY CREATE, 132.83, position value: 2051.15\n",
      "2020-05-21T12:00:00, ORDER ACCEPTED/SUBMITTED\n",
      "2020-05-21T12:00:00, ORDER ACCEPTED/SUBMITTED\n",
      "2020-05-21T12:30:00, BUY EXECUTED, Price: 132.83, Cost: 1992.45, Comm 1.99\n",
      "2020-05-22T12:30:00, SELL CREATE, 131.50, position value: 2029.21\n",
      "2020-05-22T12:30:00, ORDER ACCEPTED/SUBMITTED\n",
      "2020-05-22T12:30:00, ORDER ACCEPTED/SUBMITTED\n",
      "2020-05-22T13:00:00, SELL EXECUTED, Price: 131.50, Gain: 1992.45, Comm 1.97\n",
      "2020-05-26T10:00:00, BUY CREATE, 134.83, position value: 2027.23\n",
      "2020-05-26T10:00:00, ORDER ACCEPTED/SUBMITTED\n",
      "2020-05-26T10:00:00, ORDER ACCEPTED/SUBMITTED\n",
      "2020-05-26T10:30:00, BUY EXECUTED, Price: 134.83, Cost: 2022.45, Comm 2.02\n",
      "2020-05-27T10:30:00, SELL CREATE, 132.55, position value: 1991.01\n",
      "2020-05-27T10:30:00, ORDER ACCEPTED/SUBMITTED\n",
      "2020-05-27T10:30:00, ORDER ACCEPTED/SUBMITTED\n",
      "2020-05-27T11:00:00, SELL EXECUTED, Price: 132.55, Gain: 2022.45, Comm 1.99\n",
      "2020-05-27T15:30:00, BUY CREATE, 132.66, position value: 1989.02\n",
      "2020-05-27T15:30:00, ORDER ACCEPTED/SUBMITTED\n",
      "2020-05-27T15:30:00, ORDER ACCEPTED/SUBMITTED\n",
      "2020-05-27T16:00:00, BUY EXECUTED, Price: 132.66, Cost: 1857.31, Comm 1.86\n",
      "2020-05-28T16:00:00, SELL CREATE, 137.18, position value: 2050.31\n",
      "2020-05-28T16:00:00, ORDER ACCEPTED/SUBMITTED\n",
      "2020-05-28T16:00:00, ORDER ACCEPTED/SUBMITTED\n",
      "2020-05-29T09:30:00, SELL EXECUTED, Price: 137.50, Gain: 1857.31, Comm 1.93\n",
      "2020-05-29T09:30:00, BUY CREATE, 137.50, position value: 2052.93\n",
      "2020-05-29T09:30:00, ORDER ACCEPTED/SUBMITTED\n",
      "2020-05-29T09:30:00, ORDER ACCEPTED/SUBMITTED\n",
      "2020-05-29T10:00:00, BUY EXECUTED, Price: 137.50, Cost: 1925.00, Comm 1.93\n",
      "2020-06-01T10:00:00, SELL CREATE, 144.25, position value: 2145.50\n",
      "2020-06-01T10:00:00, ORDER ACCEPTED/SUBMITTED\n",
      "2020-06-01T10:00:00, ORDER ACCEPTED/SUBMITTED\n",
      "2020-06-01T10:30:00, SELL EXECUTED, Price: 144.25, Gain: 1925.00, Comm 2.02\n",
      "2020-06-01T10:30:00, BUY CREATE, 144.25, position value: 2143.48\n",
      "2020-06-01T10:30:00, ORDER ACCEPTED/SUBMITTED\n",
      "2020-06-01T10:30:00, ORDER ACCEPTED/SUBMITTED\n",
      "2020-06-01T11:00:00, BUY EXECUTED, Price: 144.25, Cost: 2019.49, Comm 2.02\n",
      "2020-06-02T11:00:00, SELL CREATE, 142.50, position value: 2116.97\n",
      "2020-06-02T11:00:00, ORDER ACCEPTED/SUBMITTED\n",
      "2020-06-02T11:00:00, ORDER ACCEPTED/SUBMITTED\n",
      "2020-06-02T11:30:00, SELL EXECUTED, Price: 142.50, Gain: 2019.49, Comm 2.00\n",
      "2020-06-02T11:30:00, BUY CREATE, 142.00, position value: 2114.97\n",
      "2020-06-02T11:30:00, ORDER ACCEPTED/SUBMITTED\n",
      "2020-06-02T11:30:00, ORDER ACCEPTED/SUBMITTED\n",
      "2020-06-02T12:00:00, BUY EXECUTED, Price: 142.00, Cost: 1988.00, Comm 1.99\n",
      "2020-06-03T12:00:00, SELL CREATE, 148.61, position value: 2205.52\n",
      "2020-06-03T12:00:00, ORDER ACCEPTED/SUBMITTED\n",
      "2020-06-03T12:00:00, ORDER ACCEPTED/SUBMITTED\n",
      "2020-06-03T12:30:00, SELL EXECUTED, Price: 148.61, Gain: 1988.00, Comm 2.08\n",
      "2020-06-03T12:30:00, BUY CREATE, 146.55, position value: 2203.44\n",
      "2020-06-03T12:30:00, ORDER ACCEPTED/SUBMITTED\n",
      "2020-06-03T12:30:00, ORDER ACCEPTED/SUBMITTED\n",
      "2020-06-03T13:00:00, BUY CREATE, 148.28, position value: 2203.44\n",
      "2020-06-03T13:00:00, ORDER ACCEPTED/SUBMITTED\n",
      "2020-06-03T13:00:00, ORDER ACCEPTED/SUBMITTED\n",
      "2020-06-03T13:30:00, BUY EXECUTED, Price: 148.28, Cost: 2075.93, Comm 2.08\n",
      "2020-06-04T13:30:00, SELL CREATE, 150.97, position value: 2239.01\n",
      "2020-06-04T13:30:00, ORDER ACCEPTED/SUBMITTED\n",
      "2020-06-04T13:30:00, ORDER ACCEPTED/SUBMITTED\n",
      "2020-06-04T14:00:00, SELL EXECUTED, Price: 150.97, Gain: 2075.93, Comm 2.11\n",
      "2020-06-04T14:00:00, BUY CREATE, 151.02, position value: 2236.90\n",
      "2020-06-04T14:00:00, ORDER ACCEPTED/SUBMITTED\n",
      "2020-06-04T14:00:00, ORDER ACCEPTED/SUBMITTED\n",
      "2020-06-04T14:30:00, BUY EXECUTED, Price: 150.00, Cost: 2100.00, Comm 2.10\n",
      "2020-06-05T14:30:00, SELL CREATE, 154.40, position value: 2296.40\n",
      "2020-06-05T14:30:00, ORDER ACCEPTED/SUBMITTED\n",
      "2020-06-05T14:30:00, ORDER ACCEPTED/SUBMITTED\n",
      "2020-06-05T15:00:00, SELL EXECUTED, Price: 154.40, Gain: 2100.00, Comm 2.16\n",
      "2020-06-05T15:30:00, BUY CREATE, 156.53, position value: 2294.24\n",
      "2020-06-05T15:30:00, ORDER ACCEPTED/SUBMITTED\n",
      "2020-06-05T15:30:00, ORDER ACCEPTED/SUBMITTED\n",
      "2020-06-05T16:00:00, BUY EXECUTED, Price: 156.71, Cost: 2193.94, Comm 2.19\n",
      "2020-06-08T16:00:00, SELL CREATE, 165.56, position value: 2415.94\n",
      "2020-06-08T16:00:00, ORDER ACCEPTED/SUBMITTED\n",
      "2020-06-08T16:00:00, ORDER ACCEPTED/SUBMITTED\n",
      "2020-06-09T09:30:00, SELL EXECUTED, Price: 165.10, Gain: 2193.94, Comm 2.31\n",
      "2020-06-09T09:30:00, BUY CREATE, 165.10, position value: 2407.19\n",
      "2020-06-09T09:30:00, ORDER ACCEPTED/SUBMITTED\n",
      "2020-06-09T09:30:00, ORDER ACCEPTED/SUBMITTED\n",
      "2020-06-09T10:00:00, BUY EXECUTED, Price: 151.64, Cost: 2122.96, Comm 2.12\n",
      "2020-06-10T10:00:00, SELL CREATE, 160.53, position value: 2529.53\n",
      "2020-06-10T10:00:00, ORDER ACCEPTED/SUBMITTED\n",
      "2020-06-10T10:00:00, ORDER ACCEPTED/SUBMITTED\n",
      "2020-06-10T10:30:00, SELL EXECUTED, Price: 160.53, Gain: 2122.96, Comm 2.25\n",
      "2020-06-10T11:00:00, BUY CREATE, 163.06, position value: 2527.28\n",
      "2020-06-10T11:00:00, ORDER ACCEPTED/SUBMITTED\n",
      "2020-06-10T11:00:00, ORDER ACCEPTED/SUBMITTED\n",
      "2020-06-10T11:30:00, BUY EXECUTED, Price: 163.06, Cost: 2445.90, Comm 2.45\n",
      "2020-06-11T11:30:00, SELL CREATE, 160.81, position value: 2491.03\n",
      "2020-06-11T11:30:00, ORDER ACCEPTED/SUBMITTED\n",
      "2020-06-11T11:30:00, ORDER ACCEPTED/SUBMITTED\n",
      "2020-06-11T12:00:00, SELL EXECUTED, Price: 160.81, Gain: 2445.90, Comm 2.41\n",
      "2020-06-12T12:30:00, BUY CREATE, 159.34, position value: 2488.62\n",
      "2020-06-12T12:30:00, ORDER ACCEPTED/SUBMITTED\n",
      "2020-06-12T12:30:00, ORDER ACCEPTED/SUBMITTED\n",
      "2020-06-12T13:00:00, BUY EXECUTED, Price: 157.90, Cost: 2368.50, Comm 2.37\n",
      "2020-06-15T13:00:00, SELL CREATE, 156.21, position value: 2460.90\n",
      "2020-06-15T13:00:00, ORDER ACCEPTED/SUBMITTED\n",
      "2020-06-15T13:00:00, ORDER ACCEPTED/SUBMITTED\n",
      "2020-06-15T13:30:00, SELL EXECUTED, Price: 156.21, Gain: 2368.50, Comm 2.34\n",
      "2020-06-15T13:30:00, BUY CREATE, 157.59, position value: 2458.56\n",
      "2020-06-15T13:30:00, ORDER ACCEPTED/SUBMITTED\n",
      "2020-06-15T13:30:00, ORDER ACCEPTED/SUBMITTED\n",
      "2020-06-15T14:00:00, BUY EXECUTED, Price: 157.59, Cost: 2363.85, Comm 2.36\n",
      "2020-06-16T14:00:00, SELL CREATE, 160.76, position value: 2503.74\n",
      "2020-06-16T14:00:00, ORDER ACCEPTED/SUBMITTED\n",
      "2020-06-16T14:00:00, ORDER ACCEPTED/SUBMITTED\n",
      "2020-06-16T14:30:00, SELL EXECUTED, Price: 160.76, Gain: 2363.85, Comm 2.41\n",
      "2020-06-16T14:30:00, BUY CREATE, 160.76, position value: 2501.33\n",
      "2020-06-16T14:30:00, ORDER ACCEPTED/SUBMITTED\n",
      "2020-06-16T14:30:00, ORDER ACCEPTED/SUBMITTED\n",
      "2020-06-16T15:00:00, BUY EXECUTED, Price: 160.76, Cost: 2411.40, Comm 2.41\n",
      "2020-06-17T15:00:00, SELL CREATE, 163.71, position value: 2543.17\n",
      "2020-06-17T15:00:00, ORDER ACCEPTED/SUBMITTED\n",
      "2020-06-17T15:00:00, ORDER ACCEPTED/SUBMITTED\n",
      "2020-06-17T15:30:00, SELL EXECUTED, Price: 162.61, Gain: 2411.40, Comm 2.44\n",
      "2020-06-18T09:30:00, BUY CREATE, 160.60, position value: 2524.23\n",
      "2020-06-18T09:30:00, ORDER ACCEPTED/SUBMITTED\n",
      "2020-06-18T09:30:00, ORDER ACCEPTED/SUBMITTED\n",
      "2020-06-18T10:00:00, BUY EXECUTED, Price: 160.60, Cost: 2409.00, Comm 2.41\n",
      "2020-06-19T10:00:00, SELL CREATE, 164.09, position value: 2574.17\n",
      "2020-06-19T10:00:00, ORDER ACCEPTED/SUBMITTED\n",
      "2020-06-19T10:00:00, ORDER ACCEPTED/SUBMITTED\n",
      "2020-06-19T10:30:00, SELL EXECUTED, Price: 164.99, Gain: 2409.00, Comm 2.47\n",
      "2020-06-19T10:30:00, BUY CREATE, 164.99, position value: 2585.20\n",
      "2020-06-19T10:30:00, ORDER ACCEPTED/SUBMITTED\n",
      "2020-06-19T10:30:00, ORDER ACCEPTED/SUBMITTED\n",
      "2020-06-19T11:00:00, BUY EXECUTED, Price: 164.99, Cost: 2474.85, Comm 2.47\n",
      "2020-06-22T11:00:00, SELL CREATE, 166.16, position value: 2600.27\n",
      "2020-06-22T11:00:00, ORDER ACCEPTED/SUBMITTED\n",
      "2020-06-22T11:00:00, ORDER ACCEPTED/SUBMITTED\n",
      "2020-06-22T11:30:00, SELL EXECUTED, Price: 166.45, Gain: 2474.85, Comm 2.50\n",
      "2020-06-22T11:30:00, BUY CREATE, 167.50, position value: 2602.13\n",
      "2020-06-22T11:30:00, ORDER ACCEPTED/SUBMITTED\n",
      "2020-06-22T11:30:00, ORDER ACCEPTED/SUBMITTED\n",
      "2020-06-22T12:00:00, BUY EXECUTED, Price: 165.20, Cost: 2478.00, Comm 2.48\n",
      "2020-06-23T12:00:00, SELL CREATE, 166.51, position value: 2619.30\n",
      "2020-06-23T12:00:00, ORDER ACCEPTED/SUBMITTED\n",
      "2020-06-23T12:00:00, ORDER ACCEPTED/SUBMITTED\n",
      "2020-06-23T12:30:00, SELL EXECUTED, Price: 167.77, Gain: 2478.00, Comm 2.52\n",
      "2020-06-23T12:30:00, BUY CREATE, 167.77, position value: 2635.68\n",
      "2020-06-23T12:30:00, ORDER ACCEPTED/SUBMITTED\n",
      "2020-06-23T12:30:00, ORDER ACCEPTED/SUBMITTED\n",
      "2020-06-23T13:00:00, BUY EXECUTED, Price: 167.77, Cost: 2516.55, Comm 2.52\n",
      "2020-06-24T13:00:00, SELL CREATE, 167.22, position value: 2624.99\n",
      "2020-06-24T13:00:00, ORDER ACCEPTED/SUBMITTED\n",
      "2020-06-24T13:00:00, ORDER ACCEPTED/SUBMITTED\n",
      "2020-06-24T13:30:00, SELL EXECUTED, Price: 166.84, Gain: 2516.55, Comm 2.50\n",
      "2020-06-25T10:00:00, BUY CREATE, 164.57, position value: 2616.71\n",
      "2020-06-25T10:00:00, ORDER ACCEPTED/SUBMITTED\n",
      "2020-06-25T10:00:00, ORDER ACCEPTED/SUBMITTED\n",
      "2020-06-25T10:30:00, BUY EXECUTED, Price: 167.52, Cost: 2512.80, Comm 2.51\n",
      "2020-06-26T10:30:00, SELL CREATE, 168.54, position value: 2629.50\n",
      "2020-06-26T10:30:00, ORDER ACCEPTED/SUBMITTED\n",
      "2020-06-26T10:30:00, ORDER ACCEPTED/SUBMITTED\n",
      "2020-06-26T11:00:00, SELL EXECUTED, Price: 168.54, Gain: 2512.80, Comm 2.53\n",
      "2020-06-29T11:00:00, BUY CREATE, 167.84, position value: 2626.97\n",
      "2020-06-29T11:00:00, ORDER ACCEPTED/SUBMITTED\n",
      "2020-06-29T11:00:00, ORDER ACCEPTED/SUBMITTED\n",
      "2020-06-29T11:30:00, BUY EXECUTED, Price: 167.84, Cost: 2517.60, Comm 2.52\n",
      "2020-06-30T11:30:00, SELL CREATE, 168.80, position value: 2638.85\n",
      "2020-06-30T11:30:00, ORDER ACCEPTED/SUBMITTED\n",
      "2020-06-30T11:30:00, ORDER ACCEPTED/SUBMITTED\n",
      "2020-06-30T12:00:00, SELL EXECUTED, Price: 168.80, Gain: 2517.60, Comm 2.53\n",
      "2020-06-30T12:00:00, BUY CREATE, 168.80, position value: 2636.32\n",
      "2020-06-30T12:00:00, ORDER ACCEPTED/SUBMITTED\n",
      "2020-06-30T12:00:00, ORDER ACCEPTED/SUBMITTED\n",
      "2020-06-30T12:30:00, BUY EXECUTED, Price: 168.80, Cost: 2532.00, Comm 2.53\n",
      "Good Trade\n",
      "Final Portfolio Value: 2667.39\n"
     ]
    },
    {
     "data": {
      "text/plain": [
       "(2667.3902510999983,\n",
       " 14.479548718632866,\n",
       " datetime.datetime(2020, 6, 30, 12, 0),\n",
       " 168.8,\n",
       " 0.063986073657564,\n",
       " -0.03730295984758388)"
      ]
     },
     "execution_count": 4,
     "metadata": {},
     "output_type": "execute_result"
    }
   ],
   "source": [
    "momentum_backtest(\"wina\",10,15,robingateway(),method = 'self_minute')"
   ]
  },
  {
   "cell_type": "code",
   "execution_count": 51,
   "metadata": {},
   "outputs": [
    {
     "name": "stdout",
     "output_type": "stream",
     "text": [
      "All price data of Close is actually Adj Close\n",
      "Connection Successful\n",
      "('Finished', 'TCI')\n"
     ]
    }
   ],
   "source": [
    "price=get_price_data([\"TCI\"], method=\"self_minute\",robinhood=robingateway(),back_day=200 )\n",
    "price = price.set_index(\"TimeStamp\")\n",
    "price[\"MV32\"] = price.Close.rolling(32).mean()\n",
    "price[\"Return\"] = log(price.Close/price.Close.shift(65))\n",
    "price[\"Lookback\"] = price.MV32.shift(65)"
   ]
  },
  {
   "cell_type": "code",
   "execution_count": 5,
   "metadata": {
    "collapsed": true
   },
   "outputs": [
    {
     "name": "stdout",
     "output_type": "stream",
     "text": [
      "Connection Successful\n",
      "Connection Successful\n",
      "Connection Successful\n",
      "Connection Successful\n",
      "Connection Successful\n",
      "Connection Successful\n",
      "Connection Successful\n",
      "Connection Successful\n",
      "Connection Successful\n",
      "Connection Successful\n",
      "Connection Successful\n",
      "Connection Successful\n",
      "Connection Successful\n",
      "Connection Successful\n",
      "Connection Successful\n",
      "Connection Successful\n",
      "Connection Successful\n",
      "Connection Successful\n",
      "Connection Successful\n",
      "Connection Successful\n",
      "Connection Successful\n",
      "Connection Successful\n",
      "Connection Successful\n",
      "Connection Successful\n",
      "Connection Successful\n",
      "Connection Successful\n",
      "Connection Successful\n",
      "Connection Successful\n",
      "Connection Successful\n",
      "Connection Successful\n",
      "Connection Successful\n",
      "Connection Successful\n",
      "Connection Successful\n",
      "Connection Successful\n",
      "Connection Successful\n",
      "Connection Successful\n",
      "Connection Successful\n",
      "Connection Successful\n",
      "Connection Successful\n",
      "Connection Successful\n",
      "Connection Successful\n",
      "Connection Successful\n",
      "Connection Successful\n",
      "Connection Successful\n",
      "Connection Successful\n",
      "Connection Successful\n",
      "Connection Successful\n",
      "Connection Successful\n",
      "Connection Successful\n",
      "Connection Successful\n",
      "Connection Successful\n",
      "Connection Successful\n",
      "Connection Successful\n",
      "Connection Successful\n",
      "Connection Successful\n",
      "Connection Successful\n",
      "Connection Successful\n",
      "Connection Successful\n",
      "Connection Successful\n",
      "Connection Successful\n",
      "Connection Successful\n",
      "Connection Successful\n",
      "Connection Successful\n",
      "Connection Successful\n",
      "Connection Successful\n",
      "Connection Successful\n",
      "Connection Successful\n",
      "Connection Successful\n",
      "Connection Successful\n",
      "Connection Successful\n",
      "Connection Successful\n",
      "Connection Successful\n",
      "Connection Successful\n",
      "Connection Successful\n",
      "Connection Successful\n",
      "Connection Successful\n",
      "Connection Successful\n",
      "Connection Successful\n",
      "Connection Successful\n",
      "Connection Successful\n",
      "Connection Successful\n",
      "Connection Successful\n",
      "Connection Successful\n",
      "Connection Successful\n",
      "Connection Successful\n",
      "Connection Successful\n",
      "Connection Successful\n",
      "Connection Successful\n",
      "Connection Successful\n",
      "Connection Successful\n",
      "Connection Successful\n",
      "Connection Successful\n",
      "Connection Successful\n",
      "Connection Successful\n",
      "Connection Successful\n",
      "Connection Successful\n",
      "Connection Successful\n",
      "Connection Successful\n",
      "Connection Successful\n",
      "Connection Successful\n",
      "Connection Successful\n",
      "Connection Successful\n",
      "Connection Successful\n",
      "Connection Successful\n",
      "Connection Successful\n",
      "SPY 25.00000000\n",
      "PW 9.00000000\n",
      "KLAC 1.00000000\n",
      "GLD 5.00000000\n",
      "TCI 8.00000000\n",
      "VRTV 19.00000000\n",
      "Connection Successful\n",
      "Connection Successful\n",
      "Connection Successful\n",
      "Connection Successful\n",
      "Connection Successful\n",
      "Connection Successful\n",
      "To: <lgyhz1234@gmail.com>\n",
      "From: <lgyhz1234@gmail.com>\n",
      "Subject: Daily Position\n",
      "Connection Successful\n",
      "Connection Successful\n"
     ]
    }
   ],
   "source": [
    "robinhood = robingateway()\n",
    "log_pos = get_open_opsition()\n",
    "temp = robinhood.get_my_positions()\n",
    "pos_frame = pd.DataFrame([temp[0],temp[1]]).transpose()\n",
    "pos_frame.columns = [\"Ticker\",\"Shares\"]\n",
    "#     act_pos = robinhood.get_my_positions()[0]\n",
    "note = \"\"\n",
    "for i in log_pos:\n",
    "    if i not in pos_frame.Ticker.to_list():\n",
    "#             note += (\"fix \"+ i +\"\\n\")\n",
    "        fix_unsettled_trade_update(i)\n",
    "        send_email(\"Fixed unsettled trade to size 0 \" + str(i))\n",
    "    elif get_trade_log(i)[\"size\"].iloc[0] != pos_frame.loc[pos_frame.Ticker == i,\"Shares\"].iloc[0]:\n",
    "        fix_unsettled_trade_update(i, size=pos_frame.loc[pos_frame.Ticker == i,\"Shares\"].iloc[0], partial=True)\n",
    "        send_email(\"Fixed unsettled trade to match size \" + str(i))"
   ]
  },
  {
   "cell_type": "markdown",
   "metadata": {},
   "source": [
    "## Live Trading Check"
   ]
  },
  {
   "cell_type": "code",
   "execution_count": 8,
   "metadata": {
    "collapsed": true
   },
   "outputs": [
    {
     "name": "stdout",
     "output_type": "stream",
     "text": [
      "Connection Successful\n",
      "All price data of Close is actually Adj Close\n",
      "Connection Successful\n",
      "('Finished', 'AAPL')\n",
      "All price data of Close is actually Adj Close\n",
      "Connection Successful\n",
      "('Finished', 'AAPL')\n",
      "2020-05-07T14:00:00, BUY CREATE, 303.99, position value: 2000.00\n",
      "2020-05-07T14:00:00, ORDER ACCEPTED/SUBMITTED\n",
      "2020-05-07T14:00:00, ORDER ACCEPTED/SUBMITTED\n",
      "2020-05-07T14:00:00, ORDER ACCEPTED/SUBMITTED\n",
      "2020-05-07T14:30:00, BUY EXECUTED, Price: 303.36, Cost: 1820.14, Comm 1.82\n",
      "2020-05-18T10:00:00, SELL CREATE, 312.09, position value: 2050.58\n",
      "2020-05-18T10:00:00, ORDER ACCEPTED/SUBMITTED\n",
      "2020-05-18T10:00:00, ORDER ACCEPTED/SUBMITTED\n",
      "2020-05-18T10:00:00, ORDER ACCEPTED/SUBMITTED\n",
      "2020-05-18T10:30:00, SELL EXECUTED, Price: 312.09, Gain: 1820.14, Comm 1.87\n",
      "2020-05-18T10:30:00, BUY CREATE, 312.67, position value: 2048.71\n",
      "2020-05-18T10:30:00, ORDER ACCEPTED/SUBMITTED\n",
      "2020-05-18T10:30:00, ORDER ACCEPTED/SUBMITTED\n",
      "2020-05-18T10:30:00, ORDER ACCEPTED/SUBMITTED\n",
      "2020-05-18T11:00:00, BUY EXECUTED, Price: 313.21, Cost: 1879.26, Comm 1.88\n",
      "2020-05-26T15:30:00, SELL CREATE, 317.52, position value: 2072.69\n",
      "2020-05-26T15:30:00, ORDER ACCEPTED/SUBMITTED\n",
      "2020-05-26T15:30:00, ORDER ACCEPTED/SUBMITTED\n",
      "2020-05-26T15:30:00, ORDER ACCEPTED/SUBMITTED\n",
      "2020-05-26T16:00:00, SELL EXECUTED, Price: 317.52, Gain: 1879.26, Comm 1.91\n",
      "2020-05-28T09:30:00, BUY CREATE, 318.11, position value: 2070.79\n",
      "2020-05-28T09:30:00, ORDER ACCEPTED/SUBMITTED\n",
      "2020-05-28T09:30:00, ORDER ACCEPTED/SUBMITTED\n",
      "2020-05-28T09:30:00, ORDER ACCEPTED/SUBMITTED\n",
      "2020-05-28T10:00:00, BUY EXECUTED, Price: 318.11, Cost: 1908.66, Comm 1.91\n",
      "2020-06-04T14:30:00, SELL CREATE, 323.14, position value: 2099.06\n",
      "2020-06-04T14:30:00, ORDER ACCEPTED/SUBMITTED\n",
      "2020-06-04T14:30:00, ORDER ACCEPTED/SUBMITTED\n",
      "2020-06-04T14:30:00, ORDER ACCEPTED/SUBMITTED\n",
      "2020-06-04T15:00:00, SELL EXECUTED, Price: 323.14, Gain: 1908.66, Comm 1.94\n",
      "2020-06-04T16:00:00, BUY CREATE, 322.16, position value: 2097.12\n",
      "2020-06-04T16:00:00, ORDER ACCEPTED/SUBMITTED\n",
      "2020-06-04T16:00:00, ORDER ACCEPTED/SUBMITTED\n",
      "2020-06-04T16:00:00, ORDER ACCEPTED/SUBMITTED\n",
      "2020-06-05T09:30:00, BUY EXECUTED, Price: 322.32, Cost: 1933.92, Comm 1.93\n",
      "2020-06-12T14:00:00, SELL CREATE, 334.81, position value: 2170.13\n",
      "2020-06-12T14:00:00, ORDER ACCEPTED/SUBMITTED\n",
      "2020-06-12T14:00:00, ORDER ACCEPTED/SUBMITTED\n",
      "2020-06-12T14:00:00, ORDER ACCEPTED/SUBMITTED\n",
      "2020-06-12T14:30:00, SELL EXECUTED, Price: 334.81, Gain: 1933.92, Comm 2.01\n",
      "2020-06-16T11:30:00, BUY CREATE, 349.49, position value: 2168.12\n",
      "2020-06-16T11:30:00, ORDER ACCEPTED/SUBMITTED\n",
      "2020-06-16T11:30:00, ORDER ACCEPTED/SUBMITTED\n",
      "2020-06-16T11:30:00, ORDER ACCEPTED/SUBMITTED\n",
      "2020-06-16T12:00:00, BUY EXECUTED, Price: 349.49, Cost: 2096.94, Comm 2.10\n",
      "2020-06-24T09:30:00, SELL CREATE, 366.53, position value: 2268.26\n",
      "2020-06-24T09:30:00, ORDER ACCEPTED/SUBMITTED\n",
      "2020-06-24T09:30:00, ORDER ACCEPTED/SUBMITTED\n",
      "2020-06-24T09:30:00, ORDER ACCEPTED/SUBMITTED\n",
      "2020-06-24T10:00:00, SELL EXECUTED, Price: 366.53, Gain: 2096.94, Comm 2.20\n",
      "2020-06-24T10:00:00, BUY CREATE, 363.35, position value: 2266.06\n",
      "2020-06-24T10:00:00, ORDER ACCEPTED/SUBMITTED\n",
      "2020-06-24T10:00:00, ORDER ACCEPTED/SUBMITTED\n",
      "2020-06-24T10:00:00, ORDER ACCEPTED/SUBMITTED\n",
      "2020-06-24T10:30:00, BUY EXECUTED, Price: 364.98, Cost: 2189.85, Comm 2.19\n",
      "Good Trade\n",
      "Final Portfolio Value: 2196.85\n",
      "If no error message, task completed\n",
      "All price data of Close is actually Adj Close\n",
      "Connection Successful\n",
      "('Finished', 'BAC')\n",
      "All price data of Close is actually Adj Close\n",
      "Connection Successful\n",
      "('Finished', 'BAC')\n",
      "2020-05-27T10:30:00, BUY CREATE, 25.26, position value: 2000.00\n",
      "2020-05-27T10:30:00, ORDER ACCEPTED/SUBMITTED\n",
      "2020-05-27T10:30:00, ORDER ACCEPTED/SUBMITTED\n",
      "2020-05-27T10:30:00, ORDER ACCEPTED/SUBMITTED\n",
      "2020-05-27T11:00:00, BUY EXECUTED, Price: 25.14, Cost: 1986.06, Comm 1.99\n",
      "2020-05-29T16:00:00, SELL CREATE, 24.12, position value: 1917.43\n",
      "2020-05-29T16:00:00, ORDER ACCEPTED/SUBMITTED\n",
      "2020-05-29T16:00:00, ORDER ACCEPTED/SUBMITTED\n",
      "2020-05-29T16:00:00, ORDER ACCEPTED/SUBMITTED\n",
      "2020-06-01T09:30:00, SELL EXECUTED, Price: 24.12, Gain: 1986.06, Comm 1.91\n",
      "2020-06-01T09:30:00, BUY CREATE, 24.12, position value: 1915.53\n",
      "2020-06-01T09:30:00, ORDER ACCEPTED/SUBMITTED\n",
      "2020-06-01T09:30:00, ORDER ACCEPTED/SUBMITTED\n",
      "2020-06-01T09:30:00, ORDER ACCEPTED/SUBMITTED\n",
      "2020-06-01T10:00:00, BUY EXECUTED, Price: 24.12, Cost: 1905.48, Comm 1.91\n",
      "2020-06-16T12:30:00, SELL CREATE, 25.70, position value: 2038.84\n",
      "2020-06-16T12:30:00, ORDER ACCEPTED/SUBMITTED\n",
      "2020-06-16T12:30:00, ORDER ACCEPTED/SUBMITTED\n",
      "2020-06-16T12:30:00, ORDER ACCEPTED/SUBMITTED\n",
      "2020-06-16T13:00:00, SELL EXECUTED, Price: 25.70, Gain: 1905.48, Comm 2.03\n",
      "2020-06-16T13:00:00, BUY CREATE, 25.77, position value: 2036.81\n",
      "2020-06-16T13:00:00, ORDER ACCEPTED/SUBMITTED\n",
      "2020-06-16T13:00:00, ORDER ACCEPTED/SUBMITTED\n",
      "2020-06-16T13:30:00, BUY CREATE, 25.82, position value: 2036.81\n",
      "2020-06-16T13:30:00, ORDER ACCEPTED/SUBMITTED\n",
      "2020-06-16T13:30:00, ORDER ACCEPTED/SUBMITTED\n",
      "2020-06-16T13:30:00, ORDER ACCEPTED/SUBMITTED\n",
      "2020-06-16T14:00:00, BUY EXECUTED, Price: 25.64, Cost: 1999.92, Comm 2.00\n",
      "2020-06-19T14:00:00, SELL CREATE, 24.61, position value: 1954.08\n",
      "2020-06-19T14:00:00, ORDER ACCEPTED/SUBMITTED\n",
      "2020-06-19T14:00:00, ORDER ACCEPTED/SUBMITTED\n",
      "2020-06-19T14:00:00, ORDER ACCEPTED/SUBMITTED\n",
      "2020-06-19T14:30:00, SELL EXECUTED, Price: 24.53, Gain: 1999.92, Comm 1.91\n",
      "Final Portfolio Value: 1946.31\n",
      "If no error message, task completed\n",
      "All price data of Close is actually Adj Close\n",
      "Connection Successful\n",
      "('Finished', 'AMZN')\n"
     ]
    },
    {
     "ename": "KeyboardInterrupt",
     "evalue": "",
     "output_type": "error",
     "traceback": [
      "\u001b[0;31m---------------------------------------------------------------------------\u001b[0m",
      "\u001b[0;31mKeyboardInterrupt\u001b[0m                         Traceback (most recent call last)",
      "\u001b[0;32m<ipython-input-8-9adcf9b903f1>\u001b[0m in \u001b[0;36m<module>\u001b[0;34m()\u001b[0m\n\u001b[1;32m      7\u001b[0m \u001b[0;32mfor\u001b[0m \u001b[0mi\u001b[0m \u001b[0;32min\u001b[0m \u001b[0mall_ticker\u001b[0m\u001b[0;34m:\u001b[0m\u001b[0;34m\u001b[0m\u001b[0m\n\u001b[1;32m      8\u001b[0m     \u001b[0;32mtry\u001b[0m\u001b[0;34m:\u001b[0m\u001b[0;34m\u001b[0m\u001b[0m\n\u001b[0;32m----> 9\u001b[0;31m         \u001b[0mfirst\u001b[0m \u001b[0;34m=\u001b[0m \u001b[0mmomentum_best_day\u001b[0m\u001b[0;34m(\u001b[0m\u001b[0mi\u001b[0m\u001b[0;34m,\u001b[0m\u001b[0mrobinhood\u001b[0m\u001b[0;34m=\u001b[0m\u001b[0mrobingateway\u001b[0m\u001b[0;34m(\u001b[0m\u001b[0;34m)\u001b[0m\u001b[0;34m,\u001b[0m\u001b[0mmethod\u001b[0m \u001b[0;34m=\u001b[0m \u001b[0;34m\"self_minute\"\u001b[0m\u001b[0;34m)\u001b[0m\u001b[0;34m.\u001b[0m\u001b[0miloc\u001b[0m\u001b[0;34m[\u001b[0m\u001b[0;36m0\u001b[0m\u001b[0;34m]\u001b[0m\u001b[0;34m\u001b[0m\u001b[0m\n\u001b[0m\u001b[1;32m     10\u001b[0m         \u001b[0mend_value\u001b[0m\u001b[0;34m,\u001b[0m\u001b[0msharpratio\u001b[0m \u001b[0;34m=\u001b[0m \u001b[0mmomentum_backtest\u001b[0m\u001b[0;34m(\u001b[0m\u001b[0mi\u001b[0m\u001b[0;34m,\u001b[0m\u001b[0mfirst\u001b[0m\u001b[0;34m[\u001b[0m\u001b[0;34m\"Lookback\"\u001b[0m\u001b[0;34m]\u001b[0m\u001b[0;34m,\u001b[0m\u001b[0mfirst\u001b[0m\u001b[0;34m[\u001b[0m\u001b[0;34m\"Holding\"\u001b[0m\u001b[0;34m]\u001b[0m\u001b[0;34m,\u001b[0m\u001b[0mrobinhood\u001b[0m\u001b[0;34m=\u001b[0m\u001b[0mrobingateway\u001b[0m\u001b[0;34m(\u001b[0m\u001b[0;34m)\u001b[0m\u001b[0;34m,\u001b[0m\u001b[0mmethod\u001b[0m \u001b[0;34m=\u001b[0m \u001b[0;34m\"self_minute\"\u001b[0m\u001b[0;34m)\u001b[0m\u001b[0;34m\u001b[0m\u001b[0m\n\u001b[1;32m     11\u001b[0m         \u001b[0mtemp\u001b[0m \u001b[0;34m=\u001b[0m \u001b[0mpd\u001b[0m\u001b[0;34m.\u001b[0m\u001b[0mDataFrame\u001b[0m\u001b[0;34m(\u001b[0m\u001b[0;34m[\u001b[0m\u001b[0;34m(\u001b[0m\u001b[0mi\u001b[0m\u001b[0;34m,\u001b[0m\u001b[0mend_value\u001b[0m\u001b[0;34m,\u001b[0m\u001b[0msharpratio\u001b[0m\u001b[0;34m,\u001b[0m \u001b[0mfirst\u001b[0m\u001b[0;34m[\u001b[0m\u001b[0;34m\"Lookback\"\u001b[0m\u001b[0;34m]\u001b[0m\u001b[0;34m,\u001b[0m\u001b[0mfirst\u001b[0m\u001b[0;34m[\u001b[0m\u001b[0;34m\"Holding\"\u001b[0m\u001b[0;34m]\u001b[0m\u001b[0;34m)\u001b[0m\u001b[0;34m]\u001b[0m\u001b[0;34m,\u001b[0m\u001b[0mcolumns\u001b[0m\u001b[0;34m=\u001b[0m \u001b[0;34m[\u001b[0m\u001b[0;34m\"Ticker\"\u001b[0m\u001b[0;34m,\u001b[0m\u001b[0;34m\"End_Value\"\u001b[0m\u001b[0;34m,\u001b[0m \u001b[0;34m\"Sharp_Ratio\"\u001b[0m\u001b[0;34m,\u001b[0m\u001b[0;34m\"Lookback\"\u001b[0m\u001b[0;34m,\u001b[0m\u001b[0;34m\"Holding\"\u001b[0m\u001b[0;34m]\u001b[0m\u001b[0;34m)\u001b[0m\u001b[0;34m\u001b[0m\u001b[0m\n",
      "\u001b[0;32m/home/ken/notebook/My_Trader2.0/my_libs/my_strategies.pyc\u001b[0m in \u001b[0;36mmomentum_best_day\u001b[0;34m(ticker, robinhood, method)\u001b[0m\n\u001b[1;32m   1004\u001b[0m \u001b[0;34m\u001b[0m\u001b[0m\n\u001b[1;32m   1005\u001b[0m             \u001b[0mret_post\u001b[0m\u001b[0;34m=\u001b[0m \u001b[0mret_post\u001b[0m\u001b[0;34m.\u001b[0m\u001b[0miloc\u001b[0m\u001b[0;34m[\u001b[0m\u001b[0mshorter\u001b[0m\u001b[0;34m:\u001b[0m\u001b[0;34m]\u001b[0m\u001b[0;34m\u001b[0m\u001b[0m\n\u001b[0;32m-> 1006\u001b[0;31m             \u001b[0mcorr\u001b[0m\u001b[0;34m,\u001b[0m\u001b[0mp_value\u001b[0m \u001b[0;34m=\u001b[0m \u001b[0mstats\u001b[0m\u001b[0;34m.\u001b[0m\u001b[0mpearsonr\u001b[0m\u001b[0;34m(\u001b[0m\u001b[0mret_pre\u001b[0m\u001b[0;34m,\u001b[0m\u001b[0mret_post\u001b[0m\u001b[0;34m)\u001b[0m\u001b[0;34m\u001b[0m\u001b[0m\n\u001b[0m\u001b[1;32m   1007\u001b[0m             \u001b[0mresult\u001b[0m \u001b[0;34m=\u001b[0m \u001b[0mresult\u001b[0m\u001b[0;34m.\u001b[0m\u001b[0mappend\u001b[0m\u001b[0;34m(\u001b[0m\u001b[0;34m{\u001b[0m\u001b[0;34m\"Lookback\"\u001b[0m\u001b[0;34m:\u001b[0m\u001b[0mlookback\u001b[0m\u001b[0;34m,\u001b[0m\u001b[0;34m\"Holding\"\u001b[0m\u001b[0;34m:\u001b[0m\u001b[0mholding\u001b[0m\u001b[0;34m,\u001b[0m\u001b[0;34m\"Correlation\"\u001b[0m\u001b[0;34m:\u001b[0m\u001b[0mcorr\u001b[0m\u001b[0;34m,\u001b[0m\u001b[0;34m\"P_Value\"\u001b[0m\u001b[0;34m:\u001b[0m\u001b[0mp_value\u001b[0m\u001b[0;34m}\u001b[0m\u001b[0;34m,\u001b[0m\u001b[0mignore_index\u001b[0m\u001b[0;34m=\u001b[0m\u001b[0mTrue\u001b[0m\u001b[0;34m)\u001b[0m\u001b[0;34m\u001b[0m\u001b[0m\n\u001b[1;32m   1008\u001b[0m             \u001b[0mresult\u001b[0m\u001b[0;34m.\u001b[0m\u001b[0mcolumns\u001b[0m \u001b[0;34m=\u001b[0m \u001b[0;34m[\u001b[0m\u001b[0;34m\"Lookback\"\u001b[0m\u001b[0;34m,\u001b[0m\u001b[0;34m\"Holding\"\u001b[0m\u001b[0;34m,\u001b[0m\u001b[0;34m\"Correlation\"\u001b[0m\u001b[0;34m,\u001b[0m\u001b[0;34m\"P_Value\"\u001b[0m\u001b[0;34m]\u001b[0m\u001b[0;34m\u001b[0m\u001b[0m\n",
      "\u001b[0;32m/home/ken/.local/lib/python2.7/site-packages/scipy/stats/stats.pyc\u001b[0m in \u001b[0;36mpearsonr\u001b[0;34m(x, y)\u001b[0m\n\u001b[1;32m   3067\u001b[0m     \u001b[0;31m# x and y should have same length.\u001b[0m\u001b[0;34m\u001b[0m\u001b[0;34m\u001b[0m\u001b[0m\n\u001b[1;32m   3068\u001b[0m     \u001b[0mx\u001b[0m \u001b[0;34m=\u001b[0m \u001b[0mnp\u001b[0m\u001b[0;34m.\u001b[0m\u001b[0masarray\u001b[0m\u001b[0;34m(\u001b[0m\u001b[0mx\u001b[0m\u001b[0;34m)\u001b[0m\u001b[0;34m\u001b[0m\u001b[0m\n\u001b[0;32m-> 3069\u001b[0;31m     \u001b[0my\u001b[0m \u001b[0;34m=\u001b[0m \u001b[0mnp\u001b[0m\u001b[0;34m.\u001b[0m\u001b[0masarray\u001b[0m\u001b[0;34m(\u001b[0m\u001b[0my\u001b[0m\u001b[0;34m)\u001b[0m\u001b[0;34m\u001b[0m\u001b[0m\n\u001b[0m\u001b[1;32m   3070\u001b[0m     \u001b[0mn\u001b[0m \u001b[0;34m=\u001b[0m \u001b[0mlen\u001b[0m\u001b[0;34m(\u001b[0m\u001b[0mx\u001b[0m\u001b[0;34m)\u001b[0m\u001b[0;34m\u001b[0m\u001b[0m\n\u001b[1;32m   3071\u001b[0m     \u001b[0mmx\u001b[0m \u001b[0;34m=\u001b[0m \u001b[0mx\u001b[0m\u001b[0;34m.\u001b[0m\u001b[0mmean\u001b[0m\u001b[0;34m(\u001b[0m\u001b[0;34m)\u001b[0m\u001b[0;34m\u001b[0m\u001b[0m\n",
      "\u001b[0;31mKeyboardInterrupt\u001b[0m: "
     ]
    }
   ],
   "source": [
    "mongod = mongo(\"all_symbol\")\n",
    "\n",
    "# all_ticker = pd.DataFrame(mongod.db[\"cantrade\"].find()).Ticker.tolist()\n",
    "result = pd.DataFrame()\n",
    "all_ticker = mongod.conn.get_data(\"select * from all_symbol.cantrade\").Ticker.tolist()\n",
    "\n",
    "for i in all_ticker:\n",
    "    try:\n",
    "        first = momentum_best_day(i,robinhood=robingateway(),method = \"self_minute\").iloc[0]\n",
    "        end_value,sharpratio = momentum_backtest(i,first[\"Lookback\"],first[\"Holding\"],robinhood=robingateway(),method = \"self_minute\")\n",
    "        temp = pd.DataFrame([(i,end_value,sharpratio, first[\"Lookback\"],first[\"Holding\"])],columns= [\"Ticker\",\"End_Value\", \"Sharp_Ratio\",\"Lookback\",\"Holding\"])\n",
    "        temp[\"Refresh_Date\"] = datetime.today().date()\n",
    "        result = result.append(temp)\n",
    "        mongod.frame_to_mongo(collection_str=\"momentum_sharp\",data=temp,drop_mode=\"append\")\n",
    "    except Exception as e:\n",
    "        print (e)"
   ]
  },
  {
   "cell_type": "code",
   "execution_count": 2,
   "metadata": {},
   "outputs": [
    {
     "name": "stdout",
     "output_type": "stream",
     "text": [
      "Connection Successful\n"
     ]
    }
   ],
   "source": [
    "mongod = mongo(\"all_symbol\")\n",
    "\n",
    "# candidates = pd.DataFrame(mongod.db[\"momentum\"].find()).sort_values(\"End_Value\", ascending=False)    \n",
    "\n",
    "candidates = mongod.conn.get_data('''\n",
    "\n",
    "SELECT * FROM all_symbol.`Dist_momentum_sharp_TOS` ORDER BY `Sharp_Ratio` DESC\n",
    "\n",
    "''')    \n",
    "\n",
    "strategy_name = \"momentum\""
   ]
  },
  {
   "cell_type": "code",
   "execution_count": 15,
   "metadata": {
    "collapsed": true
   },
   "outputs": [
    {
     "name": "stdout",
     "output_type": "stream",
     "text": [
      "All price data of Close is actually Adj Close\n",
      "('Finished', u'PHT')\n",
      "Ascending\n",
      "All price data of Close is actually Adj Close\n",
      "('Finished', u'PHT')\n",
      "All price data of Close is actually Adj Close\n",
      "('Finished', u'BITA')\n",
      "Ascending\n",
      "2020-07-17\n",
      "Ascending\n",
      "Going ATP\n",
      "current option:\n",
      " Symbol:BITA strike:17.5, expiration:2020-07-17, type:call\n",
      "current option:\n",
      " Symbol:BITA strike:17.5, expiration:2020-07-17, type:call\n"
     ]
    },
    {
     "name": "stderr",
     "output_type": "stream",
     "text": [
      "my_libs/option.py:217: FutureWarning: set_value is deprecated and will be removed in a future release. Please use .at[] or .iat[] accessors instead\n",
      "  get.set_value(\"break_even_pert\",(float(get.break_even_price) - float(self.strike))/float(self.strike))\n"
     ]
    },
    {
     "name": "stdout",
     "output_type": "stream",
     "text": [
      "All price data of Close is actually Adj Close\n",
      "('Finished', u'WINA')\n",
      "Ascending\n",
      "All price data of Close is actually Adj Close\n",
      "('Finished', u'WINA')\n",
      "All price data of Close is actually Adj Close\n",
      "('Finished', u'DRD')\n",
      "Ascending\n",
      "All price data of Close is actually Adj Close\n",
      "('Finished', u'DRD')\n",
      "All price data of Close is actually Adj Close\n",
      "('Finished', u'SPWH')\n",
      "Ascending\n",
      "2020-07-17\n",
      "Ascending\n",
      "Going ATP\n",
      "current option:\n",
      " Symbol:SPWH strike:15.0, expiration:2020-07-17, type:call\n",
      "current option:\n",
      " Symbol:SPWH strike:15.0, expiration:2020-07-17, type:call\n",
      "All price data of Close is actually Adj Close\n",
      "('Finished', u'VAPO')\n",
      "Ascending\n",
      "2020-07-17\n",
      "Ascending\n",
      "Going ATP\n",
      "current option:\n",
      " Symbol:VAPO strike:45.0, expiration:2020-07-17, type:call\n",
      "current option:\n",
      " Symbol:VAPO strike:45.0, expiration:2020-07-17, type:call\n",
      "All price data of Close is actually Adj Close\n",
      "('Finished', u'SLG')\n",
      "Ascending\n",
      "2020-07-17\n",
      "Ascending\n",
      "Going ATP\n",
      "current option:\n",
      " Symbol:SLG strike:50.0, expiration:2020-07-17, type:call\n",
      "current option:\n",
      " Symbol:SLG strike:50.0, expiration:2020-07-17, type:call\n",
      "All price data of Close is actually Adj Close\n",
      "('Finished', u'TRV')\n",
      "Ascending\n",
      "2020-07-17\n",
      "Ascending\n",
      "Going ATP\n",
      "current option:\n",
      " Symbol:TRV strike:115.0, expiration:2020-07-17, type:call\n",
      "current option:\n",
      " Symbol:TRV strike:115.0, expiration:2020-07-17, type:call\n",
      "All price data of Close is actually Adj Close\n",
      "('Finished', u'OBCI')\n",
      "Ascending\n",
      "All price data of Close is actually Adj Close\n",
      "('Finished', u'OBCI')\n",
      "To: <lgyhz1234@gmail.com>\n",
      "From: <lgyhz1234@gmail.com>\n",
      "Subject: Daily Position\n",
      "All price data of Close is actually Adj Close\n",
      "('Finished', u'VSTO')\n",
      "Ascending\n",
      "2020-07-17\n",
      "Ascending\n",
      "Going ATP\n",
      "current option:\n",
      " Symbol:VSTO strike:15.0, expiration:2020-07-17, type:call\n",
      "current option:\n",
      " Symbol:VSTO strike:15.0, expiration:2020-07-17, type:call\n",
      "All price data of Close is actually Adj Close\n",
      "('Finished', u'CPS')\n",
      "Ascending\n",
      "2020-07-17\n",
      "Ascending\n",
      "Going ATP\n",
      "current option:\n",
      " Symbol:CPS strike:15.0, expiration:2020-07-17, type:call\n",
      "current option:\n",
      " Symbol:CPS strike:15.0, expiration:2020-07-17, type:call\n",
      "All price data of Close is actually Adj Close\n",
      "('Finished', u'BCLI')\n",
      "Ascending\n",
      "2020-07-17\n",
      "Ascending\n",
      "Going ATP\n",
      "current option:\n",
      " Symbol:BCLI strike:15.0, expiration:2020-07-17, type:call\n",
      "current option:\n",
      " Symbol:BCLI strike:15.0, expiration:2020-07-17, type:call\n",
      "All price data of Close is actually Adj Close\n",
      "('Finished', u'ACRE')\n",
      "Ascending\n",
      "2020-07-17\n",
      "Ascending\n",
      "Going ATP\n",
      "current option:\n",
      " Symbol:ACRE strike:10.0, expiration:2020-07-17, type:call\n",
      "current option:\n",
      " Symbol:ACRE strike:10.0, expiration:2020-07-17, type:call\n",
      "All price data of Close is actually Adj Close\n",
      "('Finished', u'LL')\n",
      "Ascending\n",
      "2020-07-02\n",
      "Ascending\n",
      "Going ATP\n",
      "current option:\n",
      " Symbol:LL strike:13.5, expiration:2020-07-02, type:call\n",
      "current option:\n",
      " Symbol:LL strike:13.5, expiration:2020-07-02, type:call\n",
      "All price data of Close is actually Adj Close\n",
      "('Finished', u'SRG')\n",
      "Ascending\n",
      "2020-07-17\n",
      "Ascending\n",
      "Going ATP\n",
      "current option:\n",
      " Symbol:SRG strike:11.0, expiration:2020-07-17, type:call\n",
      "current option:\n",
      " Symbol:SRG strike:11.0, expiration:2020-07-17, type:call\n",
      "All price data of Close is actually Adj Close\n",
      "('Finished', u'APPS')\n",
      "Ascending\n",
      "2020-07-17\n",
      "Ascending\n",
      "Going ATP\n",
      "current option:\n",
      " Symbol:APPS strike:12.5, expiration:2020-07-17, type:call\n",
      "current option:\n",
      " Symbol:APPS strike:12.5, expiration:2020-07-17, type:call\n",
      "All price data of Close is actually Adj Close\n",
      "('Finished', u'RIF')\n",
      "Ascending\n",
      "All price data of Close is actually Adj Close\n",
      "('Finished', u'RIF')\n",
      "All price data of Close is actually Adj Close\n",
      "('Finished', u'TBBK')\n",
      "Ascending\n",
      "2020-07-17\n",
      "Ascending\n",
      "Going ATP\n",
      "current option:\n",
      " Symbol:TBBK strike:10.0, expiration:2020-07-17, type:call\n",
      "current option:\n",
      " Symbol:TBBK strike:10.0, expiration:2020-07-17, type:call\n",
      "All price data of Close is actually Adj Close\n",
      "('Finished', u'DSL')\n",
      "Ascending\n",
      "2020-07-17\n",
      "Ascending\n",
      "Going ATP\n",
      "current option:\n",
      " Symbol:DSL strike:17.5, expiration:2020-07-17, type:call\n",
      "current option:\n",
      " Symbol:DSL strike:17.5, expiration:2020-07-17, type:call\n",
      "All price data of Close is actually Adj Close\n",
      "('Finished', u'JEQ')\n",
      "Ascending\n",
      "All price data of Close is actually Adj Close\n",
      "('Finished', u'JEQ')\n"
     ]
    }
   ],
   "source": [
    "for i in candidates.Ticker.iloc[:20]:\n",
    "    try:\n",
    "        price = get_price_data([i], method=\"realtimeday\",robinhood=robingateway(),back_day=200 )\n",
    "        price = price.set_index(\"TimeStamp\")\n",
    "        lookback = int(candidates.loc[candidates.Ticker == i,\"Lookback\"].iloc[0])\n",
    "        holddays = int(candidates.loc[candidates.Ticker == i,\"Holding\"].iloc[0])\n",
    "#     price[\"Return\"] = np.log(price.Close/price.Close.shift(lookback))\n",
    "\n",
    "        fprice = np.log(fwd_price(i,mat=14,val_num_steps=30)/price.Close.iloc[-lookback])\n",
    "    except Exception as e:\n",
    "        send_email(\"Price in momentum check error %s, Error: %s. Process continues\"%(i,str(e)))\n",
    "        continue"
   ]
  },
  {
   "cell_type": "code",
   "execution_count": null,
   "metadata": {},
   "outputs": [],
   "source": []
  },
  {
   "cell_type": "markdown",
   "metadata": {},
   "source": [
    "## Test"
   ]
  },
  {
   "cell_type": "code",
   "execution_count": 3,
   "metadata": {},
   "outputs": [
    {
     "name": "stdout",
     "output_type": "stream",
     "text": [
      "Connection Successful\n"
     ]
    }
   ],
   "source": [
    "mongod = mongo(\"all_symbol\")\n",
    "\n",
    "# candidates = pd.DataFrame(mongod.db[\"momentum\"].find()).sort_values(\"End_Value\", ascending=False)    \n",
    "\n",
    "cantrade = mongod.conn.get_data('''\n",
    "\n",
    "SELECT ticker FROM all_symbol.cantrade\n",
    "\n",
    "''')    \n"
   ]
  },
  {
   "cell_type": "code",
   "execution_count": 19,
   "metadata": {},
   "outputs": [
    {
     "name": "stdout",
     "output_type": "stream",
     "text": [
      "Cannot convert datetime to date\n",
      "Cannot convert datetime to date\n",
      "Cannot convert datetime to date\n",
      "Cannot convert datetime to date\n",
      "Cannot convert datetime to date\n",
      "Cannot convert datetime to date\n"
     ]
    },
    {
     "ename": "KeyboardInterrupt",
     "evalue": "",
     "output_type": "error",
     "traceback": [
      "\u001b[0;31m---------------------------------------------------------------------------\u001b[0m",
      "\u001b[0;31mKeyboardInterrupt\u001b[0m                         Traceback (most recent call last)",
      "\u001b[0;32m<ipython-input-19-b2aae429f12d>\u001b[0m in \u001b[0;36m<module>\u001b[0;34m()\u001b[0m\n\u001b[1;32m      1\u001b[0m \u001b[0mresult\u001b[0m \u001b[0;34m=\u001b[0m \u001b[0mpd\u001b[0m\u001b[0;34m.\u001b[0m\u001b[0mDataFrame\u001b[0m\u001b[0;34m(\u001b[0m\u001b[0;34m)\u001b[0m\u001b[0;34m\u001b[0m\u001b[0m\n\u001b[1;32m      2\u001b[0m \u001b[0;32mfor\u001b[0m \u001b[0mi\u001b[0m \u001b[0;32min\u001b[0m \u001b[0mcantrade\u001b[0m\u001b[0;34m.\u001b[0m\u001b[0mticker\u001b[0m\u001b[0;34m:\u001b[0m\u001b[0;34m\u001b[0m\u001b[0m\n\u001b[0;32m----> 3\u001b[0;31m     \u001b[0mddcf\u001b[0m \u001b[0;34m=\u001b[0m \u001b[0mdcf\u001b[0m\u001b[0;34m(\u001b[0m\u001b[0mi\u001b[0m\u001b[0;34m,\u001b[0m\u001b[0;34m\"today\"\u001b[0m\u001b[0;34m)\u001b[0m\u001b[0;34m\u001b[0m\u001b[0m\n\u001b[0m\u001b[1;32m      4\u001b[0m     \u001b[0;32mif\u001b[0m \u001b[0mlen\u001b[0m\u001b[0;34m(\u001b[0m\u001b[0mddcf\u001b[0m\u001b[0;34m)\u001b[0m\u001b[0;34m==\u001b[0m\u001b[0;36m0\u001b[0m\u001b[0;34m:\u001b[0m\u001b[0;34m\u001b[0m\u001b[0m\n\u001b[1;32m      5\u001b[0m         \u001b[0;32mcontinue\u001b[0m\u001b[0;34m\u001b[0m\u001b[0m\n",
      "\u001b[0;32m/home/ken/notebook/My_Trader2.0/my_libs/fmp.pyc\u001b[0m in \u001b[0;36mdcf\u001b[0;34m(ticker, history)\u001b[0m\n\u001b[1;32m    236\u001b[0m     \u001b[0;32mexcept\u001b[0m \u001b[0mKeyError\u001b[0m\u001b[0;34m:\u001b[0m\u001b[0;34m\u001b[0m\u001b[0m\n\u001b[1;32m    237\u001b[0m         \u001b[0;32mraise\u001b[0m \u001b[0mKeyError\u001b[0m\u001b[0;34m(\u001b[0m\u001b[0;34m'Discounted Cash Flow history requested not correct. '\u001b[0m \u001b[0;34m+\u001b[0m \u001b[0mhistory\u001b[0m \u001b[0;34m+\u001b[0m \u001b[0;34m' is not an accepted key'\u001b[0m\u001b[0;34m)\u001b[0m\u001b[0;34m\u001b[0m\u001b[0m\n\u001b[0;32m--> 238\u001b[0;31m     \u001b[0mresponse\u001b[0m \u001b[0;34m=\u001b[0m \u001b[0murlopen\u001b[0m\u001b[0;34m(\u001b[0m\u001b[0murl\u001b[0m\u001b[0;34m)\u001b[0m\u001b[0;34m\u001b[0m\u001b[0m\n\u001b[0m\u001b[1;32m    239\u001b[0m     \u001b[0mdata\u001b[0m \u001b[0;34m=\u001b[0m \u001b[0mresponse\u001b[0m\u001b[0;34m.\u001b[0m\u001b[0mread\u001b[0m\u001b[0;34m(\u001b[0m\u001b[0;34m)\u001b[0m\u001b[0;34m.\u001b[0m\u001b[0mdecode\u001b[0m\u001b[0;34m(\u001b[0m\u001b[0;34m\"utf-8\"\u001b[0m\u001b[0;34m)\u001b[0m\u001b[0;34m\u001b[0m\u001b[0m\n\u001b[1;32m    240\u001b[0m     \u001b[0;32mreturn\u001b[0m \u001b[0msafe_read_json\u001b[0m\u001b[0;34m(\u001b[0m\u001b[0mdata\u001b[0m\u001b[0;34m)\u001b[0m\u001b[0;34m\u001b[0m\u001b[0m\n",
      "\u001b[0;32m/usr/lib/python2.7/urllib2.pyc\u001b[0m in \u001b[0;36murlopen\u001b[0;34m(url, data, timeout, cafile, capath, cadefault, context)\u001b[0m\n\u001b[1;32m    152\u001b[0m     \u001b[0;32melse\u001b[0m\u001b[0;34m:\u001b[0m\u001b[0;34m\u001b[0m\u001b[0m\n\u001b[1;32m    153\u001b[0m         \u001b[0mopener\u001b[0m \u001b[0;34m=\u001b[0m \u001b[0m_opener\u001b[0m\u001b[0;34m\u001b[0m\u001b[0m\n\u001b[0;32m--> 154\u001b[0;31m     \u001b[0;32mreturn\u001b[0m \u001b[0mopener\u001b[0m\u001b[0;34m.\u001b[0m\u001b[0mopen\u001b[0m\u001b[0;34m(\u001b[0m\u001b[0murl\u001b[0m\u001b[0;34m,\u001b[0m \u001b[0mdata\u001b[0m\u001b[0;34m,\u001b[0m \u001b[0mtimeout\u001b[0m\u001b[0;34m)\u001b[0m\u001b[0;34m\u001b[0m\u001b[0m\n\u001b[0m\u001b[1;32m    155\u001b[0m \u001b[0;34m\u001b[0m\u001b[0m\n\u001b[1;32m    156\u001b[0m \u001b[0;32mdef\u001b[0m \u001b[0minstall_opener\u001b[0m\u001b[0;34m(\u001b[0m\u001b[0mopener\u001b[0m\u001b[0;34m)\u001b[0m\u001b[0;34m:\u001b[0m\u001b[0;34m\u001b[0m\u001b[0m\n",
      "\u001b[0;32m/usr/lib/python2.7/urllib2.pyc\u001b[0m in \u001b[0;36mopen\u001b[0;34m(self, fullurl, data, timeout)\u001b[0m\n\u001b[1;32m    427\u001b[0m             \u001b[0mreq\u001b[0m \u001b[0;34m=\u001b[0m \u001b[0mmeth\u001b[0m\u001b[0;34m(\u001b[0m\u001b[0mreq\u001b[0m\u001b[0;34m)\u001b[0m\u001b[0;34m\u001b[0m\u001b[0m\n\u001b[1;32m    428\u001b[0m \u001b[0;34m\u001b[0m\u001b[0m\n\u001b[0;32m--> 429\u001b[0;31m         \u001b[0mresponse\u001b[0m \u001b[0;34m=\u001b[0m \u001b[0mself\u001b[0m\u001b[0;34m.\u001b[0m\u001b[0m_open\u001b[0m\u001b[0;34m(\u001b[0m\u001b[0mreq\u001b[0m\u001b[0;34m,\u001b[0m \u001b[0mdata\u001b[0m\u001b[0;34m)\u001b[0m\u001b[0;34m\u001b[0m\u001b[0m\n\u001b[0m\u001b[1;32m    430\u001b[0m \u001b[0;34m\u001b[0m\u001b[0m\n\u001b[1;32m    431\u001b[0m         \u001b[0;31m# post-process response\u001b[0m\u001b[0;34m\u001b[0m\u001b[0;34m\u001b[0m\u001b[0m\n",
      "\u001b[0;32m/usr/lib/python2.7/urllib2.pyc\u001b[0m in \u001b[0;36m_open\u001b[0;34m(self, req, data)\u001b[0m\n\u001b[1;32m    445\u001b[0m         \u001b[0mprotocol\u001b[0m \u001b[0;34m=\u001b[0m \u001b[0mreq\u001b[0m\u001b[0;34m.\u001b[0m\u001b[0mget_type\u001b[0m\u001b[0;34m(\u001b[0m\u001b[0;34m)\u001b[0m\u001b[0;34m\u001b[0m\u001b[0m\n\u001b[1;32m    446\u001b[0m         result = self._call_chain(self.handle_open, protocol, protocol +\n\u001b[0;32m--> 447\u001b[0;31m                                   '_open', req)\n\u001b[0m\u001b[1;32m    448\u001b[0m         \u001b[0;32mif\u001b[0m \u001b[0mresult\u001b[0m\u001b[0;34m:\u001b[0m\u001b[0;34m\u001b[0m\u001b[0m\n\u001b[1;32m    449\u001b[0m             \u001b[0;32mreturn\u001b[0m \u001b[0mresult\u001b[0m\u001b[0;34m\u001b[0m\u001b[0m\n",
      "\u001b[0;32m/usr/lib/python2.7/urllib2.pyc\u001b[0m in \u001b[0;36m_call_chain\u001b[0;34m(self, chain, kind, meth_name, *args)\u001b[0m\n\u001b[1;32m    405\u001b[0m             \u001b[0mfunc\u001b[0m \u001b[0;34m=\u001b[0m \u001b[0mgetattr\u001b[0m\u001b[0;34m(\u001b[0m\u001b[0mhandler\u001b[0m\u001b[0;34m,\u001b[0m \u001b[0mmeth_name\u001b[0m\u001b[0;34m)\u001b[0m\u001b[0;34m\u001b[0m\u001b[0m\n\u001b[1;32m    406\u001b[0m \u001b[0;34m\u001b[0m\u001b[0m\n\u001b[0;32m--> 407\u001b[0;31m             \u001b[0mresult\u001b[0m \u001b[0;34m=\u001b[0m \u001b[0mfunc\u001b[0m\u001b[0;34m(\u001b[0m\u001b[0;34m*\u001b[0m\u001b[0margs\u001b[0m\u001b[0;34m)\u001b[0m\u001b[0;34m\u001b[0m\u001b[0m\n\u001b[0m\u001b[1;32m    408\u001b[0m             \u001b[0;32mif\u001b[0m \u001b[0mresult\u001b[0m \u001b[0;32mis\u001b[0m \u001b[0;32mnot\u001b[0m \u001b[0mNone\u001b[0m\u001b[0;34m:\u001b[0m\u001b[0;34m\u001b[0m\u001b[0m\n\u001b[1;32m    409\u001b[0m                 \u001b[0;32mreturn\u001b[0m \u001b[0mresult\u001b[0m\u001b[0;34m\u001b[0m\u001b[0m\n",
      "\u001b[0;32m/usr/lib/python2.7/urllib2.pyc\u001b[0m in \u001b[0;36mhttps_open\u001b[0;34m(self, req)\u001b[0m\n\u001b[1;32m   1246\u001b[0m         \u001b[0;32mdef\u001b[0m \u001b[0mhttps_open\u001b[0m\u001b[0;34m(\u001b[0m\u001b[0mself\u001b[0m\u001b[0;34m,\u001b[0m \u001b[0mreq\u001b[0m\u001b[0;34m)\u001b[0m\u001b[0;34m:\u001b[0m\u001b[0;34m\u001b[0m\u001b[0m\n\u001b[1;32m   1247\u001b[0m             return self.do_open(httplib.HTTPSConnection, req,\n\u001b[0;32m-> 1248\u001b[0;31m                 context=self._context)\n\u001b[0m\u001b[1;32m   1249\u001b[0m \u001b[0;34m\u001b[0m\u001b[0m\n\u001b[1;32m   1250\u001b[0m         \u001b[0mhttps_request\u001b[0m \u001b[0;34m=\u001b[0m \u001b[0mAbstractHTTPHandler\u001b[0m\u001b[0;34m.\u001b[0m\u001b[0mdo_request_\u001b[0m\u001b[0;34m\u001b[0m\u001b[0m\n",
      "\u001b[0;32m/usr/lib/python2.7/urllib2.pyc\u001b[0m in \u001b[0;36mdo_open\u001b[0;34m(self, http_class, req, **http_conn_args)\u001b[0m\n\u001b[1;32m   1200\u001b[0m \u001b[0;34m\u001b[0m\u001b[0m\n\u001b[1;32m   1201\u001b[0m         \u001b[0;32mtry\u001b[0m\u001b[0;34m:\u001b[0m\u001b[0;34m\u001b[0m\u001b[0m\n\u001b[0;32m-> 1202\u001b[0;31m             \u001b[0mh\u001b[0m\u001b[0;34m.\u001b[0m\u001b[0mrequest\u001b[0m\u001b[0;34m(\u001b[0m\u001b[0mreq\u001b[0m\u001b[0;34m.\u001b[0m\u001b[0mget_method\u001b[0m\u001b[0;34m(\u001b[0m\u001b[0;34m)\u001b[0m\u001b[0;34m,\u001b[0m \u001b[0mreq\u001b[0m\u001b[0;34m.\u001b[0m\u001b[0mget_selector\u001b[0m\u001b[0;34m(\u001b[0m\u001b[0;34m)\u001b[0m\u001b[0;34m,\u001b[0m \u001b[0mreq\u001b[0m\u001b[0;34m.\u001b[0m\u001b[0mdata\u001b[0m\u001b[0;34m,\u001b[0m \u001b[0mheaders\u001b[0m\u001b[0;34m)\u001b[0m\u001b[0;34m\u001b[0m\u001b[0m\n\u001b[0m\u001b[1;32m   1203\u001b[0m         \u001b[0;32mexcept\u001b[0m \u001b[0msocket\u001b[0m\u001b[0;34m.\u001b[0m\u001b[0merror\u001b[0m\u001b[0;34m,\u001b[0m \u001b[0merr\u001b[0m\u001b[0;34m:\u001b[0m \u001b[0;31m# XXX what error?\u001b[0m\u001b[0;34m\u001b[0m\u001b[0m\n\u001b[1;32m   1204\u001b[0m             \u001b[0mh\u001b[0m\u001b[0;34m.\u001b[0m\u001b[0mclose\u001b[0m\u001b[0;34m(\u001b[0m\u001b[0;34m)\u001b[0m\u001b[0;34m\u001b[0m\u001b[0m\n",
      "\u001b[0;32m/usr/lib/python2.7/httplib.pyc\u001b[0m in \u001b[0;36mrequest\u001b[0;34m(self, method, url, body, headers)\u001b[0m\n\u001b[1;32m   1080\u001b[0m     \u001b[0;32mdef\u001b[0m \u001b[0mrequest\u001b[0m\u001b[0;34m(\u001b[0m\u001b[0mself\u001b[0m\u001b[0;34m,\u001b[0m \u001b[0mmethod\u001b[0m\u001b[0;34m,\u001b[0m \u001b[0murl\u001b[0m\u001b[0;34m,\u001b[0m \u001b[0mbody\u001b[0m\u001b[0;34m=\u001b[0m\u001b[0mNone\u001b[0m\u001b[0;34m,\u001b[0m \u001b[0mheaders\u001b[0m\u001b[0;34m=\u001b[0m\u001b[0;34m{\u001b[0m\u001b[0;34m}\u001b[0m\u001b[0;34m)\u001b[0m\u001b[0;34m:\u001b[0m\u001b[0;34m\u001b[0m\u001b[0m\n\u001b[1;32m   1081\u001b[0m         \u001b[0;34m\"\"\"Send a complete request to the server.\"\"\"\u001b[0m\u001b[0;34m\u001b[0m\u001b[0m\n\u001b[0;32m-> 1082\u001b[0;31m         \u001b[0mself\u001b[0m\u001b[0;34m.\u001b[0m\u001b[0m_send_request\u001b[0m\u001b[0;34m(\u001b[0m\u001b[0mmethod\u001b[0m\u001b[0;34m,\u001b[0m \u001b[0murl\u001b[0m\u001b[0;34m,\u001b[0m \u001b[0mbody\u001b[0m\u001b[0;34m,\u001b[0m \u001b[0mheaders\u001b[0m\u001b[0;34m)\u001b[0m\u001b[0;34m\u001b[0m\u001b[0m\n\u001b[0m\u001b[1;32m   1083\u001b[0m \u001b[0;34m\u001b[0m\u001b[0m\n\u001b[1;32m   1084\u001b[0m     \u001b[0;32mdef\u001b[0m \u001b[0m_set_content_length\u001b[0m\u001b[0;34m(\u001b[0m\u001b[0mself\u001b[0m\u001b[0;34m,\u001b[0m \u001b[0mbody\u001b[0m\u001b[0;34m,\u001b[0m \u001b[0mmethod\u001b[0m\u001b[0;34m)\u001b[0m\u001b[0;34m:\u001b[0m\u001b[0;34m\u001b[0m\u001b[0m\n",
      "\u001b[0;32m/usr/lib/python2.7/httplib.pyc\u001b[0m in \u001b[0;36m_send_request\u001b[0;34m(self, method, url, body, headers)\u001b[0m\n\u001b[1;32m   1120\u001b[0m         \u001b[0;32mfor\u001b[0m \u001b[0mhdr\u001b[0m\u001b[0;34m,\u001b[0m \u001b[0mvalue\u001b[0m \u001b[0;32min\u001b[0m \u001b[0mheaders\u001b[0m\u001b[0;34m.\u001b[0m\u001b[0miteritems\u001b[0m\u001b[0;34m(\u001b[0m\u001b[0;34m)\u001b[0m\u001b[0;34m:\u001b[0m\u001b[0;34m\u001b[0m\u001b[0m\n\u001b[1;32m   1121\u001b[0m             \u001b[0mself\u001b[0m\u001b[0;34m.\u001b[0m\u001b[0mputheader\u001b[0m\u001b[0;34m(\u001b[0m\u001b[0mhdr\u001b[0m\u001b[0;34m,\u001b[0m \u001b[0mvalue\u001b[0m\u001b[0;34m)\u001b[0m\u001b[0;34m\u001b[0m\u001b[0m\n\u001b[0;32m-> 1122\u001b[0;31m         \u001b[0mself\u001b[0m\u001b[0;34m.\u001b[0m\u001b[0mendheaders\u001b[0m\u001b[0;34m(\u001b[0m\u001b[0mbody\u001b[0m\u001b[0;34m)\u001b[0m\u001b[0;34m\u001b[0m\u001b[0m\n\u001b[0m\u001b[1;32m   1123\u001b[0m \u001b[0;34m\u001b[0m\u001b[0m\n\u001b[1;32m   1124\u001b[0m     \u001b[0;32mdef\u001b[0m \u001b[0mgetresponse\u001b[0m\u001b[0;34m(\u001b[0m\u001b[0mself\u001b[0m\u001b[0;34m,\u001b[0m \u001b[0mbuffering\u001b[0m\u001b[0;34m=\u001b[0m\u001b[0mFalse\u001b[0m\u001b[0;34m)\u001b[0m\u001b[0;34m:\u001b[0m\u001b[0;34m\u001b[0m\u001b[0m\n",
      "\u001b[0;32m/usr/lib/python2.7/httplib.pyc\u001b[0m in \u001b[0;36mendheaders\u001b[0;34m(self, message_body)\u001b[0m\n\u001b[1;32m   1076\u001b[0m         \u001b[0;32melse\u001b[0m\u001b[0;34m:\u001b[0m\u001b[0;34m\u001b[0m\u001b[0m\n\u001b[1;32m   1077\u001b[0m             \u001b[0;32mraise\u001b[0m \u001b[0mCannotSendHeader\u001b[0m\u001b[0;34m(\u001b[0m\u001b[0;34m)\u001b[0m\u001b[0;34m\u001b[0m\u001b[0m\n\u001b[0;32m-> 1078\u001b[0;31m         \u001b[0mself\u001b[0m\u001b[0;34m.\u001b[0m\u001b[0m_send_output\u001b[0m\u001b[0;34m(\u001b[0m\u001b[0mmessage_body\u001b[0m\u001b[0;34m)\u001b[0m\u001b[0;34m\u001b[0m\u001b[0m\n\u001b[0m\u001b[1;32m   1079\u001b[0m \u001b[0;34m\u001b[0m\u001b[0m\n\u001b[1;32m   1080\u001b[0m     \u001b[0;32mdef\u001b[0m \u001b[0mrequest\u001b[0m\u001b[0;34m(\u001b[0m\u001b[0mself\u001b[0m\u001b[0;34m,\u001b[0m \u001b[0mmethod\u001b[0m\u001b[0;34m,\u001b[0m \u001b[0murl\u001b[0m\u001b[0;34m,\u001b[0m \u001b[0mbody\u001b[0m\u001b[0;34m=\u001b[0m\u001b[0mNone\u001b[0m\u001b[0;34m,\u001b[0m \u001b[0mheaders\u001b[0m\u001b[0;34m=\u001b[0m\u001b[0;34m{\u001b[0m\u001b[0;34m}\u001b[0m\u001b[0;34m)\u001b[0m\u001b[0;34m:\u001b[0m\u001b[0;34m\u001b[0m\u001b[0m\n",
      "\u001b[0;32m/usr/lib/python2.7/httplib.pyc\u001b[0m in \u001b[0;36m_send_output\u001b[0;34m(self, message_body)\u001b[0m\n\u001b[1;32m    892\u001b[0m             \u001b[0mmsg\u001b[0m \u001b[0;34m+=\u001b[0m \u001b[0mmessage_body\u001b[0m\u001b[0;34m\u001b[0m\u001b[0m\n\u001b[1;32m    893\u001b[0m             \u001b[0mmessage_body\u001b[0m \u001b[0;34m=\u001b[0m \u001b[0mNone\u001b[0m\u001b[0;34m\u001b[0m\u001b[0m\n\u001b[0;32m--> 894\u001b[0;31m         \u001b[0mself\u001b[0m\u001b[0;34m.\u001b[0m\u001b[0msend\u001b[0m\u001b[0;34m(\u001b[0m\u001b[0mmsg\u001b[0m\u001b[0;34m)\u001b[0m\u001b[0;34m\u001b[0m\u001b[0m\n\u001b[0m\u001b[1;32m    895\u001b[0m         \u001b[0;32mif\u001b[0m \u001b[0mmessage_body\u001b[0m \u001b[0;32mis\u001b[0m \u001b[0;32mnot\u001b[0m \u001b[0mNone\u001b[0m\u001b[0;34m:\u001b[0m\u001b[0;34m\u001b[0m\u001b[0m\n\u001b[1;32m    896\u001b[0m             \u001b[0;31m#message_body was not a string (i.e. it is a file) and\u001b[0m\u001b[0;34m\u001b[0m\u001b[0;34m\u001b[0m\u001b[0m\n",
      "\u001b[0;32m/usr/lib/python2.7/httplib.pyc\u001b[0m in \u001b[0;36msend\u001b[0;34m(self, data)\u001b[0m\n\u001b[1;32m    854\u001b[0m         \u001b[0;32mif\u001b[0m \u001b[0mself\u001b[0m\u001b[0;34m.\u001b[0m\u001b[0msock\u001b[0m \u001b[0;32mis\u001b[0m \u001b[0mNone\u001b[0m\u001b[0;34m:\u001b[0m\u001b[0;34m\u001b[0m\u001b[0m\n\u001b[1;32m    855\u001b[0m             \u001b[0;32mif\u001b[0m \u001b[0mself\u001b[0m\u001b[0;34m.\u001b[0m\u001b[0mauto_open\u001b[0m\u001b[0;34m:\u001b[0m\u001b[0;34m\u001b[0m\u001b[0m\n\u001b[0;32m--> 856\u001b[0;31m                 \u001b[0mself\u001b[0m\u001b[0;34m.\u001b[0m\u001b[0mconnect\u001b[0m\u001b[0;34m(\u001b[0m\u001b[0;34m)\u001b[0m\u001b[0;34m\u001b[0m\u001b[0m\n\u001b[0m\u001b[1;32m    857\u001b[0m             \u001b[0;32melse\u001b[0m\u001b[0;34m:\u001b[0m\u001b[0;34m\u001b[0m\u001b[0m\n\u001b[1;32m    858\u001b[0m                 \u001b[0;32mraise\u001b[0m \u001b[0mNotConnected\u001b[0m\u001b[0;34m(\u001b[0m\u001b[0;34m)\u001b[0m\u001b[0;34m\u001b[0m\u001b[0m\n",
      "\u001b[0;32m/usr/lib/python2.7/httplib.pyc\u001b[0m in \u001b[0;36mconnect\u001b[0;34m(self)\u001b[0m\n\u001b[1;32m   1293\u001b[0m             \u001b[0;34m\"Connect to a host on a given (SSL) port.\"\u001b[0m\u001b[0;34m\u001b[0m\u001b[0m\n\u001b[1;32m   1294\u001b[0m \u001b[0;34m\u001b[0m\u001b[0m\n\u001b[0;32m-> 1295\u001b[0;31m             \u001b[0mHTTPConnection\u001b[0m\u001b[0;34m.\u001b[0m\u001b[0mconnect\u001b[0m\u001b[0;34m(\u001b[0m\u001b[0mself\u001b[0m\u001b[0;34m)\u001b[0m\u001b[0;34m\u001b[0m\u001b[0m\n\u001b[0m\u001b[1;32m   1296\u001b[0m \u001b[0;34m\u001b[0m\u001b[0m\n\u001b[1;32m   1297\u001b[0m             \u001b[0;32mif\u001b[0m \u001b[0mself\u001b[0m\u001b[0;34m.\u001b[0m\u001b[0m_tunnel_host\u001b[0m\u001b[0;34m:\u001b[0m\u001b[0;34m\u001b[0m\u001b[0m\n",
      "\u001b[0;32m/usr/lib/python2.7/httplib.pyc\u001b[0m in \u001b[0;36mconnect\u001b[0;34m(self)\u001b[0m\n\u001b[1;32m    831\u001b[0m         \u001b[0;34m\"\"\"Connect to the host and port specified in __init__.\"\"\"\u001b[0m\u001b[0;34m\u001b[0m\u001b[0m\n\u001b[1;32m    832\u001b[0m         self.sock = self._create_connection((self.host,self.port),\n\u001b[0;32m--> 833\u001b[0;31m                                            self.timeout, self.source_address)\n\u001b[0m\u001b[1;32m    834\u001b[0m \u001b[0;34m\u001b[0m\u001b[0m\n\u001b[1;32m    835\u001b[0m         \u001b[0;32mif\u001b[0m \u001b[0mself\u001b[0m\u001b[0;34m.\u001b[0m\u001b[0m_tunnel_host\u001b[0m\u001b[0;34m:\u001b[0m\u001b[0;34m\u001b[0m\u001b[0m\n",
      "\u001b[0;32m/usr/lib/python2.7/socket.pyc\u001b[0m in \u001b[0;36mcreate_connection\u001b[0;34m(address, timeout, source_address)\u001b[0m\n\u001b[1;32m    564\u001b[0m             \u001b[0;32mif\u001b[0m \u001b[0msource_address\u001b[0m\u001b[0;34m:\u001b[0m\u001b[0;34m\u001b[0m\u001b[0m\n\u001b[1;32m    565\u001b[0m                 \u001b[0msock\u001b[0m\u001b[0;34m.\u001b[0m\u001b[0mbind\u001b[0m\u001b[0;34m(\u001b[0m\u001b[0msource_address\u001b[0m\u001b[0;34m)\u001b[0m\u001b[0;34m\u001b[0m\u001b[0m\n\u001b[0;32m--> 566\u001b[0;31m             \u001b[0msock\u001b[0m\u001b[0;34m.\u001b[0m\u001b[0mconnect\u001b[0m\u001b[0;34m(\u001b[0m\u001b[0msa\u001b[0m\u001b[0;34m)\u001b[0m\u001b[0;34m\u001b[0m\u001b[0m\n\u001b[0m\u001b[1;32m    567\u001b[0m             \u001b[0;32mreturn\u001b[0m \u001b[0msock\u001b[0m\u001b[0;34m\u001b[0m\u001b[0m\n\u001b[1;32m    568\u001b[0m \u001b[0;34m\u001b[0m\u001b[0m\n",
      "\u001b[0;32m/usr/lib/python2.7/socket.pyc\u001b[0m in \u001b[0;36mmeth\u001b[0;34m(name, self, *args)\u001b[0m\n\u001b[1;32m    226\u001b[0m \u001b[0;34m\u001b[0m\u001b[0m\n\u001b[1;32m    227\u001b[0m \u001b[0;32mdef\u001b[0m \u001b[0mmeth\u001b[0m\u001b[0;34m(\u001b[0m\u001b[0mname\u001b[0m\u001b[0;34m,\u001b[0m\u001b[0mself\u001b[0m\u001b[0;34m,\u001b[0m\u001b[0;34m*\u001b[0m\u001b[0margs\u001b[0m\u001b[0;34m)\u001b[0m\u001b[0;34m:\u001b[0m\u001b[0;34m\u001b[0m\u001b[0m\n\u001b[0;32m--> 228\u001b[0;31m     \u001b[0;32mreturn\u001b[0m \u001b[0mgetattr\u001b[0m\u001b[0;34m(\u001b[0m\u001b[0mself\u001b[0m\u001b[0;34m.\u001b[0m\u001b[0m_sock\u001b[0m\u001b[0;34m,\u001b[0m\u001b[0mname\u001b[0m\u001b[0;34m)\u001b[0m\u001b[0;34m(\u001b[0m\u001b[0;34m*\u001b[0m\u001b[0margs\u001b[0m\u001b[0;34m)\u001b[0m\u001b[0;34m\u001b[0m\u001b[0m\n\u001b[0m\u001b[1;32m    229\u001b[0m \u001b[0;34m\u001b[0m\u001b[0m\n\u001b[1;32m    230\u001b[0m \u001b[0;32mfor\u001b[0m \u001b[0m_m\u001b[0m \u001b[0;32min\u001b[0m \u001b[0m_socketmethods\u001b[0m\u001b[0;34m:\u001b[0m\u001b[0;34m\u001b[0m\u001b[0m\n",
      "\u001b[0;31mKeyboardInterrupt\u001b[0m: "
     ]
    }
   ],
   "source": [
    "result = pd.DataFrame()\n",
    "for i in cantrade.ticker:\n",
    "    ddcf = dcf(i,\"today\")\n",
    "    if len(ddcf)==0:\n",
    "        continue\n",
    "    temp = ddcf.set_index(\"date\")\n",
    "\n",
    "    temp[\"Growth%\"] = np.log(temp[\"dcf\"]/temp[\"Stock Price\"])\n",
    "\n",
    "    temp = temp.round(3)\n",
    "    \n",
    "    result = result.append(temp)"
   ]
  },
  {
   "cell_type": "code",
   "execution_count": 13,
   "metadata": {
    "collapsed": true
   },
   "outputs": [
    {
     "name": "stdout",
     "output_type": "stream",
     "text": [
      "Cannot convert datetime to date\n"
     ]
    },
    {
     "data": {
      "text/plain": [
       "assetTurnover                                      0.0201\n",
       "capitalExpenditureCoverageRatio                       NaN\n",
       "cashConversionCycle                                   NaN\n",
       "cashFlowCoverageRatios                             0.2524\n",
       "cashFlowToDebtRatio                                0.2524\n",
       "cashPerShare                                      67.4892\n",
       "cashRatio                                         40.9947\n",
       "companyEquityMultiplier                            9.1918\n",
       "currentRatio                                     175.0048\n",
       "date                                  2019-12-31 00:00:00\n",
       "daysOfInventoryOutstanding                            NaN\n",
       "daysOfPayablesOutstanding                             NaN\n",
       "daysOfSalesOutstanding                           417.6025\n",
       "debtEquityRatio                                    8.1918\n",
       "debtRatio                                          0.8912\n",
       "dividendPaidAndCapexCoverageRatio                     NaN\n",
       "dividendPayoutRatio                                0.2241\n",
       "dividendYield                                      0.0195\n",
       "ebitPerRevenue                                     0.6699\n",
       "ebtPerEbit                                              1\n",
       "effectiveTaxRate                                   0.1625\n",
       "enterpriseValueMultiple                           12.2661\n",
       "fixedAssetTurnover                                 4.6294\n",
       "freeCashFlowOperatingCashFlowRatio                      1\n",
       "freeCashFlowPerShare                               6.5787\n",
       "grossProfitMargin                                       1\n",
       "interestCoverage                                   1.4658\n",
       "inventoryTurnover                                     NaN\n",
       "longTermDebtToCapitalization                       0.4763\n",
       "netIncomePerEBT                                    0.8375\n",
       "netProfitMargin                                    0.5610\n",
       "operatingCashFlowPerShare                          6.5787\n",
       "operatingCashFlowSalesRatio                        1.2636\n",
       "operatingCycle                                        NaN\n",
       "operatingProfitMargin                              0.6699\n",
       "payablesTurnover                                      NaN\n",
       "payoutRatio                                        0.2241\n",
       "pretaxProfitMargin                                 0.6699\n",
       "priceBookValueRatio                                1.1872\n",
       "priceCashFlowRatio                                 5.0892\n",
       "priceEarningsRatio                                11.4617\n",
       "priceEarningsToGrowthRatio                         3.8239\n",
       "priceFairValue                                     1.1872\n",
       "priceSalesRatio                                    6.4305\n",
       "priceToBookRatio                                   1.1872\n",
       "priceToFreeCashFlowsRatio                          5.0892\n",
       "priceToOperatingCashFlowsRatio                     5.0892\n",
       "priceToSalesRatio                                  6.4305\n",
       "quickRatio                                       175.0048\n",
       "receivablesTurnover                                0.8740\n",
       "returnOnAssets                                     0.0113\n",
       "returnOnCapitalEmployed                            0.0135\n",
       "returnOnEquity                                     0.1036\n",
       "shortTermCoverageRatios                           15.6755\n",
       "symbol                                                BAC\n",
       "totalDebtToCapitalization                          0.4804\n",
       "Name: 0, dtype: object"
      ]
     },
     "execution_count": 13,
     "metadata": {},
     "output_type": "execute_result"
    }
   ],
   "source": [
    "financial_ratios(i).iloc[0]"
   ]
  },
  {
   "cell_type": "code",
   "execution_count": 18,
   "metadata": {},
   "outputs": [
    {
     "name": "stdout",
     "output_type": "stream",
     "text": [
      "Cannot convert datetime to date\n"
     ]
    },
    {
     "data": {
      "text/html": [
       "<div>\n",
       "<style scoped>\n",
       "    .dataframe tbody tr th:only-of-type {\n",
       "        vertical-align: middle;\n",
       "    }\n",
       "\n",
       "    .dataframe tbody tr th {\n",
       "        vertical-align: top;\n",
       "    }\n",
       "\n",
       "    .dataframe thead th {\n",
       "        text-align: right;\n",
       "    }\n",
       "</style>\n",
       "<table border=\"1\" class=\"dataframe\">\n",
       "  <thead>\n",
       "    <tr style=\"text-align: right;\">\n",
       "      <th></th>\n",
       "    </tr>\n",
       "  </thead>\n",
       "  <tbody>\n",
       "  </tbody>\n",
       "</table>\n",
       "</div>"
      ],
      "text/plain": [
       "Empty DataFrame\n",
       "Columns: []\n",
       "Index: []"
      ]
     },
     "execution_count": 18,
     "metadata": {},
     "output_type": "execute_result"
    }
   ],
   "source": [
    "dcf(i,\"today\")"
   ]
  },
  {
   "cell_type": "code",
   "execution_count": null,
   "metadata": {},
   "outputs": [],
   "source": []
  },
  {
   "cell_type": "code",
   "execution_count": null,
   "metadata": {},
   "outputs": [],
   "source": []
  },
  {
   "cell_type": "code",
   "execution_count": null,
   "metadata": {},
   "outputs": [],
   "source": []
  },
  {
   "cell_type": "code",
   "execution_count": null,
   "metadata": {},
   "outputs": [],
   "source": [
    "plot_ticker(\"AMGN\",method=\"self_minute\", robinhood = robingateway(),past_days=200)"
   ]
  },
  {
   "cell_type": "code",
   "execution_count": 119,
   "metadata": {
    "collapsed": true
   },
   "outputs": [
    {
     "name": "stdout",
     "output_type": "stream",
     "text": [
      "If you use outside data feed please enter random inputs for the first two arguments\n",
      "***********************************************\n",
      "**********1*******************\n",
      "Augmented Dickey Fuller test statistic = -1.2996900537418\n",
      "Augmented Dickey Fuller p-value = 0.6293141025389983\n",
      "Augmented Dickey Fuller 1%, 5% and 10% test statistics = {'5%': -2.88319822181578, '1%': -3.479742586699182, '10%': -2.578319684499314}\n",
      "0.29745205944529\n",
      "Halflife =  47.0\n",
      "\n",
      "\n",
      "['Augmented Dickey Fuller: Not significant', 'Hurst Exponent:mean reverting', 'Halflife: 47.0 1']\n",
      "***********************************************\n"
     ]
    },
    {
     "data": {
      "text/plain": [
       "[['Augmented Dickey Fuller: Not significant',\n",
       "  'Hurst Exponent:mean reverting',\n",
       "  'Halflife: 47.0 1'],\n",
       " 47.0]"
      ]
     },
     "execution_count": 119,
     "metadata": {},
     "output_type": "execute_result"
    }
   ],
   "source": [
    "mean_reversion(1,1,usr_input=price.Close)"
   ]
  },
  {
   "cell_type": "code",
   "execution_count": 7,
   "metadata": {
    "scrolled": true
   },
   "outputs": [
    {
     "name": "stdout",
     "output_type": "stream",
     "text": [
      "All price data of Close is actually Adj Close\n",
      "Connection Successful\n",
      "('Finished', 'AAPL')\n"
     ]
    }
   ],
   "source": [
    "holding = 10\n",
    "lookback = 5\n",
    "shorter = holding if holding <= lookback else lookback\n",
    "price = get_price_data([ticker], method = \"day\", robinhood=robingateway(),back_day=200)\n",
    "price = price.set_index(\"TimeStamp\")"
   ]
  },
  {
   "cell_type": "code",
   "execution_count": 34,
   "metadata": {
    "scrolled": true
   },
   "outputs": [],
   "source": [
    "ret_pre= log(price.Close/price.Close.shift(lookback))\n",
    "\n",
    "ret_pre = ret_pre.fillna(0)\n",
    "\n",
    "ret_post = log(price.Close.shift(-holding)/price.Close)\n",
    "\n",
    "ret_post = ret_post.fillna(0)\n",
    "\n",
    "# ret_pre= ret_pre.iloc[:-shorter]\n",
    "\n",
    "# ret_post= ret_post.iloc[shorter:]\n"
   ]
  },
  {
   "cell_type": "code",
   "execution_count": 35,
   "metadata": {},
   "outputs": [
    {
     "data": {
      "text/plain": [
       "(0.16665874090950547, 0.05336855345564748)"
      ]
     },
     "execution_count": 35,
     "metadata": {},
     "output_type": "execute_result"
    }
   ],
   "source": [
    "stats.pearsonr(ret_pre,ret_post)"
   ]
  },
  {
   "cell_type": "markdown",
   "metadata": {},
   "source": [
    "statsmodels.stats.stattools.durbin_watson(price.iloc[:-100].Return.dropna())"
   ]
  }
 ],
 "metadata": {
  "kernelspec": {
   "display_name": "Python 2",
   "language": "python",
   "name": "python2"
  },
  "language_info": {
   "codemirror_mode": {
    "name": "ipython",
    "version": 2
   },
   "file_extension": ".py",
   "mimetype": "text/x-python",
   "name": "python",
   "nbconvert_exporter": "python",
   "pygments_lexer": "ipython2",
   "version": "2.7.17"
  }
 },
 "nbformat": 4,
 "nbformat_minor": 2
}
