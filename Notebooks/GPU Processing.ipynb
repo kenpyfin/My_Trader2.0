{
 "cells": [
  {
   "cell_type": "code",
   "execution_count": null,
   "metadata": {},
   "outputs": [],
   "source": [
    "from my_libs_py3 import *"
   ]
  },
  {
   "cell_type": "code",
   "execution_count": 2,
   "metadata": {},
   "outputs": [],
   "source": [
    "import cudf"
   ]
  },
  {
   "cell_type": "code",
   "execution_count": 4,
   "metadata": {},
   "outputs": [
    {
     "name": "stdout",
     "output_type": "stream",
     "text": [
      "All price data of Close is actually Adj Close\n",
      "('Finished', 'AAPL')\n"
     ]
    }
   ],
   "source": [
    "data = get_price_data([\"AAPL\"], method = 'intraday')"
   ]
  },
  {
   "cell_type": "code",
   "execution_count": 7,
   "metadata": {},
   "outputs": [],
   "source": [
    "cudata = cudf.from_pandas(data)"
   ]
  },
  {
   "cell_type": "code",
   "execution_count": 14,
   "metadata": {},
   "outputs": [
    {
     "data": {
      "text/plain": [
       "76767.7493"
      ]
     },
     "execution_count": 14,
     "metadata": {},
     "output_type": "execute_result"
    }
   ],
   "source": [
    "cudata[\"Open\"].sum()"
   ]
  },
  {
   "cell_type": "code",
   "execution_count": 15,
   "metadata": {},
   "outputs": [],
   "source": [
    "cudata[\"Open_Sum\"] = cudata[\"Open\"].sum()"
   ]
  },
  {
   "cell_type": "code",
   "execution_count": 25,
   "metadata": {},
   "outputs": [],
   "source": [
    "cudata.Return = np.log(cudata.Open.shift(-1)/cudata.Open)"
   ]
  },
  {
   "cell_type": "code",
   "execution_count": 23,
   "metadata": {},
   "outputs": [],
   "source": [
    "data.Return = np.log(data.Close.shift(-1)/data.Close)"
   ]
  },
  {
   "cell_type": "code",
   "execution_count": 53,
   "metadata": {},
   "outputs": [
    {
     "ename": "TypeError",
     "evalue": "apply_rows() missing 1 required positional argument: 'kwargs'",
     "output_type": "error",
     "traceback": [
      "\u001b[0;31m---------------------------------------------------------------------------\u001b[0m",
      "\u001b[0;31mTypeError\u001b[0m                                 Traceback (most recent call last)",
      "\u001b[0;32m<ipython-input-53-d42890f9b175>\u001b[0m in \u001b[0;36m<module>\u001b[0;34m\u001b[0m\n\u001b[0;32m----> 1\u001b[0;31m \u001b[0mcudata\u001b[0m\u001b[0;34m.\u001b[0m\u001b[0mapply_rows\u001b[0m\u001b[0;34m(\u001b[0m\u001b[0mmin\u001b[0m\u001b[0;34m,\u001b[0m\u001b[0;34m\"Close\"\u001b[0m\u001b[0;34m,\u001b[0m\u001b[0;34m\"Close_min\"\u001b[0m\u001b[0;34m)\u001b[0m\u001b[0;34m\u001b[0m\u001b[0;34m\u001b[0m\u001b[0m\n\u001b[0m",
      "\u001b[0;31mTypeError\u001b[0m: apply_rows() missing 1 required positional argument: 'kwargs'"
     ]
    }
   ],
   "source": [
    "cudata.apply_rows(min,\"Close\",\"Close_min\")"
   ]
  },
  {
   "cell_type": "code",
   "execution_count": 2,
   "metadata": {},
   "outputs": [
    {
     "ename": "NameError",
     "evalue": "name 'mongo' is not defined",
     "output_type": "error",
     "traceback": [
      "\u001b[0;31m---------------------------------------------------------------------------\u001b[0m",
      "\u001b[0;31mNameError\u001b[0m                                 Traceback (most recent call last)",
      "\u001b[0;32m<ipython-input-2-0110d6345067>\u001b[0m in \u001b[0;36m<module>\u001b[0;34m\u001b[0m\n\u001b[0;32m----> 1\u001b[0;31m \u001b[0mmongod\u001b[0m \u001b[0;34m=\u001b[0m \u001b[0mmongo\u001b[0m\u001b[0;34m(\u001b[0m\u001b[0;34m)\u001b[0m\u001b[0;34m\u001b[0m\u001b[0;34m\u001b[0m\u001b[0m\n\u001b[0m",
      "\u001b[0;31mNameError\u001b[0m: name 'mongo' is not defined"
     ]
    }
   ],
   "source": [
    "mongod = mongo()"
   ]
  },
  {
   "cell_type": "code",
   "execution_count": 65,
   "metadata": {},
   "outputs": [],
   "source": [
    "cudata[\"new\"] = "
   ]
  },
  {
   "cell_type": "code",
   "execution_count": 66,
   "metadata": {},
   "outputs": [
    {
     "data": {
      "text/html": [
       "<div>\n",
       "<style scoped>\n",
       "    .dataframe tbody tr th:only-of-type {\n",
       "        vertical-align: middle;\n",
       "    }\n",
       "\n",
       "    .dataframe tbody tr th {\n",
       "        vertical-align: top;\n",
       "    }\n",
       "\n",
       "    .dataframe thead th {\n",
       "        text-align: right;\n",
       "    }\n",
       "</style>\n",
       "<table border=\"1\" class=\"dataframe\">\n",
       "  <thead>\n",
       "    <tr style=\"text-align: right;\">\n",
       "      <th></th>\n",
       "      <th>TimeStamp</th>\n",
       "      <th>Open</th>\n",
       "      <th>Low</th>\n",
       "      <th>High</th>\n",
       "      <th>Close</th>\n",
       "      <th>Volume</th>\n",
       "      <th>Ticker</th>\n",
       "      <th>Time</th>\n",
       "      <th>Return</th>\n",
       "      <th>Fwd_Return</th>\n",
       "      <th>Open_Sum</th>\n",
       "      <th>new</th>\n",
       "    </tr>\n",
       "  </thead>\n",
       "  <tbody>\n",
       "    <tr>\n",
       "      <th>199</th>\n",
       "      <td>2020-07-02 14:30:00</td>\n",
       "      <td>366.5900</td>\n",
       "      <td>366.1900</td>\n",
       "      <td>366.9478</td>\n",
       "      <td>366.9478</td>\n",
       "      <td>20049587</td>\n",
       "      <td>AAPL</td>\n",
       "      <td>143000</td>\n",
       "      <td>0.000975546</td>\n",
       "      <td>0.000482786</td>\n",
       "      <td>76,767.7493</td>\n",
       "      <td>366.9478</td>\n",
       "    </tr>\n",
       "    <tr>\n",
       "      <th>198</th>\n",
       "      <td>2020-07-02 15:00:00</td>\n",
       "      <td>366.9478</td>\n",
       "      <td>366.7600</td>\n",
       "      <td>367.2831</td>\n",
       "      <td>367.1250</td>\n",
       "      <td>21007659</td>\n",
       "      <td>AAPL</td>\n",
       "      <td>150000</td>\n",
       "      <td>-0.001603147</td>\n",
       "      <td>-0.001431054</td>\n",
       "      <td>76,767.7493</td>\n",
       "      <td>367.125</td>\n",
       "    </tr>\n",
       "    <tr>\n",
       "      <th>197</th>\n",
       "      <td>2020-07-02 15:30:00</td>\n",
       "      <td>366.3600</td>\n",
       "      <td>366.2100</td>\n",
       "      <td>366.7600</td>\n",
       "      <td>366.6000</td>\n",
       "      <td>22195999</td>\n",
       "      <td>AAPL</td>\n",
       "      <td>153000</td>\n",
       "      <td>0.000654879</td>\n",
       "      <td>-0.005525329</td>\n",
       "      <td>76,767.7493</td>\n",
       "      <td>null</td>\n",
       "    </tr>\n",
       "    <tr>\n",
       "      <th>196</th>\n",
       "      <td>2020-07-02 16:00:00</td>\n",
       "      <td>366.6000</td>\n",
       "      <td>363.9700</td>\n",
       "      <td>366.9700</td>\n",
       "      <td>364.5800</td>\n",
       "      <td>25438780</td>\n",
       "      <td>AAPL</td>\n",
       "      <td>160000</td>\n",
       "      <td>-0.006815316</td>\n",
       "      <td>-0.001289986</td>\n",
       "      <td>76,767.7493</td>\n",
       "      <td>null</td>\n",
       "    </tr>\n",
       "    <tr>\n",
       "      <th>195</th>\n",
       "      <td>2020-07-06 09:30:00</td>\n",
       "      <td>364.1100</td>\n",
       "      <td>364.1100</td>\n",
       "      <td>364.1100</td>\n",
       "      <td>364.1100</td>\n",
       "      <td>28510367</td>\n",
       "      <td>AAPL</td>\n",
       "      <td>93000</td>\n",
       "      <td>0.020442716</td>\n",
       "      <td>0.024296647</td>\n",
       "      <td>76,767.7493</td>\n",
       "      <td>null</td>\n",
       "    </tr>\n",
       "    <tr>\n",
       "      <th>...</th>\n",
       "      <td>...</td>\n",
       "      <td>...</td>\n",
       "      <td>...</td>\n",
       "      <td>...</td>\n",
       "      <td>...</td>\n",
       "      <td>...</td>\n",
       "      <td>...</td>\n",
       "      <td>...</td>\n",
       "      <td>...</td>\n",
       "      <td>...</td>\n",
       "      <td>...</td>\n",
       "      <td>...</td>\n",
       "    </tr>\n",
       "    <tr>\n",
       "      <th>4</th>\n",
       "      <td>2020-07-23 14:00:00</td>\n",
       "      <td>378.4695</td>\n",
       "      <td>373.2400</td>\n",
       "      <td>378.7500</td>\n",
       "      <td>373.7300</td>\n",
       "      <td>24495059</td>\n",
       "      <td>AAPL</td>\n",
       "      <td>140000</td>\n",
       "      <td>-0.021862509</td>\n",
       "      <td>-0.005913956</td>\n",
       "      <td>76,767.7493</td>\n",
       "      <td>null</td>\n",
       "    </tr>\n",
       "    <tr>\n",
       "      <th>3</th>\n",
       "      <td>2020-07-23 14:30:00</td>\n",
       "      <td>370.2850</td>\n",
       "      <td>369.6550</td>\n",
       "      <td>371.7600</td>\n",
       "      <td>371.5263</td>\n",
       "      <td>30881938</td>\n",
       "      <td>AAPL</td>\n",
       "      <td>143000</td>\n",
       "      <td>0.003346676</td>\n",
       "      <td>0.002617382</td>\n",
       "      <td>76,767.7493</td>\n",
       "      <td>null</td>\n",
       "    </tr>\n",
       "    <tr>\n",
       "      <th>2</th>\n",
       "      <td>2020-07-23 15:00:00</td>\n",
       "      <td>371.5263</td>\n",
       "      <td>370.5800</td>\n",
       "      <td>373.1800</td>\n",
       "      <td>372.5000</td>\n",
       "      <td>34683761</td>\n",
       "      <td>AAPL</td>\n",
       "      <td>150000</td>\n",
       "      <td>-0.007853353</td>\n",
       "      <td>-0.006815117</td>\n",
       "      <td>76,767.7493</td>\n",
       "      <td>null</td>\n",
       "    </tr>\n",
       "    <tr>\n",
       "      <th>1</th>\n",
       "      <td>2020-07-23 15:30:00</td>\n",
       "      <td>368.6200</td>\n",
       "      <td>368.2400</td>\n",
       "      <td>370.7700</td>\n",
       "      <td>369.9700</td>\n",
       "      <td>39251374</td>\n",
       "      <td>AAPL</td>\n",
       "      <td>153000</td>\n",
       "      <td>0.003655618</td>\n",
       "      <td>0.004598702</td>\n",
       "      <td>76,767.7493</td>\n",
       "      <td>null</td>\n",
       "    </tr>\n",
       "    <tr>\n",
       "      <th>0</th>\n",
       "      <td>2020-07-23 16:00:00</td>\n",
       "      <td>369.9700</td>\n",
       "      <td>368.7462</td>\n",
       "      <td>371.6753</td>\n",
       "      <td>371.6753</td>\n",
       "      <td>44582120</td>\n",
       "      <td>AAPL</td>\n",
       "      <td>160000</td>\n",
       "      <td>null</td>\n",
       "      <td>null</td>\n",
       "      <td>76,767.7493</td>\n",
       "      <td>null</td>\n",
       "    </tr>\n",
       "  </tbody>\n",
       "</table>\n",
       "<p>200 rows × 12 columns</p>\n",
       "</div>"
      ],
      "text/plain": [
       "              TimeStamp     Open      Low     High    Close    Volume Ticker  \\\n",
       "199 2020-07-02 14:30:00 366.5900 366.1900 366.9478 366.9478  20049587   AAPL   \n",
       "198 2020-07-02 15:00:00 366.9478 366.7600 367.2831 367.1250  21007659   AAPL   \n",
       "197 2020-07-02 15:30:00 366.3600 366.2100 366.7600 366.6000  22195999   AAPL   \n",
       "196 2020-07-02 16:00:00 366.6000 363.9700 366.9700 364.5800  25438780   AAPL   \n",
       "195 2020-07-06 09:30:00 364.1100 364.1100 364.1100 364.1100  28510367   AAPL   \n",
       "..                  ...      ...      ...      ...      ...       ...    ...   \n",
       "4   2020-07-23 14:00:00 378.4695 373.2400 378.7500 373.7300  24495059   AAPL   \n",
       "3   2020-07-23 14:30:00 370.2850 369.6550 371.7600 371.5263  30881938   AAPL   \n",
       "2   2020-07-23 15:00:00 371.5263 370.5800 373.1800 372.5000  34683761   AAPL   \n",
       "1   2020-07-23 15:30:00 368.6200 368.2400 370.7700 369.9700  39251374   AAPL   \n",
       "0   2020-07-23 16:00:00 369.9700 368.7462 371.6753 371.6753  44582120   AAPL   \n",
       "\n",
       "       Time        Return    Fwd_Return    Open_Sum       new  \n",
       "199  143000   0.000975546   0.000482786 76,767.7493  366.9478  \n",
       "198  150000  -0.001603147  -0.001431054 76,767.7493   367.125  \n",
       "197  153000   0.000654879  -0.005525329 76,767.7493      null  \n",
       "196  160000  -0.006815316  -0.001289986 76,767.7493      null  \n",
       "195   93000   0.020442716   0.024296647 76,767.7493      null  \n",
       "..      ...           ...           ...         ...       ...  \n",
       "4    140000  -0.021862509  -0.005913956 76,767.7493      null  \n",
       "3    143000   0.003346676   0.002617382 76,767.7493      null  \n",
       "2    150000  -0.007853353  -0.006815117 76,767.7493      null  \n",
       "1    153000   0.003655618   0.004598702 76,767.7493      null  \n",
       "0    160000          null          null 76,767.7493      null  \n",
       "\n",
       "[200 rows x 12 columns]"
      ]
     },
     "execution_count": 66,
     "metadata": {},
     "output_type": "execute_result"
    }
   ],
   "source": [
    "cudata"
   ]
  },
  {
   "cell_type": "code",
   "execution_count": null,
   "metadata": {},
   "outputs": [],
   "source": []
  }
 ],
 "metadata": {
  "kernelspec": {
   "display_name": "Python 3",
   "language": "python",
   "name": "python3"
  }
 },
 "nbformat": 4,
 "nbformat_minor": 2
}
