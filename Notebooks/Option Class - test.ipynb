{
 "cells": [
  {
   "cell_type": "code",
   "execution_count": 1,
   "metadata": {},
   "outputs": [],
   "source": [
    "from my_libs import *\n",
    "\n",
    "robinhood = robingateway()\n"
   ]
  },
  {
   "cell_type": "code",
   "execution_count": 2,
   "metadata": {},
   "outputs": [],
   "source": [
    "class option_trading():\n",
    "    \n",
    "    def __init__(self,robinhood ):\n",
    "        self.trader = robinhood\n",
    "    \n",
    "    def __fetch_option_exp_date(self, symbol):\n",
    "        \"\"\"\n",
    "        fetch option chain for instrument\n",
    "        \"\"\"\n",
    "        url = \"https://api.robinhood.com/options/chains/\"\n",
    "        params = {\n",
    "            \"equity_instrument_ids\": self.trader.get_instrument(symbol)[\"id\"].values[0],\n",
    "            \"state\": \"active\",\n",
    "            \"tradability\": \"tradable\"\n",
    "        }\n",
    "        data = self.trader.my_trader.session.get(url, params=params)\n",
    "        return data.json()[\"results\"][0]['expiration_dates']\n",
    "\n",
    "\n",
    "    def __fetch_option_chain(self,symbol, p_c):\n",
    "        p_c = p_c.lower()\n",
    "        return pd.DataFrame(self.trader.my_trader.get_options(symbol,self.__fetch_option_exp_date(symbol), p_c))\n",
    "\n",
    "\n",
    "    def __fetch_option_info(self,option_id):\n",
    "        return self.trader.my_trader.get_option_market_data(option_id)\n",
    "    \n",
    "    def gen_leg(self,buy_sell,option_chain,position_effect =\"open\", ratio_quantity=1, direction = None):\n",
    "        assert buy_sell in [\"buy\", \"sell\"]\n",
    "        assert position_effect in [\"open\", \"close\"]\n",
    "        return { \"side\": buy_sell,\n",
    "        \"option\": option_chain[\"url\"].values[0],\n",
    "        \"position_effect\": position_effect,\n",
    "        \"ratio_quantity\": ratio_quantity }\n",
    "\n",
    "    def place_order(self, legs, direction, price, quantity):\n",
    "        assert direction in [\"debit\", \"credit\"]\n",
    "\n",
    "        return robinhood.my_trader.place_option_order(legs,quantity,price,direction)\n",
    "    \n",
    "    def get_exp_date(self,symbol,p_c):\n",
    "        print (\"Ascending\")\n",
    "        p_c = p_c.lower()\n",
    "        return pd.Series(list(set(self.__fetch_option_chain(symbol,p_c).expiration_date))).sort_values().to_list()\n",
    "    \n",
    "    def get_strike(self, symbol,p_c,exp=None):\n",
    "        if exp is None:\n",
    "            exp = op.get_exp_date(symbol,pc)\n",
    "            print (exp)\n",
    "            exp= exp[input(\"Which exp date\")]\n",
    "        elif type(exp) == int:\n",
    "            exp = op.get_exp_date(symbol,pc)[exp]\n",
    "            print (exp)\n",
    "        \n",
    "        print (\"Ascending\")\n",
    "        return list(pd.DataFrame(self.trader.my_trader.get_options(symbol,exp, p_c)).strike_price.astype(float).sort_values())\n",
    "    \n",
    "    \n",
    "    def get_option(self, symbol,p_c,strike=None,exp=None):\n",
    "        if exp is None:\n",
    "            exp = op.get_exp_date(symbol,pc)\n",
    "            print (exp)\n",
    "            exp= exp[input(\"Which exp date\")]\n",
    "        elif type(exp) == int:\n",
    "            exp = op.get_exp_date(symbol,pc)[exp]\n",
    "            print (exp)\n",
    "        \n",
    "        result =  pd.DataFrame(self.trader.my_trader.get_options(symbol,exp, p_c))\n",
    "        result.strike_price = result.strike_price.astype(float)\n",
    "        if strike == None:\n",
    "            return result\n",
    "        \n",
    "        return result[result.strike_price == strike]\n",
    "    \n",
    "    def match_price(data,target):\n",
    "        pointer = len(data)/2\n",
    "        def recur(pointer):   \n",
    "            if data[pointer] - target ==0:\n",
    "                return pointer\n",
    "            elif data[pointer] - target >0:\n",
    "                return pointer/2\n",
    "            elif data[pointer] - target <0:\n",
    "                return (len(data)-pointer)/2\n",
    "            \n",
    "        while pointer != 0 or data[pointer] - target != 0:\n",
    "            pointer = recur(pointer)\n",
    "            \n",
    "        return data[pointer]\n",
    "        \n",
    "    def closest_strick_price(self,symbol,pc,target,exp = None):\n",
    "        if exp is None:\n",
    "            exp = op.get_exp_date(symbol,pc)\n",
    "            print (exp)\n",
    "            exp= exp[input(\"Which exp date\")]\n",
    "        elif type(exp) == int:\n",
    "            exp = op.get_exp_date(symbol,pc)[exp]\n",
    "            print (exp)\n",
    "        \n",
    "        data = self.get_strike(symbol,pc,exp)\n",
    "        for i in range(len(data)):\n",
    "            if data[i] - target < 0:\n",
    "                continue\n",
    "            elif data[i] - target == 0:\n",
    "                return data[i]\n",
    "            elif (target - data[i-1]) < (target - data[i]):\n",
    "                \n",
    "                return data[i-1]\n",
    "            else:\n",
    "                return data[i]\n",
    "    def get_atp(self,symbol,pc,exp=None):\n",
    "        if exp is None:\n",
    "            exp = op.get_exp_date(symbol,pc)\n",
    "            print (exp)\n",
    "            exp= exp[input(\"Which exp date\")]\n",
    "        elif type(exp) == int:\n",
    "            exp = op.get_exp_date(symbol,pc)[exp]\n",
    "            print (exp)\n",
    "        \n",
    "        return float(self.closest_strick_price(symbol,pc,da.get_quote_yahoo(symbol).price.values[0],exp))\n",
    "        \n",
    "        \n",
    "    def get_p_oc(self,symbol,pc,strike,exp = None):\n",
    "        if exp is None:\n",
    "            exp = op.get_exp_date(symbol,pc)\n",
    "            print (exp)\n",
    "            exp= exp[input(\"Which exp date\")]\n",
    "        elif type(exp) == int:\n",
    "            exp = op.get_exp_date(symbol,pc)[exp]\n",
    "            print (exp)\n",
    "        \n",
    "        cid = op.get_option(symbol,pc,exp=exp)\n",
    "        cid.strike_price = cid.strike_price.apply(lambda x: float(x))\n",
    "        cid = cid[cid.strike_price == strike ]\n",
    "        \n",
    "        return cid\n",
    "    \n",
    "    def get_atp_oc(self,symbol,pc,exp=None):\n",
    "        if exp is None:\n",
    "            exp = op.get_exp_date(symbol,pc)\n",
    "            print (exp)\n",
    "            exp= exp[input(\"Which exp date\")]\n",
    "        elif type(exp) == int:\n",
    "            exp = op.get_exp_date(symbol,pc)[exp]\n",
    "            print (exp)\n",
    "        \n",
    "        \n",
    "        cid = op.get_option(symbol,pc,exp=exp)\n",
    "        cid.strike_price = cid.strike_price.apply(lambda x: float(x))\n",
    "        cid = cid[cid.strike_price == float(self.get_atp(symbol,pc,exp))]\n",
    "        \n",
    "        return cid\n",
    "    \n",
    "    def get_option_price(self,symbol,pc,exp): \n",
    "        return self.__fetch_option_info(self.get_atp_oc(symbol,pc,exp).iloc[0][\"id\"])\n",
    "    \n",
    "    def all_the_way_leg_atp(self,symbol,pc,buy_sell,effect,exp= None):\n",
    "        if exp is None:\n",
    "            exp = op.get_exp_date(symbol,pc)\n",
    "            print (exp)\n",
    "            exp= exp[input(\"Which exp date\")]\n",
    "        elif type(exp) == int:\n",
    "            exp = op.get_exp_date(symbol,pc)[exp]\n",
    "            print (exp)\n",
    "            \n",
    "        oc = self.get_atp_oc(symbol,pc,exp)\n",
    "\n",
    "        self.get_atp(symbol,pc,exp=exp)\n",
    "\n",
    "        \n",
    "\n",
    "        return self.gen_leg(buy_sell,oc,position_effect = effect)\n",
    "    \n",
    "    \n",
    "    def all_the_way_leg(self,symbol,pc,buy_sell,effect,strike,exp= None):\n",
    "        if exp is None:\n",
    "            exp = op.get_exp_date(symbol,pc)\n",
    "            print (exp)\n",
    "            exp= exp[input(\"Which exp date\")]\n",
    "        elif type(exp) == int:\n",
    "            exp = op.get_exp_date(symbol,pc)[exp]\n",
    "            print (exp)\n",
    "            \n",
    "        oc = self.get_p_oc(symbol,pc,strike,exp)\n",
    "\n",
    "        self.get_atp(symbol,pc,exp=exp)\n",
    "\n",
    "\n",
    "        return self.gen_leg(buy_sell,oc,position_effect = effect)\n",
    "    \n",
    "    def get_bid_price(self,symbol,pc,exp=None, strike = 'atp'):\n",
    "        if exp is None:\n",
    "            exp = op.get_exp_date(symbol,pc)\n",
    "            print (exp)\n",
    "            exp= exp[input(\"Which exp date\")]\n",
    "        elif type(exp) == int:\n",
    "            exp = op.get_exp_date(symbol,pc)[exp]\n",
    "            print (exp)\n",
    "        if strike == 'atp':\n",
    "            o = self.get_option(symbol,pc,strike =self.get_atp(symbol,pc,exp),exp=exp)\n",
    "        else:\n",
    "            o = self.get_option(symbol,pc,strike,exp)\n",
    "#         return o\n",
    "        return float(self.__fetch_option_info(o.iloc[0][\"id\"])[\"bid_price\"])"
   ]
  },
  {
   "cell_type": "code",
   "execution_count": 3,
   "metadata": {},
   "outputs": [],
   "source": [
    "op = option_trading(robinhood)"
   ]
  },
  {
   "cell_type": "code",
   "execution_count": 10,
   "metadata": {
    "scrolled": false
   },
   "outputs": [
    {
     "name": "stdout",
     "output_type": "stream",
     "text": [
      "Ascending\n",
      "[u'2019-12-13', u'2019-12-27', u'2020-01-03', u'2020-01-10', u'2020-01-24']\n",
      "Which exp date2\n",
      "Ascending\n"
     ]
    }
   ],
   "source": [
    "dd =op.get_bid_price(\"VIXY\",'put')"
   ]
  },
  {
   "cell_type": "code",
   "execution_count": 11,
   "metadata": {},
   "outputs": [
    {
     "data": {
      "text/plain": [
       "1.2"
      ]
     },
     "execution_count": 11,
     "metadata": {},
     "output_type": "execute_result"
    }
   ],
   "source": [
    "dd"
   ]
  },
  {
   "cell_type": "code",
   "execution_count": 11,
   "metadata": {},
   "outputs": [
    {
     "ename": "AttributeError",
     "evalue": "option_trading instance has no attribute 'fetch_option_info'",
     "output_type": "error",
     "traceback": [
      "\u001b[0;31m---------------------------------------------------------------------------\u001b[0m",
      "\u001b[0;31mAttributeError\u001b[0m                            Traceback (most recent call last)",
      "\u001b[0;32m<ipython-input-11-27d4c34e216e>\u001b[0m in \u001b[0;36m<module>\u001b[0;34m()\u001b[0m\n\u001b[0;32m----> 1\u001b[0;31m \u001b[0mop\u001b[0m\u001b[0;34m.\u001b[0m\u001b[0mfetch_option_info\u001b[0m\u001b[0;34m(\u001b[0m\u001b[0mdd\u001b[0m\u001b[0;34m)\u001b[0m\u001b[0;34m\u001b[0m\u001b[0;34m\u001b[0m\u001b[0m\n\u001b[0m",
      "\u001b[0;31mAttributeError\u001b[0m: option_trading instance has no attribute 'fetch_option_info'"
     ]
    }
   ],
   "source": [
    "op.fetch_option_info(dd)"
   ]
  },
  {
   "cell_type": "code",
   "execution_count": 15,
   "metadata": {},
   "outputs": [
    {
     "name": "stdout",
     "output_type": "stream",
     "text": [
      "Ascending\n",
      "2019-12-23\n",
      "Ascending\n",
      "Ascending\n"
     ]
    },
    {
     "data": {
      "text/plain": [
       "{'option': u'https://api.robinhood.com/options/instruments/860c7ee0-142c-49d9-a545-1c753ef42eae/',\n",
       " 'position_effect': 'open',\n",
       " 'ratio_quantity': 1,\n",
       " 'side': 'buy'}"
      ]
     },
     "execution_count": 15,
     "metadata": {},
     "output_type": "execute_result"
    }
   ],
   "source": [
    "\n",
    "op.all_the_way_leg_atp(\"SPY\",'call','buy','open',2)\n",
    "\n",
    "# op.all_the_way_leg(\"VIXY\",'call','buy','open',2)\n"
   ]
  },
  {
   "cell_type": "code",
   "execution_count": 17,
   "metadata": {
    "scrolled": true
   },
   "outputs": [
    {
     "name": "stdout",
     "output_type": "stream",
     "text": [
      "Ascending\n",
      "2020-01-03\n",
      "Ascending\n",
      "Ascending\n",
      "Ascending\n",
      "2020-01-03\n",
      "Ascending\n"
     ]
    },
    {
     "data": {
      "text/plain": [
       "{u'detail': u'This order introduces infinite risk.'}"
      ]
     },
     "execution_count": 17,
     "metadata": {},
     "output_type": "execute_result"
    }
   ],
   "source": [
    "robinhood.my_trader.place_option_order([op.all_the_way_leg_atp(\"VIXY\",'call','sell','open',2)],1,op.get_bid_price(\"VIXY\",'call',exp =2),'credit')\n",
    "\n",
    "\n",
    "# submit(robinhood, direction, legs, price, quantity, time_in_force, trigger, order_type, run_validations=False)"
   ]
  },
  {
   "cell_type": "code",
   "execution_count": 16,
   "metadata": {},
   "outputs": [
    {
     "data": {
      "text/plain": [
       "5.15"
      ]
     },
     "execution_count": 16,
     "metadata": {},
     "output_type": "execute_result"
    }
   ],
   "source": [
    "[op.get_bid_price(\"SPY\",'call',2),op.get_bid_price(\"VIXY\",'call',2)]"
   ]
  },
  {
   "cell_type": "code",
   "execution_count": 133,
   "metadata": {
    "scrolled": true
   },
   "outputs": [
    {
     "name": "stdout",
     "output_type": "stream",
     "text": [
      "Ascending\n",
      "[u'2019-12-16', u'2019-12-20', u'2019-12-23', u'2020-01-13', u'2020-01-24']\n",
      "Which exp date0\n",
      "Ascending\n",
      "Ascending\n",
      "[u'2019-12-16', u'2019-12-20', u'2019-12-23', u'2020-01-13', u'2020-01-24']\n",
      "Which exp date0\n"
     ]
    },
    {
     "data": {
      "text/html": [
       "<div>\n",
       "<style scoped>\n",
       "    .dataframe tbody tr th:only-of-type {\n",
       "        vertical-align: middle;\n",
       "    }\n",
       "\n",
       "    .dataframe tbody tr th {\n",
       "        vertical-align: top;\n",
       "    }\n",
       "\n",
       "    .dataframe thead th {\n",
       "        text-align: right;\n",
       "    }\n",
       "</style>\n",
       "<table border=\"1\" class=\"dataframe\">\n",
       "  <thead>\n",
       "    <tr style=\"text-align: right;\">\n",
       "      <th></th>\n",
       "      <th>chain_id</th>\n",
       "      <th>chain_symbol</th>\n",
       "      <th>created_at</th>\n",
       "      <th>expiration_date</th>\n",
       "      <th>id</th>\n",
       "      <th>issue_date</th>\n",
       "      <th>min_ticks</th>\n",
       "      <th>rhs_tradability</th>\n",
       "      <th>state</th>\n",
       "      <th>strike_price</th>\n",
       "      <th>tradability</th>\n",
       "      <th>type</th>\n",
       "      <th>updated_at</th>\n",
       "      <th>url</th>\n",
       "    </tr>\n",
       "  </thead>\n",
       "  <tbody>\n",
       "    <tr>\n",
       "      <th>64</th>\n",
       "      <td>c277b118-58d9-4060-8dc5-a3b5898955cb</td>\n",
       "      <td>SPY</td>\n",
       "      <td>2019-11-08T01:05:43.983924Z</td>\n",
       "      <td>2019-12-16</td>\n",
       "      <td>44e5143b-1f9f-4090-acba-25c6ad81b850</td>\n",
       "      <td>2005-01-06</td>\n",
       "      <td>{u'cutoff_price': u'0.00', u'below_tick': u'0....</td>\n",
       "      <td>untradable</td>\n",
       "      <td>active</td>\n",
       "      <td>305.0</td>\n",
       "      <td>tradable</td>\n",
       "      <td>call</td>\n",
       "      <td>2019-11-08T01:05:43.983931Z</td>\n",
       "      <td>https://api.robinhood.com/options/instruments/...</td>\n",
       "    </tr>\n",
       "  </tbody>\n",
       "</table>\n",
       "</div>"
      ],
      "text/plain": [
       "                                chain_id chain_symbol  \\\n",
       "64  c277b118-58d9-4060-8dc5-a3b5898955cb          SPY   \n",
       "\n",
       "                     created_at expiration_date  \\\n",
       "64  2019-11-08T01:05:43.983924Z      2019-12-16   \n",
       "\n",
       "                                      id  issue_date  \\\n",
       "64  44e5143b-1f9f-4090-acba-25c6ad81b850  2005-01-06   \n",
       "\n",
       "                                            min_ticks rhs_tradability   state  \\\n",
       "64  {u'cutoff_price': u'0.00', u'below_tick': u'0....      untradable  active   \n",
       "\n",
       "    strike_price tradability  type                   updated_at  \\\n",
       "64         305.0    tradable  call  2019-11-08T01:05:43.983931Z   \n",
       "\n",
       "                                                  url  \n",
       "64  https://api.robinhood.com/options/instruments/...  "
      ]
     },
     "execution_count": 133,
     "metadata": {},
     "output_type": "execute_result"
    }
   ],
   "source": [
    "op.get_option(\"SPY\",\"call\",op.closest_strick_price(\"SPY\",\"call\",305))"
   ]
  },
  {
   "cell_type": "code",
   "execution_count": null,
   "metadata": {},
   "outputs": [],
   "source": []
  }
 ],
 "metadata": {
  "kernelspec": {
   "display_name": "Python 2",
   "language": "python",
   "name": "python2"
  },
  "language_info": {
   "codemirror_mode": {
    "name": "ipython",
    "version": 2
   },
   "file_extension": ".py",
   "mimetype": "text/x-python",
   "name": "python",
   "nbconvert_exporter": "python",
   "pygments_lexer": "ipython2",
   "version": "2.7.15+"
  }
 },
 "nbformat": 4,
 "nbformat_minor": 2
}
