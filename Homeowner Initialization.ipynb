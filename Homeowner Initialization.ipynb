{
 "cells": [
  {
   "cell_type": "code",
   "execution_count": 1,
   "metadata": {
    "scrolled": false
   },
   "outputs": [
    {
     "name": "stderr",
     "output_type": "stream",
     "text": [
      "/home/ken/.local/lib/python2.7/site-packages/pyfolio/pos.py:28: UserWarning: Module \"zipline.assets\" not found; mutltipliers will not be applied to position notionals.\n",
      "  ' to position notionals.'\n"
     ]
    }
   ],
   "source": [
    "from my_libs import * "
   ]
  },
  {
   "cell_type": "code",
   "execution_count": 2,
   "metadata": {},
   "outputs": [],
   "source": [
    "api_key = \"0fb7208227mshc3a081958186ecfp1679c5jsn018ab7050406\""
   ]
  },
  {
   "cell_type": "code",
   "execution_count": 3,
   "metadata": {},
   "outputs": [],
   "source": [
    "city = \"Pittsburg\""
   ]
  },
  {
   "cell_type": "markdown",
   "metadata": {},
   "source": [
    "# Get Sold"
   ]
  },
  {
   "cell_type": "code",
   "execution_count": 4,
   "metadata": {
    "scrolled": true
   },
   "outputs": [
    {
     "name": "stdout",
     "output_type": "stream",
     "text": [
      "Connection Successful\n"
     ]
    },
    {
     "name": "stderr",
     "output_type": "stream",
     "text": [
      "/home/ken/.local/lib/python2.7/site-packages/pandas/core/frame.py:6692: FutureWarning: Sorting because non-concatenation axis is not aligned. A future version\n",
      "of pandas will change to not sort by default.\n",
      "\n",
      "To accept the future behavior, pass 'sort=False'.\n",
      "\n",
      "To retain the current behavior and silence the warning, pass 'sort=True'.\n",
      "\n",
      "  sort=sort)\n"
     ]
    },
    {
     "name": "stdout",
     "output_type": "stream",
     "text": [
      "Connection Successful\n",
      "Connection Successful\n",
      "If no error message, task completed\n",
      "Connection Successful\n",
      "Connection Successful\n",
      "If no error message, task completed\n",
      "Connection Successful\n",
      "Connection Successful\n",
      "If no error message, task completed\n",
      "Connection Successful\n",
      "Connection Successful\n",
      "If no error message, task completed\n",
      "Connection Successful\n",
      "Connection Successful\n",
      "If no error message, task completed\n",
      "Connection Successful\n",
      "Connection Successful\n",
      "If no error message, task completed\n",
      "Connection Successful\n",
      "Connection Successful\n",
      "If no error message, task completed\n",
      "Connection Successful\n",
      "Connection Successful\n",
      "If no error message, task completed\n",
      "Connection Successful\n",
      "Connection Successful\n",
      "If no error message, task completed\n",
      "Connection Successful\n",
      "Connection Successful\n",
      "If no error message, task completed\n"
     ]
    }
   ],
   "source": [
    "table_name = \"sold_list\"\n",
    "\n",
    "\n",
    "mongod = mongo()\n",
    "\n",
    "try:\n",
    "    existing = mongod.conn.get_data(\"select * from Housing.%s \"%table_name)\n",
    "\n",
    "#     count = len(existing)\n",
    "except:\n",
    "    count = 0\n",
    "    existing = pd.DataFrame()\n",
    "count = 0\n",
    "\n",
    "while count < 2000:\n",
    "\n",
    "\n",
    "    querystring = {\n",
    "        \"sort\":\"sold_date\",\n",
    "        \"city\":city,\n",
    "        \"offset\":count,\n",
    "        \"state_code\":\"CA\",\n",
    "        \"limit\":200,\n",
    "        \"radius\":20\n",
    "\n",
    "\n",
    "    }\n",
    "\n",
    "    url = \"https://realtor.p.rapidapi.com/properties/v2/list-sold\"\n",
    "\n",
    "\n",
    "    headers = {\n",
    "        'x-rapidapi-host': \"realtor.p.rapidapi.com\",\n",
    "        'x-rapidapi-key': api_key\n",
    "        }\n",
    "\n",
    "    response = requests.request(\"GET\", url, headers=headers, params=querystring)\n",
    "\n",
    "    listing = response.json()\n",
    "\n",
    "    listing= pd.DataFrame(listing[\"properties\"])\n",
    "\n",
    "    listing = listing[[\"property_id\",\"listing_id\",\"address\",\"baths\",\"baths_full\",\"beds\",\\\n",
    "                       \"building_size\",\"prop_type\",\"last_update\",\"list_date\",\"lot_size\",\\\n",
    "                        \"rdc_web_url\",\"year_built\",\"price\",\"page_no\"]]\n",
    "\n",
    "    new_listing = pd.DataFrame()\n",
    "    address = pd.DataFrame()\n",
    "    building = pd.DataFrame()\n",
    "    lot = pd.DataFrame()\n",
    "    for i in listing.index:\n",
    "        temp = listing.loc[i]\n",
    "        if temp[\"lot_size\"] == temp[\"lot_size\"]:\n",
    "            lot = lot.append(pd.DataFrame(temp[\"lot_size\"],index =[temp.name]))\n",
    "        temp = temp.drop(\"lot_size\")\n",
    "        try:\n",
    "            del temp[\"address\"][\"neighborhoods\"]\n",
    "        except: \n",
    "            pass\n",
    "        if temp[\"address\"] == temp[\"address\"]:\n",
    "            address = address.append(pd.DataFrame(temp[\"address\"],index =[temp.name]))\n",
    "        temp = temp.drop(\"address\")\n",
    "        if temp[\"building_size\"] == temp[\"building_size\"]:\n",
    "            building = building.append(pd.DataFrame(temp[\"building_size\"],index =[temp.name]))\n",
    "        temp = temp.drop(\"building_size\")\n",
    "\n",
    "        new_listing = new_listing.append(temp)\n",
    "    new_listing = new_listing.join(address).join(building,rsuffix=\"_building\").join(lot,rsuffix=\"_lot\")\n",
    "\n",
    "    def format_date(data):\n",
    "        if data is None:\n",
    "            return None\n",
    "        try:\n",
    "            return datetime.strptime(data,\"%Y-%m-%dT%H:%M:%SZ\")\n",
    "        except:\n",
    "            return datetime.strptime(data,\"%Y-%m-%d\")\n",
    "\n",
    "    new_listing.last_update = new_listing.last_update.apply(format_date)\n",
    "\n",
    "    new_listing.list_date = new_listing.list_date.apply(format_date)\n",
    "    \n",
    "    new_listing[\"Refresh_Date\"] = datetime.now()\n",
    "    ### append new listing to existing  \n",
    "    mongod = mongo()\n",
    "    exist_count = len(existing)\n",
    "    existing = existing.append(new_listing).drop_duplicates(\"property_id\")\n",
    "\n",
    "    ### update the table\n",
    "    mongod = mongo()\n",
    "    try:\n",
    "        mongod.conn.conn.cursor().execute(\"drop table Housing.%s\"%table_name)\n",
    "    except:\n",
    "        pass\n",
    "    mongod.conn.to_sql(existing,database=\"Housing\",table_name=table_name,if_exists=\"append\")\n",
    "    # get new count   \n",
    "    \n",
    "    if exist_count == len(existing):\n",
    "        break\n",
    "    \n",
    "#     count = len(existing)\n",
    "\n",
    "    count += 200\n",
    "    \n",
    "# get new existing table\n",
    "#     existing = mongod.conn.get_data(\"select * from Housing.%s \"%table_name)"
   ]
  },
  {
   "cell_type": "code",
   "execution_count": null,
   "metadata": {},
   "outputs": [],
   "source": []
  },
  {
   "cell_type": "markdown",
   "metadata": {},
   "source": [
    "# Get Foreclosure"
   ]
  },
  {
   "cell_type": "code",
   "execution_count": 5,
   "metadata": {
    "scrolled": true
   },
   "outputs": [
    {
     "name": "stdout",
     "output_type": "stream",
     "text": [
      "Connection Successful\n",
      "Connection Successful\n",
      "Connection Successful\n",
      "If no error message, task completed\n"
     ]
    }
   ],
   "source": [
    "table_name = \"foreclosure_list\"\n",
    "\n",
    "mongod = mongo()\n",
    "\n",
    "\n",
    "try:\n",
    "    existing = mongod.conn.get_data(\"select * from Housing.%s \"%table_name)\n",
    "\n",
    "#     count = len(existing)\n",
    "except:\n",
    "    count = 0\n",
    "    existing = pd.DataFrame()\n",
    "\n",
    "count = 0\n",
    "\n",
    "while count < 500:\n",
    "\n",
    "    querystring = {\n",
    "        \"sort\":\"newest\",\n",
    "        \"city\":city,\n",
    "        \"offset\":count,\n",
    "        \"state_code\":\"CA\",\n",
    "        \"limit\":200,\n",
    "        \"radius\":20,\n",
    "        \"is_foreclosure\":True\n",
    "\n",
    "\n",
    "    }\n",
    "\n",
    "    url = \"https://realtor.p.rapidapi.com/properties/v2/list-for-sale\"\n",
    "\n",
    "\n",
    "    headers = {\n",
    "        'x-rapidapi-host': \"realtor.p.rapidapi.com\",\n",
    "        'x-rapidapi-key': api_key\n",
    "        }\n",
    "\n",
    "    response = requests.request(\"GET\", url, headers=headers, params=querystring)\n",
    "\n",
    "    listing = response.json()\n",
    "\n",
    "    listing= pd.DataFrame(listing[\"properties\"])\n",
    "\n",
    "    listing = listing[[\"property_id\",\"listing_id\",\"address\",\"baths\",\"baths_full\",\"beds\",\\\n",
    "                       \"building_size\",\"prop_type\",\"last_update\",\"lot_size\",\\\n",
    "                        \"rdc_web_url\",\"price\",\"page_no\",\"client_display_flags\"]]\n",
    "\n",
    "    new_listing = pd.DataFrame()\n",
    "    address = pd.DataFrame()\n",
    "    building = pd.DataFrame()\n",
    "    lot = pd.DataFrame()\n",
    "    flags = pd.DataFrame()\n",
    "    for i in listing.index:\n",
    "\n",
    "        temp = listing.loc[i]\n",
    "        if temp[\"lot_size\"] == temp[\"lot_size\"]:\n",
    "            lot = lot.append(pd.DataFrame(temp[\"lot_size\"],index =[temp.name]))\n",
    "            temp = temp.drop(\"lot_size\")\n",
    "        try:\n",
    "            del temp[\"address\"][\"neighborhoods\"]\n",
    "        except: \n",
    "            pass\n",
    "        if temp[\"address\"] == temp[\"address\"]:\n",
    "            address = address.append(pd.DataFrame(temp[\"address\"],index =[temp.name]))\n",
    "        temp = temp.drop(\"address\")\n",
    "        if temp[\"building_size\"] == temp[\"building_size\"]:\n",
    "            building = building.append(pd.DataFrame(temp[\"building_size\"],index =[temp.name]))\n",
    "        temp = temp.drop(\"building_size\")\n",
    "        if temp[\"client_display_flags\"] == temp[\"client_display_flags\"]:\n",
    "            flags = flags.append(pd.DataFrame(temp[\"client_display_flags\"],index =[temp.name])[[\"is_new_listing\",\"is_turbo\",\"is_foreclosure\",\"is_new_plan\",\"has_open_house\"]])\n",
    "        temp = temp.drop(\"client_display_flags\")\n",
    "\n",
    "        new_listing = new_listing.append(temp)\n",
    "\n",
    "  \n",
    "    new_listing = new_listing.join(address).join(building,rsuffix=\"building_\").join(lot,rsuffix=\"lot_\").join(flags)\n",
    "\n",
    "    def format_date(data):\n",
    "        if data is None:\n",
    "            return None\n",
    "        try:\n",
    "            return datetime.strptime(data,\"%Y-%m-%dT%H:%M:%SZ\")\n",
    "        except:\n",
    "            return datetime.strptime(data,\"%Y-%m-%d\")\n",
    "\n",
    "    new_listing.last_update = new_listing.last_update.apply(format_date)\n",
    "\n",
    "    new_listing[\"Refresh_Date\"] = datetime.now()\n",
    "    \n",
    "    \n",
    "    ### append new listing to existing  \n",
    "    mongod = mongo()\n",
    "    exist_count =len(existing)\n",
    "    existing = existing.append(new_listing).drop_duplicates(\"property_id\")\n",
    "\n",
    "    ### update the table\n",
    "    mongod = mongo()\n",
    "    try:\n",
    "        mongod.conn.conn.cursor().execute(\"drop table Housing.%s\"%table_name)\n",
    "    except:\n",
    "        pass\n",
    "    mongod.conn.to_sql(existing,database=\"Housing\",table_name=table_name,if_exists=\"append\")\n",
    "    # get new count  \n",
    "    \n",
    "    if exist_count == len(existing):\n",
    "        break\n",
    "#     count = len(existing)\n",
    "\n",
    "    count += 200\n",
    "    \n"
   ]
  },
  {
   "cell_type": "markdown",
   "metadata": {},
   "source": [
    "# For Sale"
   ]
  },
  {
   "cell_type": "code",
   "execution_count": 6,
   "metadata": {
    "scrolled": true
   },
   "outputs": [
    {
     "name": "stdout",
     "output_type": "stream",
     "text": [
      "Connection Successful\n",
      "Connection Successful\n",
      "Connection Successful\n",
      "If no error message, task completed\n",
      "Connection Successful\n",
      "Connection Successful\n",
      "If no error message, task completed\n",
      "Connection Successful\n",
      "Connection Successful\n",
      "If no error message, task completed\n"
     ]
    }
   ],
   "source": [
    "table_name = \"for_sale_list\"\n",
    "\n",
    "mongod = mongo()\n",
    "\n",
    "\n",
    "try:\n",
    "    existing = mongod.conn.get_data(\"select * from Housing.%s \"%table_name)\n",
    "\n",
    "#     count = len(existing)\n",
    "except:\n",
    "    count = 0\n",
    "    existing = pd.DataFrame()\n",
    "count = 0\n",
    "while count < 2000:\n",
    "\n",
    "    querystring = {\n",
    "        \"sort\":\"newest\",\n",
    "        \"city\":city,\n",
    "        \"offset\":count,\n",
    "        \"state_code\":\"CA\",\n",
    "        \"limit\":200,\n",
    "        \"radius\":20,\n",
    "        \"is_foreclosure\":False\n",
    "\n",
    "\n",
    "    }\n",
    "\n",
    "    url = \"https://realtor.p.rapidapi.com/properties/v2/list-for-sale\"\n",
    "\n",
    "\n",
    "    headers = {\n",
    "        'x-rapidapi-host': \"realtor.p.rapidapi.com\",\n",
    "        'x-rapidapi-key': api_key\n",
    "        }\n",
    "\n",
    "    response = requests.request(\"GET\", url, headers=headers, params=querystring)\n",
    "\n",
    "    listing = response.json()\n",
    "\n",
    "    listing= pd.DataFrame(listing[\"properties\"])\n",
    "\n",
    "    listing = listing[[\"property_id\",\"listing_id\",\"address\",\"baths\",\"baths_full\",\"beds\",\\\n",
    "                       \"building_size\",\"prop_type\",\"last_update\",\"lot_size\",\\\n",
    "                        \"rdc_web_url\",\"price\",\"page_no\",\"client_display_flags\"]]\n",
    "\n",
    "    new_listing = pd.DataFrame()\n",
    "    address = pd.DataFrame()\n",
    "    building = pd.DataFrame()\n",
    "    lot = pd.DataFrame()\n",
    "    flags = pd.DataFrame()\n",
    "    for i in listing.index:\n",
    "\n",
    "        temp = listing.loc[i]\n",
    "        if temp[\"lot_size\"] == temp[\"lot_size\"]:\n",
    "            lot = lot.append(pd.DataFrame(temp[\"lot_size\"],index =[temp.name]))\n",
    "            temp = temp.drop(\"lot_size\")\n",
    "        try:\n",
    "            del temp[\"address\"][\"neighborhoods\"]\n",
    "        except: \n",
    "            pass\n",
    "        if temp[\"address\"] == temp[\"address\"]:\n",
    "            address = address.append(pd.DataFrame(temp[\"address\"],index =[temp.name]))\n",
    "        temp = temp.drop(\"address\")\n",
    "        if temp[\"building_size\"] == temp[\"building_size\"]:\n",
    "            building = building.append(pd.DataFrame(temp[\"building_size\"],index =[temp.name]))\n",
    "        temp = temp.drop(\"building_size\")\n",
    "        if temp[\"client_display_flags\"] == temp[\"client_display_flags\"]:\n",
    "            flags = flags.append(pd.DataFrame(temp[\"client_display_flags\"],index =[temp.name])[[\"is_new_listing\",\"is_turbo\",\"is_new_plan\",\"has_open_house\"]])\n",
    "        temp = temp.drop(\"client_display_flags\")\n",
    "\n",
    "        new_listing = new_listing.append(temp)\n",
    "\n",
    "  \n",
    "    new_listing = new_listing.join(address).join(building,rsuffix=\"building_\").join(lot,rsuffix=\"lot_\").join(flags)\n",
    "\n",
    "    def format_date(data):\n",
    "        if data is None:\n",
    "            return None\n",
    "        try:\n",
    "            return datetime.strptime(data,\"%Y-%m-%dT%H:%M:%SZ\")\n",
    "        except:\n",
    "            return datetime.strptime(data,\"%Y-%m-%d\")\n",
    "\n",
    "    new_listing.last_update = new_listing.last_update.apply(format_date)\n",
    "\n",
    "    new_listing[\"Refresh_Date\"] = datetime.now()\n",
    "    \n",
    "    \n",
    "    ### append new listing to existing  \n",
    "    mongod = mongo()\n",
    "    exist_count = len(existing)\n",
    "    existing = existing.append(new_listing).drop_duplicates(\"property_id\")\n",
    "\n",
    "    ### update the table\n",
    "    mongod = mongo()\n",
    "    try:\n",
    "        mongod.conn.conn.cursor().execute(\"drop table Housing.%s\"%table_name)\n",
    "    except:\n",
    "        pass\n",
    "    mongod.conn.to_sql(existing,database=\"Housing\",table_name=table_name,if_exists=\"append\")\n",
    "    # get new count  \n",
    "    if exist_count == len(existing):\n",
    "        break\n",
    "    \n",
    "#     count = len(existing)\n",
    "\n",
    "    count += 200\n",
    "    \n"
   ]
  },
  {
   "cell_type": "code",
   "execution_count": null,
   "metadata": {},
   "outputs": [],
   "source": []
  },
  {
   "cell_type": "code",
   "execution_count": null,
   "metadata": {},
   "outputs": [],
   "source": []
  },
  {
   "cell_type": "code",
   "execution_count": 34,
   "metadata": {},
   "outputs": [],
   "source": [
    "def get_prop_detail(ID):\n",
    "\n",
    "    querystring = {\n",
    "        \"property_id\":str(ID)\n",
    "    }\n",
    "\n",
    "    url = \"https://realtor.p.rapidapi.com/properties/v2/detail\"\n",
    "\n",
    "    headers = {\n",
    "        'x-rapidapi-host': \"realtor.p.rapidapi.com\",\n",
    "        'x-rapidapi-key': \"L4vgCBGurvmshQp6E7hWIVXE2wyup1Ku0rGjsnjnhyKjfJeFwS\"\n",
    "        }\n",
    "\n",
    "    response = requests.request(\"GET\", url, headers=headers, params=querystring)\n",
    "\n",
    "    prop= pd.DataFrame(response.json()[\"properties\"])\n",
    "    \n",
    "    prop = prop[[\"buyer_agent_for_far\",\"buyer_office\",\"description\",\"property_history\",\"tax_history\",\"hoa_fee\",\"sold_history\",\"prop_status\"]]\n",
    "    return prop"
   ]
  },
  {
   "cell_type": "code",
   "execution_count": 38,
   "metadata": {},
   "outputs": [],
   "source": [
    "get = get_prop_detail(\"M2171938907\").iloc[0]"
   ]
  },
  {
   "cell_type": "code",
   "execution_count": 40,
   "metadata": {},
   "outputs": [
    {
     "data": {
      "text/plain": [
       "[{u'date': u'2009-02-20T07:00:00Z',\n",
       "  u'listing': {u'price': 2200000},\n",
       "  u'source': u'public record'}]"
      ]
     },
     "execution_count": 40,
     "metadata": {},
     "output_type": "execute_result"
    }
   ],
   "source": [
    "get[\"sold_history\"] "
   ]
  },
  {
   "cell_type": "code",
   "execution_count": null,
   "metadata": {},
   "outputs": [],
   "source": []
  },
  {
   "cell_type": "code",
   "execution_count": 6,
   "metadata": {},
   "outputs": [],
   "source": [
    "querystring = {\n",
    "    \"sort\":\"sold_date\",\n",
    "    \"city\":\"concord, antioch\",\n",
    "    \"offset\":0,\n",
    "    \"state_code\":\"CA\",\n",
    "    \"limit\":200,\n",
    "    \"radius\":20\n",
    "\n",
    "\n",
    "}\n",
    "\n",
    "url = \"https://realtor.p.rapidapi.com/properties/v2/list-for-sale\"\n",
    "\n",
    "\n",
    "headers = {\n",
    "    'x-rapidapi-host': \"realtor.p.rapidapi.com\",\n",
    "    'x-rapidapi-key': \"93dedfc226msh5f733777e6fa72dp12da64jsneba592d0c8c8\"\n",
    "    }\n",
    "\n",
    "response = requests.request(\"GET\", url, headers=headers, params=querystring)\n",
    "\n",
    "listing = response.json()\n",
    "\n",
    "listing= pd.DataFrame(listing[\"properties\"])\n",
    "\n",
    "# listing = listing[[\"property_id\",\"listing_id\",\"address\",\"baths\",\"baths_full\",\"beds\",\\\n",
    "#                    \"building_size\",\"last_update\",\"list_date\",\"lot_size\",\\\n",
    "#                     \"rdc_web_url\",\"year_built\",\"price\",\"page_no\"]]\n",
    "\n"
   ]
  },
  {
   "cell_type": "code",
   "execution_count": 15,
   "metadata": {},
   "outputs": [
    {
     "name": "stdout",
     "output_type": "stream",
     "text": [
      "Connection Successful\n"
     ]
    }
   ],
   "source": [
    "mongod = mongo()"
   ]
  },
  {
   "cell_type": "code",
   "execution_count": 16,
   "metadata": {},
   "outputs": [],
   "source": [
    "data = pd.read_csv(directory+\"sold_list_backup.csv\")"
   ]
  },
  {
   "cell_type": "code",
   "execution_count": 17,
   "metadata": {},
   "outputs": [
    {
     "name": "stdout",
     "output_type": "stream",
     "text": [
      "If no error message, task completed\n"
     ]
    }
   ],
   "source": [
    "mongod.conn.to_sql(data,database=\"Housing\",table_name=\"sold_list\")"
   ]
  },
  {
   "cell_type": "code",
   "execution_count": 23,
   "metadata": {},
   "outputs": [
    {
     "name": "stdout",
     "output_type": "stream",
     "text": [
      "/home/ken/.local/lib/python2.7/site-packages/pyfolio/pos.py:28: UserWarning: Module \"zipline.assets\" not found; mutltipliers will not be applied to position notionals.\n",
      "  ' to position notionals.'\n",
      "/home/ken/.local/lib/python2.7/site-packages/pandas/core/frame.py:6692: FutureWarning: Sorting because non-concatenation axis is not aligned. A future version\n",
      "of pandas will change to not sort by default.\n",
      "\n",
      "To accept the future behavior, pass 'sort=False'.\n",
      "\n",
      "To retain the current behavior and silence the warning, pass 'sort=True'.\n",
      "\n",
      "  sort=sort)\n",
      "Connection Successful\n",
      "Connection Successful\n",
      "If no error message, task completed\n",
      "Connection Successful\n",
      "If no error message, task completed\n",
      "Connection Successful\n",
      "If no error message, task completed\n",
      "Connection Successful\n",
      "Connection Successful\n",
      "If no error message, task completed\n",
      "Connection Successful\n",
      "If no error message, task completed\n",
      "Connection Successful\n",
      "If no error message, task completed\n",
      "Connection Successful\n",
      "Connection Successful\n",
      "If no error message, task completed\n",
      "Connection Successful\n",
      "If no error message, task completed\n",
      "Connection Successful\n",
      "If no error message, task completed\n",
      "Connection Successful\n",
      "Connection Successful\n",
      "If no error message, task completed\n",
      "Connection Successful\n",
      "If no error message, task completed\n",
      "Connection Successful\n",
      "If no error message, task completed\n",
      "To: <lgyhz1234@gmail.com>\n",
      "From: <lgyhz1234@gmail.com>\n",
      "Subject: Housing Data Finished\n"
     ]
    }
   ],
   "source": [
    "! python homeowner_auto_update.py"
   ]
  },
  {
   "cell_type": "code",
   "execution_count": null,
   "metadata": {},
   "outputs": [],
   "source": []
  }
 ],
 "metadata": {
  "kernelspec": {
   "display_name": "Python 2",
   "language": "python",
   "name": "python2"
  },
  "language_info": {
   "codemirror_mode": {
    "name": "ipython",
    "version": 2
   },
   "file_extension": ".py",
   "mimetype": "text/x-python",
   "name": "python",
   "nbconvert_exporter": "python",
   "pygments_lexer": "ipython2",
   "version": "2.7.17"
  }
 },
 "nbformat": 4,
 "nbformat_minor": 2
}
