{
 "cells": [
  {
   "cell_type": "code",
   "execution_count": 2,
   "metadata": {
    "scrolled": false
   },
   "outputs": [
    {
     "name": "stderr",
     "output_type": "stream",
     "text": [
      "\n",
      "Bad key \"text.kerning_factor\" on line 4 in\n",
      "/home/ken/miniconda3/lib/python3.7/site-packages/matplotlib/mpl-data/stylelib/_classic_test_patch.mplstyle.\n",
      "You probably need to get an updated matplotlibrc file from\n",
      "https://github.com/matplotlib/matplotlib/blob/v3.1.3/matplotlibrc.template\n",
      "or from the matplotlib source distribution\n",
      "/home/ken/miniconda3/lib/python3.7/site-packages/pyfolio/pos.py:27: UserWarning: Module \"zipline.assets\" not found; mutltipliers will not be applied to position notionals.\n",
      "  'Module \"zipline.assets\" not found; mutltipliers will not be applied' +\n"
     ]
    }
   ],
   "source": [
    "from my_libs_py3 import *\n",
    "pd.set_option(\"display.max_rows\",100)\n",
    "import bson\n",
    "import cudf"
   ]
  },
  {
   "cell_type": "code",
   "execution_count": null,
   "metadata": {},
   "outputs": [],
   "source": [
    "df = cudf.DataFrame({\"a\":{1, 2, 3, 4, 5}})\n",
    "\n",
    "data = data.drop(\"_id\",axis=1)\n",
    "\n",
    "data[\"Refresh_Date\"] = data[\"Refresh_Date\"].apply(lambda x: x.strftime(\"%Y-%m-%d\"))\n"
   ]
  },
  {
   "cell_type": "code",
   "execution_count": 40,
   "metadata": {},
   "outputs": [
    {
     "name": "stdout",
     "output_type": "stream",
     "text": [
      "Connection Successful\n"
     ]
    }
   ],
   "source": [
    "mongod = mongo(\"all_symbol\",\"screener\")\n",
    "## This line gets the max refresh_date\n",
    "tos = pd.DataFrame(mongod.conn.table.find({},{\"Refresh_Date\":1}).sort(\"Refresh_Date\",-1).limit(1))[\"Refresh_Date\"].iloc[0]\n",
    "all_ticker = pd.DataFrame(mongod.conn.table.find({\"Refresh_Date\":tos}))\n",
    "all_ticker = all_ticker[all_ticker.Volume > all_ticker.Volume.quantile(0.5)]\n",
    "all_ticker = all_ticker[all_ticker[\"Institutional Ownership\"] > all_ticker[\"Institutional Ownership\"].quantile(0.5)]\n",
    "\n",
    "all_ticker = all_ticker.Ticker.to_list()\n"
   ]
  },
  {
   "cell_type": "code",
   "execution_count": 62,
   "metadata": {},
   "outputs": [],
   "source": [
    "def pair_trade_smaple():\n",
    "    mongod = mongo(\"all_symbol\",\"pair_trade_sharp_2021\")\n",
    "    candid = pd.DataFrame(mongod.conn.table.find({\"Sharp_Ratio\":{\"$exists\":True}}))\n",
    "    top_return = candid.describe().loc[\"75%\",\"Avg_Return\"]\n",
    "    top_sharp = candid.describe().loc[\"75%\",\"Sharp_Ratio\"]\n",
    "\n",
    "    pipeline = [\n",
    "        {\"$match\":{\"End_Value\":{\"$gt\":2000},\"Sharp_Ratio\":{\"$gt\":top_sharp},\"Avg_Return\":{\"$gt\":top_return}}},\n",
    "        {\"$sample\":{\"size\":10}}\n",
    "    ]\n",
    "\n",
    "    candid = pd.DataFrame(mongod.conn.table.aggregate(pipeline))\n",
    "\n",
    "    return candid"
   ]
  },
  {
   "cell_type": "code",
   "execution_count": 64,
   "metadata": {},
   "outputs": [
    {
     "name": "stdout",
     "output_type": "stream",
     "text": [
      "Connection Successful\n"
     ]
    },
    {
     "data": {
      "text/html": [
       "<div>\n",
       "<style scoped>\n",
       "    .dataframe tbody tr th:only-of-type {\n",
       "        vertical-align: middle;\n",
       "    }\n",
       "\n",
       "    .dataframe tbody tr th {\n",
       "        vertical-align: top;\n",
       "    }\n",
       "\n",
       "    .dataframe thead th {\n",
       "        text-align: right;\n",
       "    }\n",
       "</style>\n",
       "<table border=\"1\" class=\"dataframe\">\n",
       "  <thead>\n",
       "    <tr style=\"text-align: right;\">\n",
       "      <th></th>\n",
       "      <th>_id</th>\n",
       "      <th>Ticker_1</th>\n",
       "      <th>Ticker_2</th>\n",
       "      <th>End_Value</th>\n",
       "      <th>Avg_Return</th>\n",
       "      <th>Sharp_Ratio</th>\n",
       "      <th>Min_Return</th>\n",
       "      <th>Max_Return</th>\n",
       "      <th>Refresh_Date</th>\n",
       "    </tr>\n",
       "  </thead>\n",
       "  <tbody>\n",
       "    <tr>\n",
       "      <th>0</th>\n",
       "      <td>612c5e83ffb50dc4b25489be</td>\n",
       "      <td>ALRM</td>\n",
       "      <td>B</td>\n",
       "      <td>2,240.4159</td>\n",
       "      <td>0.0005</td>\n",
       "      <td>0.0649</td>\n",
       "      <td>-0.0389</td>\n",
       "      <td>0.0413</td>\n",
       "      <td>2021-08-22 00:00:00+00:00</td>\n",
       "    </tr>\n",
       "    <tr>\n",
       "      <th>1</th>\n",
       "      <td>6122eed5ffb50dc4b24dd0c6</td>\n",
       "      <td>AAT</td>\n",
       "      <td>GNW</td>\n",
       "      <td>2,544.0665</td>\n",
       "      <td>0.0010</td>\n",
       "      <td>0.0680</td>\n",
       "      <td>-0.0586</td>\n",
       "      <td>0.1562</td>\n",
       "      <td>2021-08-22 00:00:00+00:00</td>\n",
       "    </tr>\n",
       "    <tr>\n",
       "      <th>2</th>\n",
       "      <td>6126496dffb50dc4b2502fe2</td>\n",
       "      <td>ADSK</td>\n",
       "      <td>TIG</td>\n",
       "      <td>2,577.8298</td>\n",
       "      <td>0.0010</td>\n",
       "      <td>0.1031</td>\n",
       "      <td>-0.0495</td>\n",
       "      <td>0.0379</td>\n",
       "      <td>2021-08-22 00:00:00+00:00</td>\n",
       "    </tr>\n",
       "    <tr>\n",
       "      <th>3</th>\n",
       "      <td>612d09b4ffb50dc4b255023a</td>\n",
       "      <td>AMBC</td>\n",
       "      <td>RTPYU</td>\n",
       "      <td>2,167.0800</td>\n",
       "      <td>0.0007</td>\n",
       "      <td>0.1373</td>\n",
       "      <td>-0.0204</td>\n",
       "      <td>0.0282</td>\n",
       "      <td>2021-08-22 00:00:00+00:00</td>\n",
       "    </tr>\n",
       "    <tr>\n",
       "      <th>4</th>\n",
       "      <td>61268243ffb50dc4b25057bc</td>\n",
       "      <td>ADTN</td>\n",
       "      <td>HMHC</td>\n",
       "      <td>2,442.3220</td>\n",
       "      <td>0.0008</td>\n",
       "      <td>0.0748</td>\n",
       "      <td>-0.0694</td>\n",
       "      <td>0.0511</td>\n",
       "      <td>2021-08-22 00:00:00+00:00</td>\n",
       "    </tr>\n",
       "    <tr>\n",
       "      <th>5</th>\n",
       "      <td>61244c3effb50dc4b24ec414</td>\n",
       "      <td>ACIW</td>\n",
       "      <td>SI</td>\n",
       "      <td>2,755.4998</td>\n",
       "      <td>0.0013</td>\n",
       "      <td>0.1275</td>\n",
       "      <td>-0.0140</td>\n",
       "      <td>0.1151</td>\n",
       "      <td>2021-08-22 00:00:00+00:00</td>\n",
       "    </tr>\n",
       "    <tr>\n",
       "      <th>6</th>\n",
       "      <td>612406f6ffb50dc4b24e9344</td>\n",
       "      <td>ACC</td>\n",
       "      <td>UNIT</td>\n",
       "      <td>2,337.6120</td>\n",
       "      <td>0.0006</td>\n",
       "      <td>0.0857</td>\n",
       "      <td>-0.0287</td>\n",
       "      <td>0.0327</td>\n",
       "      <td>2021-08-22 00:00:00+00:00</td>\n",
       "    </tr>\n",
       "    <tr>\n",
       "      <th>7</th>\n",
       "      <td>612b22c9ffb50dc4b253a596</td>\n",
       "      <td>ALGN</td>\n",
       "      <td>CORT</td>\n",
       "      <td>2,448.4300</td>\n",
       "      <td>0.0008</td>\n",
       "      <td>0.0708</td>\n",
       "      <td>-0.0634</td>\n",
       "      <td>0.0589</td>\n",
       "      <td>2021-08-22 00:00:00+00:00</td>\n",
       "    </tr>\n",
       "    <tr>\n",
       "      <th>8</th>\n",
       "      <td>612b2521ffb50dc4b253a738</td>\n",
       "      <td>ALGN</td>\n",
       "      <td>DOC</td>\n",
       "      <td>2,431.3901</td>\n",
       "      <td>0.0008</td>\n",
       "      <td>0.0777</td>\n",
       "      <td>-0.0634</td>\n",
       "      <td>0.0589</td>\n",
       "      <td>2021-08-22 00:00:00+00:00</td>\n",
       "    </tr>\n",
       "    <tr>\n",
       "      <th>9</th>\n",
       "      <td>6123215bffb50dc4b24df3ca</td>\n",
       "      <td>ABCB</td>\n",
       "      <td>RDWR</td>\n",
       "      <td>2,133.5067</td>\n",
       "      <td>0.0003</td>\n",
       "      <td>0.1111</td>\n",
       "      <td>-0.0129</td>\n",
       "      <td>0.0301</td>\n",
       "      <td>2021-08-22 00:00:00+00:00</td>\n",
       "    </tr>\n",
       "  </tbody>\n",
       "</table>\n",
       "</div>"
      ],
      "text/plain": [
       "                        _id Ticker_1 Ticker_2  End_Value  Avg_Return  \\\n",
       "0  612c5e83ffb50dc4b25489be     ALRM        B 2,240.4159      0.0005   \n",
       "1  6122eed5ffb50dc4b24dd0c6      AAT      GNW 2,544.0665      0.0010   \n",
       "2  6126496dffb50dc4b2502fe2     ADSK      TIG 2,577.8298      0.0010   \n",
       "3  612d09b4ffb50dc4b255023a     AMBC    RTPYU 2,167.0800      0.0007   \n",
       "4  61268243ffb50dc4b25057bc     ADTN     HMHC 2,442.3220      0.0008   \n",
       "5  61244c3effb50dc4b24ec414     ACIW       SI 2,755.4998      0.0013   \n",
       "6  612406f6ffb50dc4b24e9344      ACC     UNIT 2,337.6120      0.0006   \n",
       "7  612b22c9ffb50dc4b253a596     ALGN     CORT 2,448.4300      0.0008   \n",
       "8  612b2521ffb50dc4b253a738     ALGN      DOC 2,431.3901      0.0008   \n",
       "9  6123215bffb50dc4b24df3ca     ABCB     RDWR 2,133.5067      0.0003   \n",
       "\n",
       "   Sharp_Ratio  Min_Return  Max_Return              Refresh_Date  \n",
       "0       0.0649     -0.0389      0.0413 2021-08-22 00:00:00+00:00  \n",
       "1       0.0680     -0.0586      0.1562 2021-08-22 00:00:00+00:00  \n",
       "2       0.1031     -0.0495      0.0379 2021-08-22 00:00:00+00:00  \n",
       "3       0.1373     -0.0204      0.0282 2021-08-22 00:00:00+00:00  \n",
       "4       0.0748     -0.0694      0.0511 2021-08-22 00:00:00+00:00  \n",
       "5       0.1275     -0.0140      0.1151 2021-08-22 00:00:00+00:00  \n",
       "6       0.0857     -0.0287      0.0327 2021-08-22 00:00:00+00:00  \n",
       "7       0.0708     -0.0634      0.0589 2021-08-22 00:00:00+00:00  \n",
       "8       0.0777     -0.0634      0.0589 2021-08-22 00:00:00+00:00  \n",
       "9       0.1111     -0.0129      0.0301 2021-08-22 00:00:00+00:00  "
      ]
     },
     "execution_count": 64,
     "metadata": {},
     "output_type": "execute_result"
    }
   ],
   "source": [
    "pair_trade_smaple()"
   ]
  },
  {
   "cell_type": "code",
   "execution_count": 42,
   "metadata": {},
   "outputs": [
    {
     "name": "stdout",
     "output_type": "stream",
     "text": [
      "All price data of Close is actually Adj Close\n",
      "Connection Successful\n",
      "ADP\n",
      "('Finished', 'ADP')\n",
      "All price data of Close is actually Adj Close\n",
      "Connection Successful\n",
      "APR\n",
      "('Finished', 'APR')\n",
      "All price data of Close is actually Adj Close\n",
      "('Finished', 'ADP')\n",
      "All price data of Close is actually Adj Close\n",
      "('Finished', 'APR')\n"
     ]
    },
    {
     "name": "stderr",
     "output_type": "stream",
     "text": [
      "/home/ken/miniconda3/lib/python3.7/site-packages/scipy/stats/_stats_mstats_common.py:160: RuntimeWarning: invalid value encountered in double_scalars\n",
      "  slope = ssxym / ssxm\n",
      "/home/ken/miniconda3/lib/python3.7/site-packages/scipy/stats/_stats_mstats_common.py:174: RuntimeWarning: invalid value encountered in sqrt\n",
      "  t = r * np.sqrt(df / ((1.0 - r + TINY)*(1.0 + r + TINY)))\n",
      "/home/ken/miniconda3/lib/python3.7/site-packages/scipy/stats/_stats_mstats_common.py:176: RuntimeWarning: invalid value encountered in double_scalars\n",
      "  slope_stderr = np.sqrt((1 - r**2) * ssym / ssxm / df)\n"
     ]
    }
   ],
   "source": [
    "trade = self_pair_trade(\"ADP\",\"APR\").iloc[-1]"
   ]
  },
  {
   "cell_type": "code",
   "execution_count": 8,
   "metadata": {},
   "outputs": [
    {
     "data": {
      "text/plain": [
       "2571.852227"
      ]
     },
     "execution_count": 8,
     "metadata": {},
     "output_type": "execute_result"
    }
   ],
   "source": [
    "trade.iloc[-1][\"total_value\"]"
   ]
  },
  {
   "cell_type": "code",
   "execution_count": 24,
   "metadata": {},
   "outputs": [
    {
     "data": {
      "text/plain": [
       "0.0010140289098981633"
      ]
     },
     "execution_count": 24,
     "metadata": {},
     "output_type": "execute_result"
    }
   ],
   "source": [
    "np.log(trade[\"total_value\"].shift(-1)/trade[\"total_value\"]).mean()"
   ]
  },
  {
   "cell_type": "code",
   "execution_count": 23,
   "metadata": {},
   "outputs": [
    {
     "data": {
      "text/plain": [
       "TimeStamp\n",
       "2020-08-26   2,000.0000\n",
       "2020-08-27   2,000.0000\n",
       "2020-08-28   2,000.0000\n",
       "2020-08-31   2,000.0000\n",
       "2020-09-01   2,000.0000\n",
       "2020-09-02   2,014.9500\n",
       "2020-09-03   1,965.7615\n",
       "Name: total_value, dtype: float64"
      ]
     },
     "execution_count": 23,
     "metadata": {},
     "output_type": "execute_result"
    }
   ],
   "source": [
    "trade[\"total_value\"].head(7)"
   ]
  },
  {
   "cell_type": "markdown",
   "metadata": {},
   "source": [
    "-----"
   ]
  },
  {
   "cell_type": "markdown",
   "metadata": {},
   "source": [
    "### Trade Action"
   ]
  },
  {
   "cell_type": "code",
   "execution_count": 44,
   "metadata": {
    "collapsed": true
   },
   "outputs": [
    {
     "name": "stdout",
     "output_type": "stream",
     "text": [
      "All price data of Close is actually Adj Close\n",
      "('Finished', 'ADP')\n",
      "All price data of Close is actually Adj Close\n",
      "('Finished', 'APR')\n",
      "All price data of Close is actually Adj Close\n",
      "('Finished', 'ADP')\n",
      "All price data of Close is actually Adj Close\n",
      "('Finished', 'APR')\n"
     ]
    },
    {
     "name": "stderr",
     "output_type": "stream",
     "text": [
      "/home/ken/miniconda3/lib/python3.7/site-packages/scipy/stats/_stats_mstats_common.py:160: RuntimeWarning: invalid value encountered in double_scalars\n",
      "  slope = ssxym / ssxm\n",
      "/home/ken/miniconda3/lib/python3.7/site-packages/scipy/stats/_stats_mstats_common.py:174: RuntimeWarning: invalid value encountered in sqrt\n",
      "  t = r * np.sqrt(df / ((1.0 - r + TINY)*(1.0 + r + TINY)))\n",
      "/home/ken/miniconda3/lib/python3.7/site-packages/scipy/stats/_stats_mstats_common.py:176: RuntimeWarning: invalid value encountered in double_scalars\n",
      "  slope_stderr = np.sqrt((1 - r**2) * ssym / ssxm / df)\n"
     ]
    },
    {
     "name": "stdout",
     "output_type": "stream",
     "text": [
      "Connection Successful\n"
     ]
    }
   ],
   "source": [
    "ticker1=\"ADP\"\n",
    "ticker2=\"APR\"\n",
    "\n",
    "today_trade = self_pair_trade(ticker1,ticker2,method = \"realtimeday\").iloc[-1]\n",
    "\n",
    "log = get_pair_trade_log(ticker1,ticker2)\n",
    "\n",
    "# day_diff = log[\"TimeStamp\"].astimezone(mytz) - datetime.now(mytz)\n",
    "\n",
    "\n",
    "if len(log) == 0:\n",
    "    current_size1 = 0\n",
    "    current_size2 = 0\n",
    "else:\n",
    "    log = log.iloc[-1]\n",
    "    current_size1 = log[\"size1\"]\n",
    "    current_size2 = log[\"size2\"]\n",
    "\n",
    "\n",
    "new_size1 = today_trade[\"size1\"]\n",
    "new_size2 = today_trade[\"size2\"]\n",
    "\n",
    "\n",
    "trade_size1 = new_size1 - current_size1\n",
    "trade_size2 = new_size2 - current_size2\n",
    "\n",
    "\n",
    "try:\n",
    "    td_trade = order_equity(order_type.LIMIT)\n",
    "\n",
    "    ## need to trade the short sell first to test whether it's short\n",
    "    if trade_size1 != 0:\n",
    "        send_email(title=\"!Important! Pair Trade Order Placing for %s and %s\"%(ticker1,ticker2))\n",
    "        if trade_size1 < 0:\n",
    "            td_trade.place(ticker1,trade_size1)\n",
    "            \n",
    "            td_trade.place(ticker2,trade_size2)\n",
    "        if trade_size1 > 0:\n",
    "            td_trade.place(ticker2,trade_size2)\n",
    "            td_trade.place(ticker1,trade_size1)\n",
    "        send_email(\"Trade process done.\",title=\"!Important! Pair Trade Order Placed for %s and %s\"%(ticker1,ticker2))\n",
    "    else:\n",
    "        print(\"No trade, skiped for %s and %s\"%(ticker1,ticker2))\n",
    "except Exception as e:\n",
    "    send_email(str(e),title=\"!Important! Pair Trade Place Order Error\")"
   ]
  },
  {
   "cell_type": "code",
   "execution_count": 3,
   "metadata": {},
   "outputs": [
    {
     "name": "stdout",
     "output_type": "stream",
     "text": [
      "Connection Successful\n"
     ]
    }
   ],
   "source": [
    "mongod = mongo(\"all_symbol\",\"pair_trade_sharp_2021_500\")\n",
    "candid = pd.DataFrame(mongod.conn.table.find({\"Sharp_Ratio\":{\"$exists\":True}}))"
   ]
  },
  {
   "cell_type": "code",
   "execution_count": 7,
   "metadata": {},
   "outputs": [
    {
     "data": {
      "text/html": [
       "<div>\n",
       "<style scoped>\n",
       "    .dataframe tbody tr th:only-of-type {\n",
       "        vertical-align: middle;\n",
       "    }\n",
       "\n",
       "    .dataframe tbody tr th {\n",
       "        vertical-align: top;\n",
       "    }\n",
       "\n",
       "    .dataframe thead th {\n",
       "        text-align: right;\n",
       "    }\n",
       "</style>\n",
       "<table border=\"1\" class=\"dataframe\">\n",
       "  <thead>\n",
       "    <tr style=\"text-align: right;\">\n",
       "      <th></th>\n",
       "      <th>_id</th>\n",
       "      <th>Ticker_1</th>\n",
       "      <th>Ticker_2</th>\n",
       "      <th>End_Value</th>\n",
       "      <th>Avg_Return</th>\n",
       "      <th>Sharp_Ratio</th>\n",
       "      <th>Min_Return</th>\n",
       "      <th>Max_Return</th>\n",
       "      <th>Refresh_Date</th>\n",
       "    </tr>\n",
       "  </thead>\n",
       "  <tbody>\n",
       "    <tr>\n",
       "      <th>13355</th>\n",
       "      <td>612facb382f24db0e85f9777</td>\n",
       "      <td>ACA</td>\n",
       "      <td>DK</td>\n",
       "      <td>587.9126</td>\n",
       "      <td>0.0007</td>\n",
       "      <td>0.0707</td>\n",
       "      <td>-0.0254</td>\n",
       "      <td>0.0955</td>\n",
       "      <td>2021-08-31 00:00:00+00:00</td>\n",
       "    </tr>\n",
       "  </tbody>\n",
       "</table>\n",
       "</div>"
      ],
      "text/plain": [
       "                            _id Ticker_1 Ticker_2  End_Value  Avg_Return  \\\n",
       "13355  612facb382f24db0e85f9777      ACA       DK   587.9126      0.0007   \n",
       "\n",
       "       Sharp_Ratio  Min_Return  Max_Return              Refresh_Date  \n",
       "13355       0.0707     -0.0254      0.0955 2021-08-31 00:00:00+00:00  "
      ]
     },
     "execution_count": 7,
     "metadata": {},
     "output_type": "execute_result"
    }
   ],
   "source": [
    "candid[(candid.Ticker_1 == \"ACA\")&(candid.Ticker_2 == \"DK\")]"
   ]
  },
  {
   "cell_type": "code",
   "execution_count": 50,
   "metadata": {},
   "outputs": [
    {
     "name": "stdout",
     "output_type": "stream",
     "text": [
      "All price data of Close is actually Adj Close\n",
      "('Finished', 'ACA')\n",
      "All price data of Close is actually Adj Close\n",
      "('Finished', 'DK')\n"
     ]
    },
    {
     "name": "stderr",
     "output_type": "stream",
     "text": [
      "/home/ken/miniconda3/lib/python3.7/site-packages/scipy/stats/_stats_mstats_common.py:160: RuntimeWarning: invalid value encountered in double_scalars\n",
      "  slope = ssxym / ssxm\n",
      "/home/ken/miniconda3/lib/python3.7/site-packages/scipy/stats/_stats_mstats_common.py:174: RuntimeWarning: invalid value encountered in sqrt\n",
      "  t = r * np.sqrt(df / ((1.0 - r + TINY)*(1.0 + r + TINY)))\n",
      "/home/ken/miniconda3/lib/python3.7/site-packages/scipy/stats/_stats_mstats_common.py:176: RuntimeWarning: invalid value encountered in double_scalars\n",
      "  slope_stderr = np.sqrt((1 - r**2) * ssym / ssxm / df)\n"
     ]
    },
    {
     "data": {
      "text/html": [
       "<div>\n",
       "<style scoped>\n",
       "    .dataframe tbody tr th:only-of-type {\n",
       "        vertical-align: middle;\n",
       "    }\n",
       "\n",
       "    .dataframe tbody tr th {\n",
       "        vertical-align: top;\n",
       "    }\n",
       "\n",
       "    .dataframe thead th {\n",
       "        text-align: right;\n",
       "    }\n",
       "</style>\n",
       "<table border=\"1\" class=\"dataframe\">\n",
       "  <thead>\n",
       "    <tr style=\"text-align: right;\">\n",
       "      <th></th>\n",
       "      <th>relative</th>\n",
       "      <th>relative_mv</th>\n",
       "      <th>stock1</th>\n",
       "      <th>stock2</th>\n",
       "      <th>slope</th>\n",
       "      <th>hedge_ratio</th>\n",
       "      <th>z_score</th>\n",
       "      <th>up</th>\n",
       "      <th>mid</th>\n",
       "      <th>low</th>\n",
       "      <th>buy_line</th>\n",
       "      <th>sell_line</th>\n",
       "      <th>cash</th>\n",
       "      <th>buying_power</th>\n",
       "      <th>margin1</th>\n",
       "      <th>margin2</th>\n",
       "      <th>size1</th>\n",
       "      <th>size2</th>\n",
       "      <th>holddays</th>\n",
       "      <th>total_value</th>\n",
       "    </tr>\n",
       "    <tr>\n",
       "      <th>TimeStamp</th>\n",
       "      <th></th>\n",
       "      <th></th>\n",
       "      <th></th>\n",
       "      <th></th>\n",
       "      <th></th>\n",
       "      <th></th>\n",
       "      <th></th>\n",
       "      <th></th>\n",
       "      <th></th>\n",
       "      <th></th>\n",
       "      <th></th>\n",
       "      <th></th>\n",
       "      <th></th>\n",
       "      <th></th>\n",
       "      <th></th>\n",
       "      <th></th>\n",
       "      <th></th>\n",
       "      <th></th>\n",
       "      <th></th>\n",
       "      <th></th>\n",
       "    </tr>\n",
       "  </thead>\n",
       "  <tbody>\n",
       "    <tr>\n",
       "      <th>2020-09-08</th>\n",
       "      <td>-0.0008</td>\n",
       "      <td>0.0008</td>\n",
       "      <td>46.4246</td>\n",
       "      <td>13.4300</td>\n",
       "      <td>-0.0088</td>\n",
       "      <td>0.2893</td>\n",
       "      <td>-0.5441</td>\n",
       "      <td>0.7507</td>\n",
       "      <td>-0.1280</td>\n",
       "      <td>-1.0066</td>\n",
       "      <td>-2.0000</td>\n",
       "      <td>2.0000</td>\n",
       "      <td>500.0000</td>\n",
       "      <td>500.0000</td>\n",
       "      <td>0.0000</td>\n",
       "      <td>0.0000</td>\n",
       "      <td>0</td>\n",
       "      <td>0</td>\n",
       "      <td>0</td>\n",
       "      <td>500.0000</td>\n",
       "    </tr>\n",
       "    <tr>\n",
       "      <th>2020-09-09</th>\n",
       "      <td>-0.0008</td>\n",
       "      <td>0.0008</td>\n",
       "      <td>46.4445</td>\n",
       "      <td>12.8400</td>\n",
       "      <td>-0.0088</td>\n",
       "      <td>0.2893</td>\n",
       "      <td>-0.5441</td>\n",
       "      <td>0.7507</td>\n",
       "      <td>-0.1280</td>\n",
       "      <td>-1.0066</td>\n",
       "      <td>-2.0000</td>\n",
       "      <td>2.0000</td>\n",
       "      <td>500.0000</td>\n",
       "      <td>500.0000</td>\n",
       "      <td>0.0000</td>\n",
       "      <td>0.0000</td>\n",
       "      <td>0</td>\n",
       "      <td>0</td>\n",
       "      <td>0</td>\n",
       "      <td>500.0000</td>\n",
       "    </tr>\n",
       "    <tr>\n",
       "      <th>2020-09-10</th>\n",
       "      <td>-0.0008</td>\n",
       "      <td>0.0008</td>\n",
       "      <td>44.4217</td>\n",
       "      <td>12.1500</td>\n",
       "      <td>-0.0088</td>\n",
       "      <td>0.2829</td>\n",
       "      <td>-0.5441</td>\n",
       "      <td>0.7507</td>\n",
       "      <td>-0.1280</td>\n",
       "      <td>-1.0066</td>\n",
       "      <td>-2.0000</td>\n",
       "      <td>2.0000</td>\n",
       "      <td>500.0000</td>\n",
       "      <td>500.0000</td>\n",
       "      <td>0.0000</td>\n",
       "      <td>0.0000</td>\n",
       "      <td>0</td>\n",
       "      <td>0</td>\n",
       "      <td>0</td>\n",
       "      <td>500.0000</td>\n",
       "    </tr>\n",
       "    <tr>\n",
       "      <th>2020-09-11</th>\n",
       "      <td>-0.0008</td>\n",
       "      <td>0.0008</td>\n",
       "      <td>44.3022</td>\n",
       "      <td>12.0600</td>\n",
       "      <td>-0.0088</td>\n",
       "      <td>0.2799</td>\n",
       "      <td>-0.5441</td>\n",
       "      <td>0.7507</td>\n",
       "      <td>-0.1280</td>\n",
       "      <td>-1.0066</td>\n",
       "      <td>-2.0000</td>\n",
       "      <td>2.0000</td>\n",
       "      <td>500.0000</td>\n",
       "      <td>500.0000</td>\n",
       "      <td>0.0000</td>\n",
       "      <td>0.0000</td>\n",
       "      <td>0</td>\n",
       "      <td>0</td>\n",
       "      <td>0</td>\n",
       "      <td>500.0000</td>\n",
       "    </tr>\n",
       "    <tr>\n",
       "      <th>2020-09-14</th>\n",
       "      <td>-0.0008</td>\n",
       "      <td>0.0008</td>\n",
       "      <td>43.4950</td>\n",
       "      <td>12.2000</td>\n",
       "      <td>0.3151</td>\n",
       "      <td>0.2781</td>\n",
       "      <td>-0.5441</td>\n",
       "      <td>0.7507</td>\n",
       "      <td>-0.1280</td>\n",
       "      <td>-1.0066</td>\n",
       "      <td>-2.0000</td>\n",
       "      <td>2.0000</td>\n",
       "      <td>500.0000</td>\n",
       "      <td>500.0000</td>\n",
       "      <td>0.0000</td>\n",
       "      <td>0.0000</td>\n",
       "      <td>0</td>\n",
       "      <td>0</td>\n",
       "      <td>0</td>\n",
       "      <td>500.0000</td>\n",
       "    </tr>\n",
       "    <tr>\n",
       "      <th>...</th>\n",
       "      <td>...</td>\n",
       "      <td>...</td>\n",
       "      <td>...</td>\n",
       "      <td>...</td>\n",
       "      <td>...</td>\n",
       "      <td>...</td>\n",
       "      <td>...</td>\n",
       "      <td>...</td>\n",
       "      <td>...</td>\n",
       "      <td>...</td>\n",
       "      <td>...</td>\n",
       "      <td>...</td>\n",
       "      <td>...</td>\n",
       "      <td>...</td>\n",
       "      <td>...</td>\n",
       "      <td>...</td>\n",
       "      <td>...</td>\n",
       "      <td>...</td>\n",
       "      <td>...</td>\n",
       "      <td>...</td>\n",
       "    </tr>\n",
       "    <tr>\n",
       "      <th>2021-08-27</th>\n",
       "      <td>-0.0021</td>\n",
       "      <td>0.0027</td>\n",
       "      <td>52.2300</td>\n",
       "      <td>16.9900</td>\n",
       "      <td>2.1737</td>\n",
       "      <td>0.3158</td>\n",
       "      <td>-1.5822</td>\n",
       "      <td>-1.2590</td>\n",
       "      <td>-1.6421</td>\n",
       "      <td>-2.0251</td>\n",
       "      <td>-1.2500</td>\n",
       "      <td>1.2500</td>\n",
       "      <td>215.5726</td>\n",
       "      <td>111.1126</td>\n",
       "      <td>0.0000</td>\n",
       "      <td>104.4600</td>\n",
       "      <td>8</td>\n",
       "      <td>-2</td>\n",
       "      <td>0</td>\n",
       "      <td>599.4326</td>\n",
       "    </tr>\n",
       "    <tr>\n",
       "      <th>2021-08-30</th>\n",
       "      <td>-0.0018</td>\n",
       "      <td>0.0026</td>\n",
       "      <td>51.4900</td>\n",
       "      <td>16.9200</td>\n",
       "      <td>2.0676</td>\n",
       "      <td>0.3162</td>\n",
       "      <td>-1.4615</td>\n",
       "      <td>-1.2767</td>\n",
       "      <td>-1.6478</td>\n",
       "      <td>-2.0189</td>\n",
       "      <td>-1.2500</td>\n",
       "      <td>1.2500</td>\n",
       "      <td>215.5726</td>\n",
       "      <td>111.1126</td>\n",
       "      <td>0.0000</td>\n",
       "      <td>104.4600</td>\n",
       "      <td>8</td>\n",
       "      <td>-2</td>\n",
       "      <td>1</td>\n",
       "      <td>593.6526</td>\n",
       "    </tr>\n",
       "    <tr>\n",
       "      <th>2021-08-31</th>\n",
       "      <td>-0.0025</td>\n",
       "      <td>0.0027</td>\n",
       "      <td>50.8200</td>\n",
       "      <td>17.1100</td>\n",
       "      <td>2.1593</td>\n",
       "      <td>0.3167</td>\n",
       "      <td>-1.7166</td>\n",
       "      <td>-1.3257</td>\n",
       "      <td>-1.6828</td>\n",
       "      <td>-2.0400</td>\n",
       "      <td>-1.2500</td>\n",
       "      <td>1.2500</td>\n",
       "      <td>215.5726</td>\n",
       "      <td>111.1126</td>\n",
       "      <td>0.0000</td>\n",
       "      <td>104.4600</td>\n",
       "      <td>8</td>\n",
       "      <td>-2</td>\n",
       "      <td>2</td>\n",
       "      <td>587.9126</td>\n",
       "    </tr>\n",
       "    <tr>\n",
       "      <th>2021-09-01</th>\n",
       "      <td>-0.0015</td>\n",
       "      <td>0.0026</td>\n",
       "      <td>50.3700</td>\n",
       "      <td>16.6100</td>\n",
       "      <td>2.2383</td>\n",
       "      <td>0.3172</td>\n",
       "      <td>-1.3458</td>\n",
       "      <td>-1.1707</td>\n",
       "      <td>-1.6206</td>\n",
       "      <td>-2.0704</td>\n",
       "      <td>-1.2500</td>\n",
       "      <td>1.2500</td>\n",
       "      <td>215.5726</td>\n",
       "      <td>111.1126</td>\n",
       "      <td>0.0000</td>\n",
       "      <td>104.4600</td>\n",
       "      <td>8</td>\n",
       "      <td>-2</td>\n",
       "      <td>3</td>\n",
       "      <td>585.3126</td>\n",
       "    </tr>\n",
       "    <tr>\n",
       "      <th>2021-09-02</th>\n",
       "      <td>-0.0002</td>\n",
       "      <td>0.0025</td>\n",
       "      <td>51.1800</td>\n",
       "      <td>16.7300</td>\n",
       "      <td>2.3819</td>\n",
       "      <td>0.3176</td>\n",
       "      <td>-0.8850</td>\n",
       "      <td>-0.8287</td>\n",
       "      <td>-1.3982</td>\n",
       "      <td>-1.9677</td>\n",
       "      <td>-1.2500</td>\n",
       "      <td>1.2500</td>\n",
       "      <td>215.5726</td>\n",
       "      <td>111.1126</td>\n",
       "      <td>0.0000</td>\n",
       "      <td>104.4600</td>\n",
       "      <td>8</td>\n",
       "      <td>-2</td>\n",
       "      <td>4</td>\n",
       "      <td>591.5526</td>\n",
       "    </tr>\n",
       "  </tbody>\n",
       "</table>\n",
       "<p>250 rows × 20 columns</p>\n",
       "</div>"
      ],
      "text/plain": [
       "            relative  relative_mv  stock1  stock2   slope  hedge_ratio  \\\n",
       "TimeStamp                                                                \n",
       "2020-09-08   -0.0008       0.0008 46.4246 13.4300 -0.0088       0.2893   \n",
       "2020-09-09   -0.0008       0.0008 46.4445 12.8400 -0.0088       0.2893   \n",
       "2020-09-10   -0.0008       0.0008 44.4217 12.1500 -0.0088       0.2829   \n",
       "2020-09-11   -0.0008       0.0008 44.3022 12.0600 -0.0088       0.2799   \n",
       "2020-09-14   -0.0008       0.0008 43.4950 12.2000  0.3151       0.2781   \n",
       "...              ...          ...     ...     ...     ...          ...   \n",
       "2021-08-27   -0.0021       0.0027 52.2300 16.9900  2.1737       0.3158   \n",
       "2021-08-30   -0.0018       0.0026 51.4900 16.9200  2.0676       0.3162   \n",
       "2021-08-31   -0.0025       0.0027 50.8200 17.1100  2.1593       0.3167   \n",
       "2021-09-01   -0.0015       0.0026 50.3700 16.6100  2.2383       0.3172   \n",
       "2021-09-02   -0.0002       0.0025 51.1800 16.7300  2.3819       0.3176   \n",
       "\n",
       "            z_score      up     mid     low  buy_line  sell_line     cash  \\\n",
       "TimeStamp                                                                   \n",
       "2020-09-08  -0.5441  0.7507 -0.1280 -1.0066   -2.0000     2.0000 500.0000   \n",
       "2020-09-09  -0.5441  0.7507 -0.1280 -1.0066   -2.0000     2.0000 500.0000   \n",
       "2020-09-10  -0.5441  0.7507 -0.1280 -1.0066   -2.0000     2.0000 500.0000   \n",
       "2020-09-11  -0.5441  0.7507 -0.1280 -1.0066   -2.0000     2.0000 500.0000   \n",
       "2020-09-14  -0.5441  0.7507 -0.1280 -1.0066   -2.0000     2.0000 500.0000   \n",
       "...             ...     ...     ...     ...       ...        ...      ...   \n",
       "2021-08-27  -1.5822 -1.2590 -1.6421 -2.0251   -1.2500     1.2500 215.5726   \n",
       "2021-08-30  -1.4615 -1.2767 -1.6478 -2.0189   -1.2500     1.2500 215.5726   \n",
       "2021-08-31  -1.7166 -1.3257 -1.6828 -2.0400   -1.2500     1.2500 215.5726   \n",
       "2021-09-01  -1.3458 -1.1707 -1.6206 -2.0704   -1.2500     1.2500 215.5726   \n",
       "2021-09-02  -0.8850 -0.8287 -1.3982 -1.9677   -1.2500     1.2500 215.5726   \n",
       "\n",
       "            buying_power  margin1  margin2  size1  size2  holddays  \\\n",
       "TimeStamp                                                            \n",
       "2020-09-08      500.0000   0.0000   0.0000      0      0         0   \n",
       "2020-09-09      500.0000   0.0000   0.0000      0      0         0   \n",
       "2020-09-10      500.0000   0.0000   0.0000      0      0         0   \n",
       "2020-09-11      500.0000   0.0000   0.0000      0      0         0   \n",
       "2020-09-14      500.0000   0.0000   0.0000      0      0         0   \n",
       "...                  ...      ...      ...    ...    ...       ...   \n",
       "2021-08-27      111.1126   0.0000 104.4600      8     -2         0   \n",
       "2021-08-30      111.1126   0.0000 104.4600      8     -2         1   \n",
       "2021-08-31      111.1126   0.0000 104.4600      8     -2         2   \n",
       "2021-09-01      111.1126   0.0000 104.4600      8     -2         3   \n",
       "2021-09-02      111.1126   0.0000 104.4600      8     -2         4   \n",
       "\n",
       "            total_value  \n",
       "TimeStamp                \n",
       "2020-09-08     500.0000  \n",
       "2020-09-09     500.0000  \n",
       "2020-09-10     500.0000  \n",
       "2020-09-11     500.0000  \n",
       "2020-09-14     500.0000  \n",
       "...                 ...  \n",
       "2021-08-27     599.4326  \n",
       "2021-08-30     593.6526  \n",
       "2021-08-31     587.9126  \n",
       "2021-09-01     585.3126  \n",
       "2021-09-02     591.5526  \n",
       "\n",
       "[250 rows x 20 columns]"
      ]
     },
     "execution_count": 50,
     "metadata": {},
     "output_type": "execute_result"
    }
   ],
   "source": [
    "ticker1=\"ACA\"\n",
    "ticker2=\"DK\"\n",
    "self_pair_trade(ticker1,ticker2,method = \"realtimeday\",cash = 500)"
   ]
  },
  {
   "cell_type": "code",
   "execution_count": 23,
   "metadata": {},
   "outputs": [],
   "source": [
    "def cancel_order(orderid):\n",
    "    return client.cancelOrder(277216702,orderid)"
   ]
  },
  {
   "cell_type": "code",
   "execution_count": 66,
   "metadata": {},
   "outputs": [
    {
     "name": "stdout",
     "output_type": "stream",
     "text": [
      "Connection Successful\n"
     ]
    }
   ],
   "source": [
    "mongod = mongo(\"all_symbol\",\"pair_trade_sharp_2021_500\")\n",
    "candid = pd.DataFrame(mongod.conn.table.find({\"Sharp_Ratio\":{\"$exists\":True}}).sort(\"Sharp_Ratio\",-1).limit(10))"
   ]
  },
  {
   "cell_type": "code",
   "execution_count": 67,
   "metadata": {},
   "outputs": [
    {
     "data": {
      "text/html": [
       "<div>\n",
       "<style scoped>\n",
       "    .dataframe tbody tr th:only-of-type {\n",
       "        vertical-align: middle;\n",
       "    }\n",
       "\n",
       "    .dataframe tbody tr th {\n",
       "        vertical-align: top;\n",
       "    }\n",
       "\n",
       "    .dataframe thead th {\n",
       "        text-align: right;\n",
       "    }\n",
       "</style>\n",
       "<table border=\"1\" class=\"dataframe\">\n",
       "  <thead>\n",
       "    <tr style=\"text-align: right;\">\n",
       "      <th></th>\n",
       "      <th>_id</th>\n",
       "      <th>Ticker_1</th>\n",
       "      <th>Ticker_2</th>\n",
       "      <th>End_Value</th>\n",
       "      <th>Avg_Return</th>\n",
       "      <th>Sharp_Ratio</th>\n",
       "      <th>Min_Return</th>\n",
       "      <th>Max_Return</th>\n",
       "      <th>Refresh_Date</th>\n",
       "    </tr>\n",
       "  </thead>\n",
       "  <tbody>\n",
       "    <tr>\n",
       "      <th>0</th>\n",
       "      <td>612e8add82f24db0e85ec8d1</td>\n",
       "      <td>A</td>\n",
       "      <td>BWXT</td>\n",
       "      <td>606.2036</td>\n",
       "      <td>0.0008</td>\n",
       "      <td>0.1951</td>\n",
       "      <td>-0.0172</td>\n",
       "      <td>0.0214</td>\n",
       "      <td>2021-08-31 00:00:00+00:00</td>\n",
       "    </tr>\n",
       "    <tr>\n",
       "      <th>1</th>\n",
       "      <td>612e8e3082f24db0e85ecb21</td>\n",
       "      <td>A</td>\n",
       "      <td>CTSH</td>\n",
       "      <td>559.9013</td>\n",
       "      <td>0.0005</td>\n",
       "      <td>0.1852</td>\n",
       "      <td>-0.0133</td>\n",
       "      <td>0.0137</td>\n",
       "      <td>2021-08-31 00:00:00+00:00</td>\n",
       "    </tr>\n",
       "    <tr>\n",
       "      <th>2</th>\n",
       "      <td>612e937d82f24db0e85eceeb</td>\n",
       "      <td>A</td>\n",
       "      <td>GILD</td>\n",
       "      <td>591.5851</td>\n",
       "      <td>0.0007</td>\n",
       "      <td>0.1842</td>\n",
       "      <td>-0.0147</td>\n",
       "      <td>0.0210</td>\n",
       "      <td>2021-08-31 00:00:00+00:00</td>\n",
       "    </tr>\n",
       "    <tr>\n",
       "      <th>3</th>\n",
       "      <td>612e9a2c82f24db0e85ed39d</td>\n",
       "      <td>A</td>\n",
       "      <td>MDLA</td>\n",
       "      <td>623.0133</td>\n",
       "      <td>0.0009</td>\n",
       "      <td>0.1698</td>\n",
       "      <td>-0.0172</td>\n",
       "      <td>0.0228</td>\n",
       "      <td>2021-08-31 00:00:00+00:00</td>\n",
       "    </tr>\n",
       "    <tr>\n",
       "      <th>4</th>\n",
       "      <td>612e8c1e82f24db0e85ec9ab</td>\n",
       "      <td>A</td>\n",
       "      <td>CHD</td>\n",
       "      <td>519.4292</td>\n",
       "      <td>0.0002</td>\n",
       "      <td>0.1667</td>\n",
       "      <td>-0.0023</td>\n",
       "      <td>0.0134</td>\n",
       "      <td>2021-08-31 00:00:00+00:00</td>\n",
       "    </tr>\n",
       "    <tr>\n",
       "      <th>5</th>\n",
       "      <td>612e9ab182f24db0e85ed3f9</td>\n",
       "      <td>A</td>\n",
       "      <td>MKC</td>\n",
       "      <td>521.2508</td>\n",
       "      <td>0.0002</td>\n",
       "      <td>0.1667</td>\n",
       "      <td>-0.0060</td>\n",
       "      <td>0.0083</td>\n",
       "      <td>2021-08-31 00:00:00+00:00</td>\n",
       "    </tr>\n",
       "    <tr>\n",
       "      <th>6</th>\n",
       "      <td>612e925c82f24db0e85ece1b</td>\n",
       "      <td>A</td>\n",
       "      <td>FIXX</td>\n",
       "      <td>636.0371</td>\n",
       "      <td>0.0010</td>\n",
       "      <td>0.1667</td>\n",
       "      <td>-0.0208</td>\n",
       "      <td>0.0247</td>\n",
       "      <td>2021-08-31 00:00:00+00:00</td>\n",
       "    </tr>\n",
       "    <tr>\n",
       "      <th>7</th>\n",
       "      <td>612e861b82f24db0e85ec587</td>\n",
       "      <td>A</td>\n",
       "      <td>ACAD</td>\n",
       "      <td>607.3677</td>\n",
       "      <td>0.0008</td>\n",
       "      <td>0.1633</td>\n",
       "      <td>-0.0146</td>\n",
       "      <td>0.0531</td>\n",
       "      <td>2021-08-31 00:00:00+00:00</td>\n",
       "    </tr>\n",
       "    <tr>\n",
       "      <th>8</th>\n",
       "      <td>612e97f682f24db0e85ed20d</td>\n",
       "      <td>A</td>\n",
       "      <td>KPTI</td>\n",
       "      <td>613.8159</td>\n",
       "      <td>0.0008</td>\n",
       "      <td>0.1633</td>\n",
       "      <td>-0.0208</td>\n",
       "      <td>0.0257</td>\n",
       "      <td>2021-08-31 00:00:00+00:00</td>\n",
       "    </tr>\n",
       "    <tr>\n",
       "      <th>9</th>\n",
       "      <td>612e9c4d82f24db0e85ed519</td>\n",
       "      <td>A</td>\n",
       "      <td>NLS</td>\n",
       "      <td>605.3867</td>\n",
       "      <td>0.0008</td>\n",
       "      <td>0.1633</td>\n",
       "      <td>-0.0184</td>\n",
       "      <td>0.0254</td>\n",
       "      <td>2021-08-31 00:00:00+00:00</td>\n",
       "    </tr>\n",
       "  </tbody>\n",
       "</table>\n",
       "</div>"
      ],
      "text/plain": [
       "                        _id Ticker_1 Ticker_2  End_Value  Avg_Return  \\\n",
       "0  612e8add82f24db0e85ec8d1        A     BWXT   606.2036      0.0008   \n",
       "1  612e8e3082f24db0e85ecb21        A     CTSH   559.9013      0.0005   \n",
       "2  612e937d82f24db0e85eceeb        A     GILD   591.5851      0.0007   \n",
       "3  612e9a2c82f24db0e85ed39d        A     MDLA   623.0133      0.0009   \n",
       "4  612e8c1e82f24db0e85ec9ab        A      CHD   519.4292      0.0002   \n",
       "5  612e9ab182f24db0e85ed3f9        A      MKC   521.2508      0.0002   \n",
       "6  612e925c82f24db0e85ece1b        A     FIXX   636.0371      0.0010   \n",
       "7  612e861b82f24db0e85ec587        A     ACAD   607.3677      0.0008   \n",
       "8  612e97f682f24db0e85ed20d        A     KPTI   613.8159      0.0008   \n",
       "9  612e9c4d82f24db0e85ed519        A      NLS   605.3867      0.0008   \n",
       "\n",
       "   Sharp_Ratio  Min_Return  Max_Return              Refresh_Date  \n",
       "0       0.1951     -0.0172      0.0214 2021-08-31 00:00:00+00:00  \n",
       "1       0.1852     -0.0133      0.0137 2021-08-31 00:00:00+00:00  \n",
       "2       0.1842     -0.0147      0.0210 2021-08-31 00:00:00+00:00  \n",
       "3       0.1698     -0.0172      0.0228 2021-08-31 00:00:00+00:00  \n",
       "4       0.1667     -0.0023      0.0134 2021-08-31 00:00:00+00:00  \n",
       "5       0.1667     -0.0060      0.0083 2021-08-31 00:00:00+00:00  \n",
       "6       0.1667     -0.0208      0.0247 2021-08-31 00:00:00+00:00  \n",
       "7       0.1633     -0.0146      0.0531 2021-08-31 00:00:00+00:00  \n",
       "8       0.1633     -0.0208      0.0257 2021-08-31 00:00:00+00:00  \n",
       "9       0.1633     -0.0184      0.0254 2021-08-31 00:00:00+00:00  "
      ]
     },
     "execution_count": 67,
     "metadata": {},
     "output_type": "execute_result"
    }
   ],
   "source": [
    "candid"
   ]
  },
  {
   "cell_type": "code",
   "execution_count": 30,
   "metadata": {},
   "outputs": [
    {
     "name": "stdout",
     "output_type": "stream",
     "text": [
      "Connection Successful\n"
     ]
    }
   ],
   "source": [
    "log = get_pair_trade_log(\"AA_RUN\")"
   ]
  },
  {
   "cell_type": "code",
   "execution_count": 46,
   "metadata": {},
   "outputs": [
    {
     "data": {
      "text/html": [
       "<div>\n",
       "<style scoped>\n",
       "    .dataframe tbody tr th:only-of-type {\n",
       "        vertical-align: middle;\n",
       "    }\n",
       "\n",
       "    .dataframe tbody tr th {\n",
       "        vertical-align: top;\n",
       "    }\n",
       "\n",
       "    .dataframe thead th {\n",
       "        text-align: right;\n",
       "    }\n",
       "</style>\n",
       "<table border=\"1\" class=\"dataframe\">\n",
       "  <thead>\n",
       "    <tr style=\"text-align: right;\">\n",
       "      <th></th>\n",
       "      <th>_id</th>\n",
       "      <th>TimeStamp</th>\n",
       "      <th>Ticker1</th>\n",
       "      <th>Ticker2</th>\n",
       "      <th>size1</th>\n",
       "      <th>size2</th>\n",
       "      <th>Price1</th>\n",
       "      <th>Price2</th>\n",
       "    </tr>\n",
       "  </thead>\n",
       "  <tbody>\n",
       "    <tr>\n",
       "      <th>0</th>\n",
       "      <td>61322b143d0072716eb06a2e</td>\n",
       "      <td>2021-09-03 07:03:00.887000+00:00</td>\n",
       "      <td>AA</td>\n",
       "      <td>RUN</td>\n",
       "      <td>5.0000</td>\n",
       "      <td>-5.0000</td>\n",
       "      <td>None</td>\n",
       "      <td>None</td>\n",
       "    </tr>\n",
       "    <tr>\n",
       "      <th>1</th>\n",
       "      <td>612f95a73cf3b515f48eecf0</td>\n",
       "      <td>2021-09-01 08:00:55.168000+00:00</td>\n",
       "      <td>AA</td>\n",
       "      <td>RUN</td>\n",
       "      <td>19.0000</td>\n",
       "      <td>-22.0000</td>\n",
       "      <td>None</td>\n",
       "      <td>None</td>\n",
       "    </tr>\n",
       "  </tbody>\n",
       "</table>\n",
       "</div>"
      ],
      "text/plain": [
       "                        _id                        TimeStamp Ticker1 Ticker2  \\\n",
       "0  61322b143d0072716eb06a2e 2021-09-03 07:03:00.887000+00:00      AA     RUN   \n",
       "1  612f95a73cf3b515f48eecf0 2021-09-01 08:00:55.168000+00:00      AA     RUN   \n",
       "\n",
       "    size1    size2 Price1 Price2  \n",
       "0  5.0000  -5.0000   None   None  \n",
       "1 19.0000 -22.0000   None   None  "
      ]
     },
     "execution_count": 46,
     "metadata": {},
     "output_type": "execute_result"
    }
   ],
   "source": [
    "log"
   ]
  },
  {
   "cell_type": "code",
   "execution_count": 32,
   "metadata": {},
   "outputs": [
    {
     "data": {
      "text/plain": [
       "24.0"
      ]
     },
     "execution_count": 32,
     "metadata": {},
     "output_type": "execute_result"
    }
   ],
   "source": [
    "log[\"size1\"].sum()"
   ]
  },
  {
   "cell_type": "code",
   "execution_count": 33,
   "metadata": {},
   "outputs": [
    {
     "data": {
      "text/plain": [
       "-27.0"
      ]
     },
     "execution_count": 33,
     "metadata": {},
     "output_type": "execute_result"
    }
   ],
   "source": [
    "log[\"size2\"].sum()"
   ]
  },
  {
   "cell_type": "code",
   "execution_count": 29,
   "metadata": {},
   "outputs": [
    {
     "data": {
      "text/plain": [
       "19.0"
      ]
     },
     "execution_count": 29,
     "metadata": {},
     "output_type": "execute_result"
    }
   ],
   "source": [
    "current_size1"
   ]
  },
  {
   "cell_type": "code",
   "execution_count": 52,
   "metadata": {},
   "outputs": [
    {
     "name": "stdout",
     "output_type": "stream",
     "text": [
      "Connection Successful\n"
     ]
    },
    {
     "data": {
      "text/html": [
       "<div>\n",
       "<style scoped>\n",
       "    .dataframe tbody tr th:only-of-type {\n",
       "        vertical-align: middle;\n",
       "    }\n",
       "\n",
       "    .dataframe tbody tr th {\n",
       "        vertical-align: top;\n",
       "    }\n",
       "\n",
       "    .dataframe thead th {\n",
       "        text-align: right;\n",
       "    }\n",
       "</style>\n",
       "<table border=\"1\" class=\"dataframe\">\n",
       "  <thead>\n",
       "    <tr style=\"text-align: right;\">\n",
       "      <th></th>\n",
       "      <th>_id</th>\n",
       "      <th>TimeStamp</th>\n",
       "      <th>Ticker1</th>\n",
       "      <th>Ticker2</th>\n",
       "      <th>size1</th>\n",
       "      <th>size2</th>\n",
       "      <th>Price1</th>\n",
       "      <th>Price2</th>\n",
       "    </tr>\n",
       "  </thead>\n",
       "  <tbody>\n",
       "    <tr>\n",
       "      <th>0</th>\n",
       "      <td>61322b403d0072716eb06a32</td>\n",
       "      <td>2021-09-03 07:03:44.540000+00:00</td>\n",
       "      <td>ACC</td>\n",
       "      <td>AMH</td>\n",
       "      <td>-5.0000</td>\n",
       "      <td>4.0000</td>\n",
       "      <td>None</td>\n",
       "      <td>None</td>\n",
       "    </tr>\n",
       "    <tr>\n",
       "      <th>1</th>\n",
       "      <td>6130f572e4f81f0169fc362c</td>\n",
       "      <td>2021-09-02 09:01:54.048000+00:00</td>\n",
       "      <td>ACC</td>\n",
       "      <td>AMH</td>\n",
       "      <td>-5.0000</td>\n",
       "      <td>4.0000</td>\n",
       "      <td>None</td>\n",
       "      <td>None</td>\n",
       "    </tr>\n",
       "  </tbody>\n",
       "</table>\n",
       "</div>"
      ],
      "text/plain": [
       "                        _id                        TimeStamp Ticker1 Ticker2  \\\n",
       "0  61322b403d0072716eb06a32 2021-09-03 07:03:44.540000+00:00     ACC     AMH   \n",
       "1  6130f572e4f81f0169fc362c 2021-09-02 09:01:54.048000+00:00     ACC     AMH   \n",
       "\n",
       "    size1  size2 Price1 Price2  \n",
       "0 -5.0000 4.0000   None   None  \n",
       "1 -5.0000 4.0000   None   None  "
      ]
     },
     "execution_count": 52,
     "metadata": {},
     "output_type": "execute_result"
    }
   ],
   "source": [
    "get_pair_trade_log(\"ACC_AMH\")"
   ]
  },
  {
   "cell_type": "code",
   "execution_count": 47,
   "metadata": {},
   "outputs": [
    {
     "name": "stdout",
     "output_type": "stream",
     "text": [
      "Connection Successful\n",
      "Connection Successful\n",
      "Connection Successful\n",
      "Connection Successful\n",
      "Connection Successful\n"
     ]
    },
    {
     "data": {
      "text/plain": [
       "['ACA_GTHX', 'ACA_DK', 'AA_RUN', 'ACC_AMH']"
      ]
     },
     "execution_count": 47,
     "metadata": {},
     "output_type": "execute_result"
    }
   ],
   "source": [
    "get_pair_open_opsition()"
   ]
  },
  {
   "cell_type": "code",
   "execution_count": 43,
   "metadata": {},
   "outputs": [
    {
     "name": "stdout",
     "output_type": "stream",
     "text": [
      "All price data of Close is actually Adj Close\n",
      "('Finished', 'AA')\n",
      "All price data of Close is actually Adj Close\n",
      "('Finished', 'RUN')\n"
     ]
    },
    {
     "name": "stderr",
     "output_type": "stream",
     "text": [
      "/home/ken/miniconda3/lib/python3.7/site-packages/scipy/stats/_stats_mstats_common.py:160: RuntimeWarning: invalid value encountered in double_scalars\n",
      "  slope = ssxym / ssxm\n",
      "/home/ken/miniconda3/lib/python3.7/site-packages/scipy/stats/_stats_mstats_common.py:174: RuntimeWarning: invalid value encountered in sqrt\n",
      "  t = r * np.sqrt(df / ((1.0 - r + TINY)*(1.0 + r + TINY)))\n",
      "/home/ken/miniconda3/lib/python3.7/site-packages/scipy/stats/_stats_mstats_common.py:176: RuntimeWarning: invalid value encountered in double_scalars\n",
      "  slope_stderr = np.sqrt((1 - r**2) * ssym / ssxm / df)\n"
     ]
    },
    {
     "name": "stdout",
     "output_type": "stream",
     "text": [
      "Connection Successful\n"
     ]
    }
   ],
   "source": [
    "today_trade = self_pair_trade(ticker1,ticker2,method = \"realtimeday\",cash = 500).iloc[-1]\n",
    "\n",
    "ticker_combo = ticker1+\"_\"+ticker2\n",
    "log = get_pair_trade_log(ticker_combo)\n",
    "\n",
    "# day_diff = log[\"TimeStamp\"].astimezone(mytz) - datetime.now(mytz)\n",
    "\n",
    "\n",
    "if len(log) == 0:\n",
    "    current_size1 = 0\n",
    "    current_size2 = 0\n",
    "else:\n",
    "    \n",
    "    current_size1 = log[\"size1\"].sum()\n",
    "    current_size2 = log[\"size2\"].sum()\n",
    "\n",
    "\n",
    "new_size1 = today_trade[\"size1\"]\n",
    "new_size2 = today_trade[\"size2\"]\n",
    "\n",
    "\n",
    "trade_size1 = new_size1 - current_size1\n",
    "trade_size2 = new_size2 - current_size2"
   ]
  },
  {
   "cell_type": "code",
   "execution_count": 44,
   "metadata": {},
   "outputs": [
    {
     "data": {
      "text/plain": [
       "-19.0"
      ]
     },
     "execution_count": 44,
     "metadata": {},
     "output_type": "execute_result"
    }
   ],
   "source": [
    "trade_size1"
   ]
  },
  {
   "cell_type": "code",
   "execution_count": 45,
   "metadata": {},
   "outputs": [
    {
     "data": {
      "text/plain": [
       "22.0"
      ]
     },
     "execution_count": 45,
     "metadata": {},
     "output_type": "execute_result"
    }
   ],
   "source": [
    "trade_size2"
   ]
  },
  {
   "cell_type": "markdown",
   "metadata": {},
   "source": [
    "### DB manipulation"
   ]
  },
  {
   "cell_type": "code",
   "execution_count": 23,
   "metadata": {},
   "outputs": [
    {
     "name": "stdout",
     "output_type": "stream",
     "text": [
      "Connection Successful\n"
     ]
    }
   ],
   "source": [
    "ticker = ticker1+\"_\"+ticker2\n",
    "mongod = mongo(\"pair_trade_log\",ticker)\n",
    "mongod.conn.table.drop()"
   ]
  },
  {
   "cell_type": "code",
   "execution_count": 4,
   "metadata": {},
   "outputs": [
    {
     "name": "stdout",
     "output_type": "stream",
     "text": [
      "Connection Successful\n"
     ]
    },
    {
     "data": {
      "text/plain": [
       "['AA_RUN']"
      ]
     },
     "execution_count": 4,
     "metadata": {},
     "output_type": "execute_result"
    }
   ],
   "source": [
    "mongod = mongo(\"pair_trade_log\",\"pair_trade_log\")\n",
    "\n",
    "mongod.conn.db.list_collection_names()"
   ]
  },
  {
   "cell_type": "code",
   "execution_count": 24,
   "metadata": {},
   "outputs": [
    {
     "name": "stdout",
     "output_type": "stream",
     "text": [
      "Connection Successful\n"
     ]
    },
    {
     "data": {
      "text/plain": [
       "<pymongo.results.InsertOneResult at 0x7f76936a3320>"
      ]
     },
     "execution_count": 24,
     "metadata": {},
     "output_type": "execute_result"
    }
   ],
   "source": [
    "mongod = mongo(\"all_symbol\",\"td_not_shortable\")\n",
    "mongod.conn.table.insert_one({\"TimeStamp\":datetime.now(),\"symbol\":\"APR\"})"
   ]
  },
  {
   "cell_type": "code",
   "execution_count": 25,
   "metadata": {},
   "outputs": [
    {
     "data": {
      "text/html": [
       "<div>\n",
       "<style scoped>\n",
       "    .dataframe tbody tr th:only-of-type {\n",
       "        vertical-align: middle;\n",
       "    }\n",
       "\n",
       "    .dataframe tbody tr th {\n",
       "        vertical-align: top;\n",
       "    }\n",
       "\n",
       "    .dataframe thead th {\n",
       "        text-align: right;\n",
       "    }\n",
       "</style>\n",
       "<table border=\"1\" class=\"dataframe\">\n",
       "  <thead>\n",
       "    <tr style=\"text-align: right;\">\n",
       "      <th></th>\n",
       "      <th>_id</th>\n",
       "      <th>TimeStamp</th>\n",
       "      <th>symbol</th>\n",
       "    </tr>\n",
       "  </thead>\n",
       "  <tbody>\n",
       "    <tr>\n",
       "      <th>0</th>\n",
       "      <td>612d38fc849e5662f18dc997</td>\n",
       "      <td>2021-08-30 13:01:00.435000+00:00</td>\n",
       "      <td>APR</td>\n",
       "    </tr>\n",
       "  </tbody>\n",
       "</table>\n",
       "</div>"
      ],
      "text/plain": [
       "                        _id                        TimeStamp symbol\n",
       "0  612d38fc849e5662f18dc997 2021-08-30 13:01:00.435000+00:00    APR"
      ]
     },
     "execution_count": 25,
     "metadata": {},
     "output_type": "execute_result"
    }
   ],
   "source": [
    "pd.DataFrame(mongod.conn.table.find())"
   ]
  },
  {
   "cell_type": "code",
   "execution_count": 19,
   "metadata": {},
   "outputs": [
    {
     "data": {
      "text/plain": [
       "441.99"
      ]
     },
     "execution_count": 19,
     "metadata": {},
     "output_type": "execute_result"
    }
   ],
   "source": [
    "client.accountsDF().loc[0,\"currentBalances.availableFunds\"]"
   ]
  },
  {
   "cell_type": "code",
   "execution_count": null,
   "metadata": {},
   "outputs": [],
   "source": []
  }
 ],
 "metadata": {
  "kernelspec": {
   "display_name": "Python 3",
   "language": "python",
   "name": "python3"
  },
  "language_info": {
   "codemirror_mode": {
    "name": "ipython",
    "version": 3
   },
   "file_extension": ".py",
   "mimetype": "text/x-python",
   "name": "python",
   "nbconvert_exporter": "python",
   "pygments_lexer": "ipython3",
   "version": "3.7.7"
  }
 },
 "nbformat": 4,
 "nbformat_minor": 4
}
