{
 "cells": [
  {
   "cell_type": "code",
   "execution_count": 1,
   "metadata": {
    "scrolled": true
   },
   "outputs": [
    {
     "name": "stderr",
     "output_type": "stream",
     "text": [
      "/Users/ken/.local/lib/python3.8/site-packages/pyfolio/pos.py:26: UserWarning: Module \"zipline.assets\" not found; mutltipliers will not be applied to position notionals.\n",
      "  warnings.warn(\n"
     ]
    }
   ],
   "source": [
    "from my_libs_py3 import *"
   ]
  },
  {
   "cell_type": "code",
   "execution_count": 13,
   "metadata": {
    "collapsed": true
   },
   "outputs": [
    {
     "name": "stdout",
     "output_type": "stream",
     "text": [
      "All price data of Close is actually Adj Close\n",
      "Connection Successful\n",
      "('Finished', 'AAPL')\n",
      "All price data of Close is actually Adj Close\n",
      "Connection Successful\n",
      "('Finished', 'AAL')\n",
      "All price data of Close is actually Adj Close\n",
      "Connection Successful\n",
      "No active exception to reraise\n",
      "switching to realtimeday method\n",
      "All price data of Close is actually Adj Close\n",
      "('Finished', 'AAPL')\n",
      "('Finished', 'AAPL')\n",
      "All price data of Close is actually Adj Close\n",
      "Connection Successful\n",
      "No active exception to reraise\n",
      "switching to realtimeday method\n",
      "All price data of Close is actually Adj Close\n",
      "('Finished', 'AAL')\n",
      "('Finished', 'AAL')\n"
     ]
    }
   ],
   "source": [
    "volume1 = get_price_data([i], robinhood=robinhood,method =trade_scale).Volume.iloc[0]\n",
    "volume2 = get_price_data([j], robinhood=robinhood,method =trade_scale).Volume.iloc[0]\n",
    "\n",
    "# test if stock has in house data\n",
    "try:\n",
    "    price1 = get_price_data([i], robinhood=robinhood,method =trade_scale,back_day=backdays).Return.fillna(method=\"bfill\")\n",
    "    price2 = get_price_data([j], robinhood=robinhood,method =trade_scale,back_day=backdays).Return.fillna(method=\"bfill\")\n",
    "except:\n",
    "    # set to the same length\n",
    "    print(\"no data, using realtime method\")\n",
    "    price1 = get_price_data([i], method=\"realtimeday\",robinhood=robinhood,back_day=backdays).Return.fillna(method=\"bfill\")\n",
    "    price2 = get_price_data([j], method=\"realtimeday\",robinhood=robinhood,back_day=backdays).Return.fillna(method=\"bfill\")\n",
    "\n",
    "# test if stock has same length of historical data\n",
    "if len(price2) != len(price1):\n",
    "        print(\"*****\")\n",
    "        print(\"price1 and price2 not the same length\")\n"
   ]
  },
  {
   "cell_type": "code",
   "execution_count": null,
   "metadata": {},
   "outputs": [],
   "source": [
    "mongod.frame_to_mongo(collection_str=\"pair_not_same_length\",data=pd.DataFrame([(i,j,len(price1),len(price2),today)],\\\n",
    "                                columns=[\"Ticker_1\",\"Ticker_2\",\"T1_Len\",\"T2_Len\",\"Refresh_Date\"]),drop_mode=\"append\")"
   ]
  },
  {
   "cell_type": "code",
   "execution_count": null,
   "metadata": {},
   "outputs": [],
   "source": []
  }
 ],
 "metadata": {
  "kernelspec": {
   "display_name": "Python 3",
   "language": "python",
   "name": "python3"
  },
  "language_info": {
   "codemirror_mode": {
    "name": "ipython",
    "version": 3
   },
   "file_extension": ".py",
   "mimetype": "text/x-python",
   "name": "python",
   "nbconvert_exporter": "python",
   "pygments_lexer": "ipython3",
   "version": "3.8.3"
  }
 },
 "nbformat": 4,
 "nbformat_minor": 4
}
